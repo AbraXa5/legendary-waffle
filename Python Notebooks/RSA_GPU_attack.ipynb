{
  "nbformat": 4,
  "nbformat_minor": 0,
  "metadata": {
    "colab": {
      "name": "RSA GPU attack.ipynb",
      "provenance": [],
      "collapsed_sections": [],
      "toc_visible": true,
      "private_outputs": true
    },
    "kernelspec": {
      "display_name": "Python 3",
      "name": "python3"
    },
    "accelerator": "GPU"
  },
  "cells": [
    {
      "cell_type": "code",
      "metadata": {
        "id": "4RmtwwRNMpnv"
      },
      "source": [
        "!git clone https://github.com/Ganapati/RsaCtfTool.git"
      ],
      "execution_count": null,
      "outputs": []
    },
    {
      "cell_type": "markdown",
      "metadata": {
        "id": "lxPu0O2XKooA"
      },
      "source": [
        "# Setup"
      ]
    },
    {
      "cell_type": "code",
      "metadata": {
        "id": "hWvL3GwUM5fN"
      },
      "source": [
        "!sudo apt-get install libgmp3-dev libmpc-dev\n"
      ],
      "execution_count": null,
      "outputs": []
    },
    {
      "cell_type": "code",
      "metadata": {
        "id": "Sj3dtoZENABP"
      },
      "source": [
        "from google.colab import drive\n",
        "\n",
        "drive.mount('/content/drive')\n",
        "\n"
      ],
      "execution_count": null,
      "outputs": []
    },
    {
      "cell_type": "code",
      "metadata": {
        "id": "z2jOuzExNGAV"
      },
      "source": [
        "!ls /content/drive/MyDrive/\n",
        "!ln -s /content/drive/MyDrive/colab_dump /root/.test\n",
        "\n"
      ],
      "execution_count": null,
      "outputs": []
    },
    {
      "cell_type": "code",
      "metadata": {
        "id": "YTTZzK9wO5Mk"
      },
      "source": [
        "!cd RsaCtfTool/ && pip3 install -r \"requirements.txt\""
      ],
      "execution_count": null,
      "outputs": []
    },
    {
      "cell_type": "code",
      "metadata": {
        "id": "ahAEFPPkP5X2"
      },
      "source": [
        "!pip3 install sagemath"
      ],
      "execution_count": null,
      "outputs": []
    },
    {
      "cell_type": "code",
      "metadata": {
        "id": "Z6orwwrvS6hN"
      },
      "source": [
        "!sudo apt-add-repository ppa:aims/sagemath\n",
        "!sudo apt-get update\n",
        "!sudo apt-get install sagemath-upstream-binary"
      ],
      "execution_count": null,
      "outputs": []
    },
    {
      "cell_type": "code",
      "metadata": {
        "id": "FT2tR9R2TRZL"
      },
      "source": [
        "!sudo apt install sagemath"
      ],
      "execution_count": null,
      "outputs": []
    },
    {
      "cell_type": "markdown",
      "metadata": {
        "id": "0vWQlWrnKgeX"
      },
      "source": [
        "# Exec"
      ]
    },
    {
      "cell_type": "code",
      "metadata": {
        "id": "ngDXPJvaPYez"
      },
      "source": [
        "!cd RsaCtfTool/ && ./RsaCtfTool.py -e 65537 -n 1422450808944701344261903748621562998784243662042303391362692043823716783771691667 --private"
      ],
      "execution_count": null,
      "outputs": []
    },
    {
      "cell_type": "code",
      "metadata": {
        "id": "w-Q2mx9sR5tp"
      },
      "source": [
        "!cd RsaCtfTool/ && ./RsaCtfTool.py -e 65537 -n 1422450808944701344261903748621562998784243662042303391362692043823716783771691667 --createpub --private"
      ],
      "execution_count": null,
      "outputs": []
    },
    {
      "cell_type": "code",
      "metadata": {
        "id": "nQOt-nOrx2-z"
      },
      "source": [
        "!cd RsaCtfTool/ && ./RsaCtfTool.py -e 65537 -n 1422450808944701344261903748621562998784243662042303391362692043823716783771691667 --private --uncipher 843044897663847841476319711639772861390329326681532977209935413827620909782846667"
      ],
      "execution_count": null,
      "outputs": []
    },
    {
      "cell_type": "code",
      "metadata": {
        "id": "f_2D1UEJ10G3"
      },
      "source": [
        "!cd RsaCtfTool/ && ./RsaCtfTool.py -e 3 -n 21240130069302595435883573568292543584653982426668643904196630885984119007899960150162877143271928662185885422702123670222165981446412189843665571992895649937195036232374014356896167929469467494531756153911013832353810970941919101050971790197002016280790620714887304192321101311465703150098410331176735899796484284165771555960758054286754565310439163189954842301676099617954811528874343372426916478057819577132937062857039063351856289801979923260408285890418889829381378968646646737194160697920287161229178345666260994127087040393511692642122516019055570881253021165130706539874713965212158253699181636631222365809257 --private --uncipher 80505397907128518326368510654343095894448384569115420624567650731853204381479599216226376345254941090872832963619259274943986478887206647256170253591735005504"
      ],
      "execution_count": null,
      "outputs": []
    },
    {
      "cell_type": "code",
      "metadata": {
        "id": "UjpeSUPpRy_J"
      },
      "source": [
        "!cd RsaCtfTool/ && ./RsaCtfTool.py -h"
      ],
      "execution_count": null,
      "outputs": []
    }
  ]
}