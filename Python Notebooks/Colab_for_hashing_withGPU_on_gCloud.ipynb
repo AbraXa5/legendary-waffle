{
  "cells": [
    {
      "cell_type": "code",
      "execution_count": null,
      "metadata": {
        "colab": {
          "base_uri": "https://localhost:8080/"
        },
        "id": "BW_eLoz1mqcu",
        "outputId": "b11de40d-0acc-4149-d9cc-240047e704ac"
      },
      "outputs": [
        {
          "name": "stdout",
          "output_type": "stream",
          "text": [
            "Keep the console active\n"
          ]
        }
      ],
      "source": [
        "!echo \"Keep the console active\""
      ]
    },
    {
      "cell_type": "markdown",
      "metadata": {
        "id": "3Z8cK8h2Avbv"
      },
      "source": [
        "\n",
        "# To put in console to stay active\n",
        "\n",
        "```\n",
        "<code>function ClickConnect(){\n",
        "console.log(\"Working\"); \n",
        "document.querySelector(\"colab-connect-button\").click() \n",
        "}setInterval(ClickConnect,6000)</code>\n",
        "```\n",
        "\n"
      ]
    },
    {
      "cell_type": "code",
      "execution_count": null,
      "metadata": {
        "id": "s7OjkFpN5VKM"
      },
      "outputs": [],
      "source": [
        "#@title ← Clear RAM > Crash the entire thing by using the entire RAM\n",
        "some_str = ' ' * 5120000000000 "
      ]
    },
    {
      "cell_type": "markdown",
      "metadata": {
        "id": "BGvvkbcD-duE"
      },
      "source": [
        "# **Start Setup**\n",
        "\n",
        "Make a folder named *hashing* in the root driver folder\n",
        "\n",
        "Change runtime to GPU "
      ]
    },
    {
      "cell_type": "code",
      "execution_count": null,
      "metadata": {
        "colab": {
          "base_uri": "https://localhost:8080/"
        },
        "id": "siKsfdBRkAeJ",
        "outputId": "d584af68-9e12-43a4-b5ae-22706222ad8d"
      },
      "outputs": [
        {
          "name": "stdout",
          "output_type": "stream",
          "text": [
            "Mounted at /content/drive\n"
          ]
        }
      ],
      "source": [
        "#Create a directory with name sth in your Google drive\n",
        "from google.colab import drive\n",
        "#Mounting the gdrive,will ask for authorization code\n",
        "drive.mount('/content/drive')"
      ]
    },
    {
      "cell_type": "code",
      "execution_count": null,
      "metadata": {
        "colab": {
          "base_uri": "https://localhost:8080/"
        },
        "id": "TaxRsePYn34F",
        "outputId": "9f0c5f4f-0453-4d0d-f8ea-4143c9e04a8f"
      },
      "outputs": [
        {
          "name": "stdout",
          "output_type": "stream",
          "text": [
            "'Amazon Forest 15 GB Sat Images Dataset'   hashing\n",
            " Classroom\t\t\t\t   kaggle.json\n",
            " colab_dump\t\t\t\t  'NetSecFocus Trophy Room.gsheet'\n",
            "'Colab Notebooks'\t\t\t  'Other Crap'\n",
            " Cyber_json\t\t\t\t  'Project Vm fiels'\n",
            " GDToT\t\t\t\t\t   sth\n",
            "'Getting started.pdf'\n"
          ]
        }
      ],
      "source": [
        "#checking for the remote dir\n",
        "!ls /content/drive/MyDrive/\n",
        "\n",
        "#symbolic link\n",
        "!ln -sf /content/drive/MyDrive/hashing /root/remote\n",
        "\n",
        "#saving rockyou.txt -> need to update\n",
        "!wget -q https://github.com/brannondorsey/naive-hashcat/releases/download/data/rockyou.txt -O /root/remote/rockyou.txt\n"
      ]
    },
    {
      "cell_type": "code",
      "execution_count": null,
      "metadata": {
        "colab": {
          "base_uri": "https://localhost:8080/"
        },
        "id": "xX8YDASH56Ap",
        "outputId": "62bff69f-6d96-4470-c27a-ed1413c29930"
      },
      "outputs": [
        {
          "name": "stdout",
          "output_type": "stream",
          "text": [
            "etchashes.txt  hash-id.py.1  idrsa.id_rsa  rockyou.txt\tssh2john.py\n",
            "hash7.txt      hash-id.py.2  ntlm.txt\t   secure.rar\n",
            "hash-id.py     hash.txt      other.txt\t   secure.zip\n"
          ]
        }
      ],
      "source": [
        "#checking for rockyou.txt\n",
        "!ls /root/remote"
      ]
    },
    {
      "cell_type": "markdown",
      "metadata": {
        "id": "ExBckXqOYyYW"
      },
      "source": [
        "# **Installing all required Crap**"
      ]
    },
    {
      "cell_type": "markdown",
      "metadata": {
        "id": "HwMCxVBV8pMG"
      },
      "source": [
        "## **Installing Search that Hash**"
      ]
    },
    {
      "cell_type": "code",
      "execution_count": null,
      "metadata": {
        "colab": {
          "base_uri": "https://localhost:8080/"
        },
        "id": "GMkAKFTv8xVW",
        "outputId": "a19b4d68-688c-44ae-9b0d-66b7413edcf0"
      },
      "outputs": [
        {
          "name": "stdout",
          "output_type": "stream",
          "text": [
            "\u001b[?25l\r\u001b[K     |█████▎                          | 10 kB 21.1 MB/s eta 0:00:01\r\u001b[K     |██████████▌                     | 20 kB 27.4 MB/s eta 0:00:01\r\u001b[K     |███████████████▉                | 30 kB 30.1 MB/s eta 0:00:01\r\u001b[K     |█████████████████████           | 40 kB 20.7 MB/s eta 0:00:01\r\u001b[K     |██████████████████████████▎     | 51 kB 23.8 MB/s eta 0:00:01\r\u001b[K     |███████████████████████████████▋| 61 kB 21.1 MB/s eta 0:00:01\r\u001b[K     |████████████████████████████████| 62 kB 691 kB/s \n",
            "\u001b[K     |████████████████████████████████| 96 kB 4.3 MB/s \n",
            "\u001b[K     |████████████████████████████████| 57 kB 4.2 MB/s \n",
            "\u001b[K     |████████████████████████████████| 197 kB 34.6 MB/s \n",
            "\u001b[K     |████████████████████████████████| 46 kB 3.2 MB/s \n",
            "\u001b[K     |████████████████████████████████| 54 kB 2.4 MB/s \n",
            "\u001b[K     |████████████████████████████████| 86 kB 4.6 MB/s \n",
            "\u001b[K     |████████████████████████████████| 51 kB 5.7 MB/s \n",
            "\u001b[31mERROR: pip's dependency resolver does not currently take into account all the packages that are installed. This behaviour is the source of the following dependency conflicts.\n",
            "google-colab 1.0.0 requires requests~=2.23.0, but you have requests 2.26.0 which is incompatible.\n",
            "datascience 0.10.6 requires folium==0.2.1, but you have folium 0.8.3 which is incompatible.\u001b[0m\n",
            "\u001b[?25h"
          ]
        }
      ],
      "source": [
        "#installing search-that-hash\n",
        "!pip3 -q install search-that-hash"
      ]
    },
    {
      "cell_type": "code",
      "execution_count": null,
      "metadata": {
        "colab": {
          "base_uri": "https://localhost:8080/"
        },
        "id": "VF6IZPNM3Nws",
        "outputId": "8d862154-0ce2-462e-fc5d-65748543704f"
      },
      "outputs": [
        {
          "name": "stdout",
          "output_type": "stream",
          "text": [
            "Usage: sth [OPTIONS]\n",
            "\n",
            "  Search-That-Hash - The fastest way to crack\n",
            "  any hash.\n",
            "\n",
            "  GitHub:\n",
            "\n",
            "          https://github.com/HashPals/Search-\n",
            "          That-Hash\n",
            "\n",
            "  Discord:\n",
            "\n",
            "          https://discord.gg/CswayhQ8Ru\n",
            "\n",
            "  Usage:\n",
            "\n",
            "          sth --text\n",
            "          \"5f4dcc3b5aa765d61d8327deb882cf99\"\n",
            "\n",
            "Options:\n",
            "  -t, --text TEXT        Crack a single hash.\n",
            "  -f, --file FILENAME    The file of hashes,\n",
            "                         seperated by newlines.\n",
            "\n",
            "  -w, --wordlist TEXT    The wordlist you want to\n",
            "                         use for Hashcat.\n",
            "\n",
            "  --timeout INTEGER      Choose timeout in\n",
            "                         seconds.\n",
            "\n",
            "  -g, --greppable        Prints as JSON, use this\n",
            "                         to grep.\n",
            "\n",
            "  --hashcat_binary TEXT  Location of hashcat\n",
            "                         folder (if using\n",
            "                         windows).\n",
            "\n",
            "  -o, --offline          Use offline mode. Does\n",
            "                         not search for hashes in\n",
            "                         APIs.\n",
            "\n",
            "  -v, --verbose          Turn on debugging logs.\n",
            "                         -vv for max.\n",
            "\n",
            "  --accessible           Makes the output\n",
            "                         accessible.\n",
            "\n",
            "  --no-banner            Doesn't print banner.\n",
            "  --help                 Show this message and\n",
            "                         exit.\n"
          ]
        }
      ],
      "source": [
        "!sth --help"
      ]
    },
    {
      "cell_type": "markdown",
      "metadata": {
        "id": "CZa7JP118jjR"
      },
      "source": [
        "## **Installing John**"
      ]
    },
    {
      "cell_type": "code",
      "execution_count": null,
      "metadata": {
        "colab": {
          "base_uri": "https://localhost:8080/"
        },
        "id": "Ow1BbbeTqgtw",
        "outputId": "220b27c5-84c3-43f9-fb0a-951345f29883"
      },
      "outputs": [
        {
          "name": "stdout",
          "output_type": "stream",
          "text": [
            "Reading package lists... Done\n",
            "Building dependency tree       \n",
            "Reading state information... Done\n",
            "The following additional packages will be installed:\n",
            "  john-data\n",
            "Suggested packages:\n",
            "  wordlist\n",
            "The following NEW packages will be installed:\n",
            "  john john-data\n",
            "0 upgraded, 2 newly installed, 0 to remove and 37 not upgraded.\n",
            "Need to get 4,466 kB of archives.\n",
            "After this operation, 7,875 kB of additional disk space will be used.\n",
            "Get:1 http://archive.ubuntu.com/ubuntu bionic/main amd64 john-data all 1.8.0-2build1 [4,276 kB]\n",
            "Get:2 http://archive.ubuntu.com/ubuntu bionic/main amd64 john amd64 1.8.0-2build1 [189 kB]\n",
            "Fetched 4,466 kB in 1s (3,419 kB/s)\n",
            "debconf: unable to initialize frontend: Dialog\n",
            "debconf: (No usable dialog-like program is installed, so the dialog based frontend cannot be used. at /usr/share/perl5/Debconf/FrontEnd/Dialog.pm line 76, <> line 2.)\n",
            "debconf: falling back to frontend: Readline\n",
            "debconf: unable to initialize frontend: Readline\n",
            "debconf: (This frontend requires a controlling tty.)\n",
            "debconf: falling back to frontend: Teletype\n",
            "dpkg-preconfigure: unable to re-open stdin: \n",
            "Selecting previously unselected package john-data.\n",
            "(Reading database ... 155222 files and directories currently installed.)\n",
            "Preparing to unpack .../john-data_1.8.0-2build1_all.deb ...\n",
            "Unpacking john-data (1.8.0-2build1) ...\n",
            "Selecting previously unselected package john.\n",
            "Preparing to unpack .../john_1.8.0-2build1_amd64.deb ...\n",
            "Unpacking john (1.8.0-2build1) ...\n",
            "Setting up john-data (1.8.0-2build1) ...\n",
            "Setting up john (1.8.0-2build1) ...\n",
            "Processing triggers for man-db (2.8.3-2ubuntu0.1) ...\n"
          ]
        }
      ],
      "source": [
        "!sudo apt-get install john -y"
      ]
    },
    {
      "cell_type": "code",
      "execution_count": null,
      "metadata": {
        "colab": {
          "base_uri": "https://localhost:8080/"
        },
        "id": "c-KCejHJrpE0",
        "outputId": "92ea65e6-1c1e-4e9c-add3-7c208afba336"
      },
      "outputs": [
        {
          "name": "stdout",
          "output_type": "stream",
          "text": [
            "Created directory: /root/.john\n",
            "Unknown option: \"--help\"\n"
          ]
        }
      ],
      "source": [
        "!john --help"
      ]
    },
    {
      "cell_type": "markdown",
      "metadata": {
        "id": "tDY6Ri6I-qvk"
      },
      "source": [
        "## **Installing Hashcat**"
      ]
    },
    {
      "cell_type": "code",
      "execution_count": null,
      "metadata": {
        "colab": {
          "base_uri": "https://localhost:8080/"
        },
        "id": "9buTLNbe6vEn",
        "outputId": "3fcb9f4d-65db-427f-8400-14a8caaa7504"
      },
      "outputs": [
        {
          "name": "stdout",
          "output_type": "stream",
          "text": [
            "Selecting previously unselected package libmagic-mgc.\n",
            "(Reading database ... \r(Reading database ... 5%\r(Reading database ... 10%\r(Reading database ... 15%\r(Reading database ... 20%\r(Reading database ... 25%\r(Reading database ... 30%\r(Reading database ... 35%\r(Reading database ... 40%\r(Reading database ... 45%\r(Reading database ... 50%\r(Reading database ... 55%\r(Reading database ... 60%\r(Reading database ... 65%\r(Reading database ... 70%\r(Reading database ... 75%\r(Reading database ... 80%\r(Reading database ... 85%\r(Reading database ... 90%\r(Reading database ... 95%\r(Reading database ... 100%\r(Reading database ... 155260 files and directories currently installed.)\n",
            "Preparing to unpack .../libmagic-mgc_1%3a5.32-2ubuntu0.4_amd64.deb ...\n",
            "Unpacking libmagic-mgc (1:5.32-2ubuntu0.4) ...\n",
            "Selecting previously unselected package libmagic1:amd64.\n",
            "Preparing to unpack .../libmagic1_1%3a5.32-2ubuntu0.4_amd64.deb ...\n",
            "Unpacking libmagic1:amd64 (1:5.32-2ubuntu0.4) ...\n",
            "Selecting previously unselected package file.\n",
            "Preparing to unpack .../file_1%3a5.32-2ubuntu0.4_amd64.deb ...\n",
            "Unpacking file (1:5.32-2ubuntu0.4) ...\n",
            "Selecting previously unselected package checkinstall.\n",
            "Preparing to unpack .../checkinstall_1.6.2-4ubuntu2_amd64.deb ...\n",
            "Unpacking checkinstall (1.6.2-4ubuntu2) ...\n",
            "Setting up libmagic-mgc (1:5.32-2ubuntu0.4) ...\n",
            "Setting up libmagic1:amd64 (1:5.32-2ubuntu0.4) ...\n",
            "Setting up file (1:5.32-2ubuntu0.4) ...\n",
            "Setting up checkinstall (1.6.2-4ubuntu2) ...\n",
            "Processing triggers for man-db (2.8.3-2ubuntu0.1) ...\n",
            "Processing triggers for libc-bin (2.27-3ubuntu1.3) ...\n",
            "/sbin/ldconfig.real: /usr/local/lib/python3.7/dist-packages/ideep4py/lib/libmkldnn.so.0 is not a symbolic link\n",
            "\n",
            "Cloning into 'hashcat'...\n",
            "remote: Enumerating objects: 74864, done.\u001b[K\n",
            "remote: Counting objects: 100% (2884/2884), done.\u001b[K\n",
            "remote: Compressing objects: 100% (632/632), done.\u001b[K\n",
            "remote: Total 74864 (delta 2439), reused 2618 (delta 2248), pack-reused 71980\n",
            "Receiving objects: 100% (74864/74864), 56.84 MiB | 19.69 MiB/s, done.\n",
            "Resolving deltas: 100% (63713/63713), done.\n",
            "gcc -c -std=gnu99 -W -Wall -Wextra -O2 -pipe -Iinclude/ -IOpenCL/ -Ideps/LZMA-SDK/C -Ideps/zlib -Ideps/zlib/contrib -Ideps/OpenCL-Headers -DWITH_BRAIN -Ideps/xxHash -DWITH_CUBIN -Ideps/unrar -DWITH_HWMON src/affinity.c -o obj/affinity.NATIVE.o -fpic\n",
            "gcc -c -std=gnu99 -W -Wall -Wextra -O2 -pipe -Iinclude/ -IOpenCL/ -Ideps/LZMA-SDK/C -Ideps/zlib -Ideps/zlib/contrib -Ideps/OpenCL-Headers -DWITH_BRAIN -Ideps/xxHash -DWITH_CUBIN -Ideps/unrar -DWITH_HWMON src/autotune.c -o obj/autotune.NATIVE.o -fpic\n",
            "gcc -c -std=gnu99 -W -Wall -Wextra -O2 -pipe -Iinclude/ -IOpenCL/ -Ideps/LZMA-SDK/C -Ideps/zlib -Ideps/zlib/contrib -Ideps/OpenCL-Headers -DWITH_BRAIN -Ideps/xxHash -DWITH_CUBIN -Ideps/unrar -DWITH_HWMON src/backend.c -o obj/backend.NATIVE.o -fpic\n",
            "gcc -c -std=gnu99 -W -Wall -Wextra -O2 -pipe -Iinclude/ -IOpenCL/ -Ideps/LZMA-SDK/C -Ideps/zlib -Ideps/zlib/contrib -Ideps/OpenCL-Headers -DWITH_BRAIN -Ideps/xxHash -DWITH_CUBIN -Ideps/unrar -DWITH_HWMON src/benchmark.c -o obj/benchmark.NATIVE.o -fpic\n",
            "gcc -c -std=gnu99 -W -Wall -Wextra -O2 -pipe -Iinclude/ -IOpenCL/ -Ideps/LZMA-SDK/C -Ideps/zlib -Ideps/zlib/contrib -Ideps/OpenCL-Headers -DWITH_BRAIN -Ideps/xxHash -DWITH_CUBIN -Ideps/unrar -DWITH_HWMON src/bitmap.c -o obj/bitmap.NATIVE.o -fpic\n",
            "gcc -c -std=gnu99 -W -Wall -Wextra -O2 -pipe -Iinclude/ -IOpenCL/ -Ideps/LZMA-SDK/C -Ideps/zlib -Ideps/zlib/contrib -Ideps/OpenCL-Headers -DWITH_BRAIN -Ideps/xxHash -DWITH_CUBIN -Ideps/unrar -DWITH_HWMON src/bitops.c -o obj/bitops.NATIVE.o -fpic\n",
            "gcc -c -std=gnu99 -W -Wall -Wextra -O2 -pipe -Iinclude/ -IOpenCL/ -Ideps/LZMA-SDK/C -Ideps/zlib -Ideps/zlib/contrib -Ideps/OpenCL-Headers -DWITH_BRAIN -Ideps/xxHash -DWITH_CUBIN -Ideps/unrar -DWITH_HWMON src/combinator.c -o obj/combinator.NATIVE.o -fpic\n",
            "gcc -c -std=gnu99 -W -Wall -Wextra -O2 -pipe -Iinclude/ -IOpenCL/ -Ideps/LZMA-SDK/C -Ideps/zlib -Ideps/zlib/contrib -Ideps/OpenCL-Headers -DWITH_BRAIN -Ideps/xxHash -DWITH_CUBIN -Ideps/unrar -DWITH_HWMON src/common.c -o obj/common.NATIVE.o -fpic\n",
            "gcc -c -std=gnu99 -W -Wall -Wextra -O2 -pipe -Iinclude/ -IOpenCL/ -Ideps/LZMA-SDK/C -Ideps/zlib -Ideps/zlib/contrib -Ideps/OpenCL-Headers -DWITH_BRAIN -Ideps/xxHash -DWITH_CUBIN -Ideps/unrar -DWITH_HWMON src/convert.c -o obj/convert.NATIVE.o -fpic\n",
            "gcc -c -std=gnu99 -W -Wall -Wextra -O2 -pipe -Iinclude/ -IOpenCL/ -Ideps/LZMA-SDK/C -Ideps/zlib -Ideps/zlib/contrib -Ideps/OpenCL-Headers -DWITH_BRAIN -Ideps/xxHash -DWITH_CUBIN -Ideps/unrar -DWITH_HWMON src/cpt.c -o obj/cpt.NATIVE.o -fpic\n",
            "gcc -c -std=gnu99 -W -Wall -Wextra -O2 -pipe -Iinclude/ -IOpenCL/ -Ideps/LZMA-SDK/C -Ideps/zlib -Ideps/zlib/contrib -Ideps/OpenCL-Headers -DWITH_BRAIN -Ideps/xxHash -DWITH_CUBIN -Ideps/unrar -DWITH_HWMON src/cpu_crc32.c -o obj/cpu_crc32.NATIVE.o -fpic\n",
            "gcc -c -std=gnu99 -W -Wall -Wextra -O2 -pipe -Iinclude/ -IOpenCL/ -Ideps/LZMA-SDK/C -Ideps/zlib -Ideps/zlib/contrib -Ideps/OpenCL-Headers -DWITH_BRAIN -Ideps/xxHash -DWITH_CUBIN -Ideps/unrar -DWITH_HWMON src/debugfile.c -o obj/debugfile.NATIVE.o -fpic\n",
            "gcc -c -std=gnu99 -W -Wall -Wextra -O2 -pipe -Iinclude/ -IOpenCL/ -Ideps/LZMA-SDK/C -Ideps/zlib -Ideps/zlib/contrib -Ideps/OpenCL-Headers -DWITH_BRAIN -Ideps/xxHash -DWITH_CUBIN -Ideps/unrar -DWITH_HWMON src/dictstat.c -o obj/dictstat.NATIVE.o -fpic\n",
            "gcc -c -std=gnu99 -W -Wall -Wextra -O2 -pipe -Iinclude/ -IOpenCL/ -Ideps/LZMA-SDK/C -Ideps/zlib -Ideps/zlib/contrib -Ideps/OpenCL-Headers -DWITH_BRAIN -Ideps/xxHash -DWITH_CUBIN -Ideps/unrar -DWITH_HWMON src/dispatch.c -o obj/dispatch.NATIVE.o -fpic\n",
            "gcc -c -std=gnu99 -W -Wall -Wextra -O2 -pipe -Iinclude/ -IOpenCL/ -Ideps/LZMA-SDK/C -Ideps/zlib -Ideps/zlib/contrib -Ideps/OpenCL-Headers -DWITH_BRAIN -Ideps/xxHash -DWITH_CUBIN -Ideps/unrar -DWITH_HWMON src/dynloader.c -o obj/dynloader.NATIVE.o -fpic\n",
            "gcc -c -std=gnu99 -W -Wall -Wextra -O2 -pipe -Iinclude/ -IOpenCL/ -Ideps/LZMA-SDK/C -Ideps/zlib -Ideps/zlib/contrib -Ideps/OpenCL-Headers -DWITH_BRAIN -Ideps/xxHash -DWITH_CUBIN -Ideps/unrar -DWITH_HWMON src/event.c -o obj/event.NATIVE.o -fpic\n",
            "gcc -c -std=gnu99 -W -Wall -Wextra -O2 -pipe -Iinclude/ -IOpenCL/ -Ideps/LZMA-SDK/C -Ideps/zlib -Ideps/zlib/contrib -Ideps/OpenCL-Headers -DWITH_BRAIN -Ideps/xxHash -DWITH_CUBIN -Ideps/unrar -DWITH_HWMON src/ext_ADL.c -o obj/ext_ADL.NATIVE.o -fpic\n",
            "gcc -c -std=gnu99 -W -Wall -Wextra -O2 -pipe -Iinclude/ -IOpenCL/ -Ideps/LZMA-SDK/C -Ideps/zlib -Ideps/zlib/contrib -Ideps/OpenCL-Headers -DWITH_BRAIN -Ideps/xxHash -DWITH_CUBIN -Ideps/unrar -DWITH_HWMON src/ext_cuda.c -o obj/ext_cuda.NATIVE.o -fpic\n",
            "gcc -c -std=gnu99 -W -Wall -Wextra -O2 -pipe -Iinclude/ -IOpenCL/ -Ideps/LZMA-SDK/C -Ideps/zlib -Ideps/zlib/contrib -Ideps/OpenCL-Headers -DWITH_BRAIN -Ideps/xxHash -DWITH_CUBIN -Ideps/unrar -DWITH_HWMON src/ext_hip.c -o obj/ext_hip.NATIVE.o -fpic\n",
            "gcc -c -std=gnu99 -W -Wall -Wextra -O2 -pipe -Iinclude/ -IOpenCL/ -Ideps/LZMA-SDK/C -Ideps/zlib -Ideps/zlib/contrib -Ideps/OpenCL-Headers -DWITH_BRAIN -Ideps/xxHash -DWITH_CUBIN -Ideps/unrar -DWITH_HWMON src/ext_nvapi.c -o obj/ext_nvapi.NATIVE.o -fpic\n",
            "gcc -c -std=gnu99 -W -Wall -Wextra -O2 -pipe -Iinclude/ -IOpenCL/ -Ideps/LZMA-SDK/C -Ideps/zlib -Ideps/zlib/contrib -Ideps/OpenCL-Headers -DWITH_BRAIN -Ideps/xxHash -DWITH_CUBIN -Ideps/unrar -DWITH_HWMON src/ext_nvml.c -o obj/ext_nvml.NATIVE.o -fpic\n",
            "gcc -c -std=gnu99 -W -Wall -Wextra -O2 -pipe -Iinclude/ -IOpenCL/ -Ideps/LZMA-SDK/C -Ideps/zlib -Ideps/zlib/contrib -Ideps/OpenCL-Headers -DWITH_BRAIN -Ideps/xxHash -DWITH_CUBIN -Ideps/unrar -DWITH_HWMON src/ext_nvrtc.c -o obj/ext_nvrtc.NATIVE.o -fpic\n",
            "gcc -c -std=gnu99 -W -Wall -Wextra -O2 -pipe -Iinclude/ -IOpenCL/ -Ideps/LZMA-SDK/C -Ideps/zlib -Ideps/zlib/contrib -Ideps/OpenCL-Headers -DWITH_BRAIN -Ideps/xxHash -DWITH_CUBIN -Ideps/unrar -DWITH_HWMON src/ext_hiprtc.c -o obj/ext_hiprtc.NATIVE.o -fpic\n",
            "gcc -c -std=gnu99 -W -Wall -Wextra -O2 -pipe -Iinclude/ -IOpenCL/ -Ideps/LZMA-SDK/C -Ideps/zlib -Ideps/zlib/contrib -Ideps/OpenCL-Headers -DWITH_BRAIN -Ideps/xxHash -DWITH_CUBIN -Ideps/unrar -DWITH_HWMON src/ext_OpenCL.c -o obj/ext_OpenCL.NATIVE.o -fpic\n",
            "gcc -c -std=gnu99 -W -Wall -Wextra -O2 -pipe -Iinclude/ -IOpenCL/ -Ideps/LZMA-SDK/C -Ideps/zlib -Ideps/zlib/contrib -Ideps/OpenCL-Headers -DWITH_BRAIN -Ideps/xxHash -DWITH_CUBIN -Ideps/unrar -DWITH_HWMON src/ext_sysfs_amdgpu.c -o obj/ext_sysfs_amdgpu.NATIVE.o -fpic\n",
            "gcc -c -std=gnu99 -W -Wall -Wextra -O2 -pipe -Iinclude/ -IOpenCL/ -Ideps/LZMA-SDK/C -Ideps/zlib -Ideps/zlib/contrib -Ideps/OpenCL-Headers -DWITH_BRAIN -Ideps/xxHash -DWITH_CUBIN -Ideps/unrar -DWITH_HWMON src/ext_sysfs_cpu.c -o obj/ext_sysfs_cpu.NATIVE.o -fpic\n",
            "gcc -c -std=gnu99 -W -Wall -Wextra -O2 -pipe -Iinclude/ -IOpenCL/ -Ideps/LZMA-SDK/C -Ideps/zlib -Ideps/zlib/contrib -Ideps/OpenCL-Headers -DWITH_BRAIN -Ideps/xxHash -DWITH_CUBIN -Ideps/unrar -DWITH_HWMON src/ext_iokit.c -o obj/ext_iokit.NATIVE.o -fpic\n",
            "gcc -c -std=gnu99 -W -Wall -Wextra -O2 -pipe -Iinclude/ -IOpenCL/ -Ideps/LZMA-SDK/C -Ideps/zlib -Ideps/zlib/contrib -Ideps/OpenCL-Headers -DWITH_BRAIN -Ideps/xxHash -DWITH_CUBIN -Ideps/unrar -DWITH_HWMON src/ext_lzma.c -o obj/ext_lzma.NATIVE.o -fpic\n",
            "gcc -c -std=gnu99 -W -Wall -Wextra -O2 -pipe -Iinclude/ -IOpenCL/ -Ideps/LZMA-SDK/C -Ideps/zlib -Ideps/zlib/contrib -Ideps/OpenCL-Headers -DWITH_BRAIN -Ideps/xxHash -DWITH_CUBIN -Ideps/unrar -DWITH_HWMON src/filehandling.c -o obj/filehandling.NATIVE.o -fpic\n",
            "gcc -c -std=gnu99 -W -Wall -Wextra -O2 -pipe -Iinclude/ -IOpenCL/ -Ideps/LZMA-SDK/C -Ideps/zlib -Ideps/zlib/contrib -Ideps/OpenCL-Headers -DWITH_BRAIN -Ideps/xxHash -DWITH_CUBIN -Ideps/unrar -DWITH_HWMON src/folder.c -o obj/folder.NATIVE.o -fpic\n",
            "gcc -c -std=gnu99 -W -Wall -Wextra -O2 -pipe -Iinclude/ -IOpenCL/ -Ideps/LZMA-SDK/C -Ideps/zlib -Ideps/zlib/contrib -Ideps/OpenCL-Headers -DWITH_BRAIN -Ideps/xxHash -DWITH_CUBIN -Ideps/unrar -DWITH_HWMON src/hashcat.c -o obj/hashcat.NATIVE.o -fpic\n",
            "gcc -c -std=gnu99 -W -Wall -Wextra -O2 -pipe -Iinclude/ -IOpenCL/ -Ideps/LZMA-SDK/C -Ideps/zlib -Ideps/zlib/contrib -Ideps/OpenCL-Headers -DWITH_BRAIN -Ideps/xxHash -DWITH_CUBIN -Ideps/unrar -DWITH_HWMON src/hashes.c -o obj/hashes.NATIVE.o -fpic\n",
            "gcc -c -std=gnu99 -W -Wall -Wextra -O2 -pipe -Iinclude/ -IOpenCL/ -Ideps/LZMA-SDK/C -Ideps/zlib -Ideps/zlib/contrib -Ideps/OpenCL-Headers -DWITH_BRAIN -Ideps/xxHash -DWITH_CUBIN -Ideps/unrar -DWITH_HWMON src/hlfmt.c -o obj/hlfmt.NATIVE.o -fpic\n",
            "gcc -c -std=gnu99 -W -Wall -Wextra -O2 -pipe -Iinclude/ -IOpenCL/ -Ideps/LZMA-SDK/C -Ideps/zlib -Ideps/zlib/contrib -Ideps/OpenCL-Headers -DWITH_BRAIN -Ideps/xxHash -DWITH_CUBIN -Ideps/unrar -DWITH_HWMON src/hwmon.c -o obj/hwmon.NATIVE.o -fpic\n",
            "gcc -c -std=gnu99 -W -Wall -Wextra -O2 -pipe -Iinclude/ -IOpenCL/ -Ideps/LZMA-SDK/C -Ideps/zlib -Ideps/zlib/contrib -Ideps/OpenCL-Headers -DWITH_BRAIN -Ideps/xxHash -DWITH_CUBIN -Ideps/unrar -DWITH_HWMON src/induct.c -o obj/induct.NATIVE.o -fpic\n",
            "gcc -c -std=gnu99 -W -Wall -Wextra -O2 -pipe -Iinclude/ -IOpenCL/ -Ideps/LZMA-SDK/C -Ideps/zlib -Ideps/zlib/contrib -Ideps/OpenCL-Headers -DWITH_BRAIN -Ideps/xxHash -DWITH_CUBIN -Ideps/unrar -DWITH_HWMON src/interface.c -o obj/interface.NATIVE.o -fpic\n",
            "gcc -c -std=gnu99 -W -Wall -Wextra -O2 -pipe -Iinclude/ -IOpenCL/ -Ideps/LZMA-SDK/C -Ideps/zlib -Ideps/zlib/contrib -Ideps/OpenCL-Headers -DWITH_BRAIN -Ideps/xxHash -DWITH_CUBIN -Ideps/unrar -DWITH_HWMON src/keyboard_layout.c -o obj/keyboard_layout.NATIVE.o -fpic\n",
            "gcc -c -std=gnu99 -W -Wall -Wextra -O2 -pipe -Iinclude/ -IOpenCL/ -Ideps/LZMA-SDK/C -Ideps/zlib -Ideps/zlib/contrib -Ideps/OpenCL-Headers -DWITH_BRAIN -Ideps/xxHash -DWITH_CUBIN -Ideps/unrar -DWITH_HWMON src/locking.c -o obj/locking.NATIVE.o -fpic\n",
            "gcc -c -std=gnu99 -W -Wall -Wextra -O2 -pipe -Iinclude/ -IOpenCL/ -Ideps/LZMA-SDK/C -Ideps/zlib -Ideps/zlib/contrib -Ideps/OpenCL-Headers -DWITH_BRAIN -Ideps/xxHash -DWITH_CUBIN -Ideps/unrar -DWITH_HWMON src/logfile.c -o obj/logfile.NATIVE.o -fpic\n",
            "gcc -c -std=gnu99 -W -Wall -Wextra -O2 -pipe -Iinclude/ -IOpenCL/ -Ideps/LZMA-SDK/C -Ideps/zlib -Ideps/zlib/contrib -Ideps/OpenCL-Headers -DWITH_BRAIN -Ideps/xxHash -DWITH_CUBIN -Ideps/unrar -DWITH_HWMON src/loopback.c -o obj/loopback.NATIVE.o -fpic\n",
            "gcc -c -std=gnu99 -W -Wall -Wextra -O2 -pipe -Iinclude/ -IOpenCL/ -Ideps/LZMA-SDK/C -Ideps/zlib -Ideps/zlib/contrib -Ideps/OpenCL-Headers -DWITH_BRAIN -Ideps/xxHash -DWITH_CUBIN -Ideps/unrar -DWITH_HWMON src/memory.c -o obj/memory.NATIVE.o -fpic\n",
            "gcc -c -std=gnu99 -W -Wall -Wextra -O2 -pipe -Iinclude/ -IOpenCL/ -Ideps/LZMA-SDK/C -Ideps/zlib -Ideps/zlib/contrib -Ideps/OpenCL-Headers -DWITH_BRAIN -Ideps/xxHash -DWITH_CUBIN -Ideps/unrar -DWITH_HWMON src/monitor.c -o obj/monitor.NATIVE.o -fpic\n",
            "gcc -c -std=gnu99 -W -Wall -Wextra -O2 -pipe -Iinclude/ -IOpenCL/ -Ideps/LZMA-SDK/C -Ideps/zlib -Ideps/zlib/contrib -Ideps/OpenCL-Headers -DWITH_BRAIN -Ideps/xxHash -DWITH_CUBIN -Ideps/unrar -DWITH_HWMON src/mpsp.c -o obj/mpsp.NATIVE.o -fpic\n",
            "gcc -c -std=gnu99 -W -Wall -Wextra -O2 -pipe -Iinclude/ -IOpenCL/ -Ideps/LZMA-SDK/C -Ideps/zlib -Ideps/zlib/contrib -Ideps/OpenCL-Headers -DWITH_BRAIN -Ideps/xxHash -DWITH_CUBIN -Ideps/unrar -DWITH_HWMON src/outfile_check.c -o obj/outfile_check.NATIVE.o -fpic\n",
            "gcc -c -std=gnu99 -W -Wall -Wextra -O2 -pipe -Iinclude/ -IOpenCL/ -Ideps/LZMA-SDK/C -Ideps/zlib -Ideps/zlib/contrib -Ideps/OpenCL-Headers -DWITH_BRAIN -Ideps/xxHash -DWITH_CUBIN -Ideps/unrar -DWITH_HWMON src/outfile.c -o obj/outfile.NATIVE.o -fpic\n",
            "gcc -c -std=gnu99 -W -Wall -Wextra -O2 -pipe -Iinclude/ -IOpenCL/ -Ideps/LZMA-SDK/C -Ideps/zlib -Ideps/zlib/contrib -Ideps/OpenCL-Headers -DWITH_BRAIN -Ideps/xxHash -DWITH_CUBIN -Ideps/unrar -DWITH_HWMON src/pidfile.c -o obj/pidfile.NATIVE.o -fpic\n",
            "gcc -c -std=gnu99 -W -Wall -Wextra -O2 -pipe -Iinclude/ -IOpenCL/ -Ideps/LZMA-SDK/C -Ideps/zlib -Ideps/zlib/contrib -Ideps/OpenCL-Headers -DWITH_BRAIN -Ideps/xxHash -DWITH_CUBIN -Ideps/unrar -DWITH_HWMON src/potfile.c -o obj/potfile.NATIVE.o -fpic\n",
            "gcc -c -std=gnu99 -W -Wall -Wextra -O2 -pipe -Iinclude/ -IOpenCL/ -Ideps/LZMA-SDK/C -Ideps/zlib -Ideps/zlib/contrib -Ideps/OpenCL-Headers -DWITH_BRAIN -Ideps/xxHash -DWITH_CUBIN -Ideps/unrar -DWITH_HWMON src/restore.c -o obj/restore.NATIVE.o -fpic\n",
            "gcc -c -std=gnu99 -W -Wall -Wextra -O2 -pipe -Iinclude/ -IOpenCL/ -Ideps/LZMA-SDK/C -Ideps/zlib -Ideps/zlib/contrib -Ideps/OpenCL-Headers -DWITH_BRAIN -Ideps/xxHash -DWITH_CUBIN -Ideps/unrar -DWITH_HWMON src/rp.c -o obj/rp.NATIVE.o -fpic\n",
            "gcc -c -std=gnu99 -W -Wall -Wextra -O2 -pipe -Iinclude/ -IOpenCL/ -Ideps/LZMA-SDK/C -Ideps/zlib -Ideps/zlib/contrib -Ideps/OpenCL-Headers -DWITH_BRAIN -Ideps/xxHash -DWITH_CUBIN -Ideps/unrar -DWITH_HWMON src/rp_cpu.c -o obj/rp_cpu.NATIVE.o -fpic\n",
            "gcc -c -std=gnu99 -W -Wall -Wextra -O2 -pipe -Iinclude/ -IOpenCL/ -Ideps/LZMA-SDK/C -Ideps/zlib -Ideps/zlib/contrib -Ideps/OpenCL-Headers -DWITH_BRAIN -Ideps/xxHash -DWITH_CUBIN -Ideps/unrar -DWITH_HWMON src/selftest.c -o obj/selftest.NATIVE.o -fpic\n",
            "gcc -c -std=gnu99 -W -Wall -Wextra -O2 -pipe -Iinclude/ -IOpenCL/ -Ideps/LZMA-SDK/C -Ideps/zlib -Ideps/zlib/contrib -Ideps/OpenCL-Headers -DWITH_BRAIN -Ideps/xxHash -DWITH_CUBIN -Ideps/unrar -DWITH_HWMON src/slow_candidates.c -o obj/slow_candidates.NATIVE.o -fpic\n",
            "gcc -c -std=gnu99 -W -Wall -Wextra -O2 -pipe -Iinclude/ -IOpenCL/ -Ideps/LZMA-SDK/C -Ideps/zlib -Ideps/zlib/contrib -Ideps/OpenCL-Headers -DWITH_BRAIN -Ideps/xxHash -DWITH_CUBIN -Ideps/unrar -DWITH_HWMON src/shared.c -o obj/shared.NATIVE.o -fpic\n",
            "gcc -c -std=gnu99 -W -Wall -Wextra -O2 -pipe -Iinclude/ -IOpenCL/ -Ideps/LZMA-SDK/C -Ideps/zlib -Ideps/zlib/contrib -Ideps/OpenCL-Headers -DWITH_BRAIN -Ideps/xxHash -DWITH_CUBIN -Ideps/unrar -DWITH_HWMON src/status.c -o obj/status.NATIVE.o -fpic\n",
            "gcc -c -std=gnu99 -W -Wall -Wextra -O2 -pipe -Iinclude/ -IOpenCL/ -Ideps/LZMA-SDK/C -Ideps/zlib -Ideps/zlib/contrib -Ideps/OpenCL-Headers -DWITH_BRAIN -Ideps/xxHash -DWITH_CUBIN -Ideps/unrar -DWITH_HWMON src/stdout.c -o obj/stdout.NATIVE.o -fpic\n",
            "gcc -c -std=gnu99 -W -Wall -Wextra -O2 -pipe -Iinclude/ -IOpenCL/ -Ideps/LZMA-SDK/C -Ideps/zlib -Ideps/zlib/contrib -Ideps/OpenCL-Headers -DWITH_BRAIN -Ideps/xxHash -DWITH_CUBIN -Ideps/unrar -DWITH_HWMON src/straight.c -o obj/straight.NATIVE.o -fpic\n",
            "gcc -c -std=gnu99 -W -Wall -Wextra -O2 -pipe -Iinclude/ -IOpenCL/ -Ideps/LZMA-SDK/C -Ideps/zlib -Ideps/zlib/contrib -Ideps/OpenCL-Headers -DWITH_BRAIN -Ideps/xxHash -DWITH_CUBIN -Ideps/unrar -DWITH_HWMON src/terminal.c -o obj/terminal.NATIVE.o -fpic\n",
            "gcc -c -std=gnu99 -W -Wall -Wextra -O2 -pipe -Iinclude/ -IOpenCL/ -Ideps/LZMA-SDK/C -Ideps/zlib -Ideps/zlib/contrib -Ideps/OpenCL-Headers -DWITH_BRAIN -Ideps/xxHash -DWITH_CUBIN -Ideps/unrar -DWITH_HWMON src/thread.c -o obj/thread.NATIVE.o -fpic\n",
            "gcc -c -std=gnu99 -W -Wall -Wextra -O2 -pipe -Iinclude/ -IOpenCL/ -Ideps/LZMA-SDK/C -Ideps/zlib -Ideps/zlib/contrib -Ideps/OpenCL-Headers -DWITH_BRAIN -Ideps/xxHash -DWITH_CUBIN -Ideps/unrar -DWITH_HWMON src/timer.c -o obj/timer.NATIVE.o -fpic\n",
            "gcc -c -std=gnu99 -W -Wall -Wextra -O2 -pipe -Iinclude/ -IOpenCL/ -Ideps/LZMA-SDK/C -Ideps/zlib -Ideps/zlib/contrib -Ideps/OpenCL-Headers -DWITH_BRAIN -Ideps/xxHash -DWITH_CUBIN -Ideps/unrar -DWITH_HWMON src/tuningdb.c -o obj/tuningdb.NATIVE.o -fpic\n",
            "gcc -c -std=gnu99 -W -Wall -Wextra -O2 -pipe -Iinclude/ -IOpenCL/ -Ideps/LZMA-SDK/C -Ideps/zlib -Ideps/zlib/contrib -Ideps/OpenCL-Headers -DWITH_BRAIN -Ideps/xxHash -DWITH_CUBIN -Ideps/unrar -DWITH_HWMON src/usage.c -o obj/usage.NATIVE.o -fpic\n",
            "gcc -c -std=gnu99 -W -Wall -Wextra -O2 -pipe -Iinclude/ -IOpenCL/ -Ideps/LZMA-SDK/C -Ideps/zlib -Ideps/zlib/contrib -Ideps/OpenCL-Headers -DWITH_BRAIN -Ideps/xxHash -DWITH_CUBIN -Ideps/unrar -DWITH_HWMON src/user_options.c -o obj/user_options.NATIVE.o -fpic\n",
            "gcc -c -std=gnu99 -W -Wall -Wextra -O2 -pipe -Iinclude/ -IOpenCL/ -Ideps/LZMA-SDK/C -Ideps/zlib -Ideps/zlib/contrib -Ideps/OpenCL-Headers -DWITH_BRAIN -Ideps/xxHash -DWITH_CUBIN -Ideps/unrar -DWITH_HWMON src/wordlist.c -o obj/wordlist.NATIVE.o -fpic\n",
            "gcc -c -std=gnu99 -W -Wall -Wextra -O2 -pipe -Iinclude/ -IOpenCL/ -Ideps/LZMA-SDK/C -Ideps/zlib -Ideps/zlib/contrib -Ideps/OpenCL-Headers -DWITH_BRAIN -Ideps/xxHash -DWITH_CUBIN -Ideps/unrar -DWITH_HWMON src/emu_general.c -o obj/emu_general.NATIVE.o -fpic\n",
            "gcc -c -std=gnu99 -W -Wall -Wextra -O2 -pipe -Iinclude/ -IOpenCL/ -Ideps/LZMA-SDK/C -Ideps/zlib -Ideps/zlib/contrib -Ideps/OpenCL-Headers -DWITH_BRAIN -Ideps/xxHash -DWITH_CUBIN -Ideps/unrar -DWITH_HWMON src/emu_inc_common.c -o obj/emu_inc_common.NATIVE.o -fpic\n",
            "gcc -c -std=gnu99 -W -Wall -Wextra -O2 -pipe -Iinclude/ -IOpenCL/ -Ideps/LZMA-SDK/C -Ideps/zlib -Ideps/zlib/contrib -Ideps/OpenCL-Headers -DWITH_BRAIN -Ideps/xxHash -DWITH_CUBIN -Ideps/unrar -DWITH_HWMON src/emu_inc_platform.c -o obj/emu_inc_platform.NATIVE.o -fpic\n",
            "gcc -c -std=gnu99 -W -Wall -Wextra -O2 -pipe -Iinclude/ -IOpenCL/ -Ideps/LZMA-SDK/C -Ideps/zlib -Ideps/zlib/contrib -Ideps/OpenCL-Headers -DWITH_BRAIN -Ideps/xxHash -DWITH_CUBIN -Ideps/unrar -DWITH_HWMON src/emu_inc_scalar.c -o obj/emu_inc_scalar.NATIVE.o -fpic\n",
            "gcc -c -std=gnu99 -W -Wall -Wextra -O2 -pipe -Iinclude/ -IOpenCL/ -Ideps/LZMA-SDK/C -Ideps/zlib -Ideps/zlib/contrib -Ideps/OpenCL-Headers -DWITH_BRAIN -Ideps/xxHash -DWITH_CUBIN -Ideps/unrar -DWITH_HWMON src/emu_inc_simd.c -o obj/emu_inc_simd.NATIVE.o -fpic\n",
            "gcc -c -std=gnu99 -W -Wall -Wextra -O2 -pipe -Iinclude/ -IOpenCL/ -Ideps/LZMA-SDK/C -Ideps/zlib -Ideps/zlib/contrib -Ideps/OpenCL-Headers -DWITH_BRAIN -Ideps/xxHash -DWITH_CUBIN -Ideps/unrar -DWITH_HWMON src/emu_inc_rp.c -o obj/emu_inc_rp.NATIVE.o -fpic\n",
            "gcc -c -std=gnu99 -W -Wall -Wextra -O2 -pipe -Iinclude/ -IOpenCL/ -Ideps/LZMA-SDK/C -Ideps/zlib -Ideps/zlib/contrib -Ideps/OpenCL-Headers -DWITH_BRAIN -Ideps/xxHash -DWITH_CUBIN -Ideps/unrar -DWITH_HWMON src/emu_inc_rp_optimized.c -o obj/emu_inc_rp_optimized.NATIVE.o -fpic\n",
            "gcc -c -std=gnu99 -W -Wall -Wextra -O2 -pipe -Iinclude/ -IOpenCL/ -Ideps/LZMA-SDK/C -Ideps/zlib -Ideps/zlib/contrib -Ideps/OpenCL-Headers -DWITH_BRAIN -Ideps/xxHash -DWITH_CUBIN -Ideps/unrar -DWITH_HWMON src/emu_inc_hash_md4.c -o obj/emu_inc_hash_md4.NATIVE.o -fpic\n",
            "gcc -c -std=gnu99 -W -Wall -Wextra -O2 -pipe -Iinclude/ -IOpenCL/ -Ideps/LZMA-SDK/C -Ideps/zlib -Ideps/zlib/contrib -Ideps/OpenCL-Headers -DWITH_BRAIN -Ideps/xxHash -DWITH_CUBIN -Ideps/unrar -DWITH_HWMON src/emu_inc_hash_md5.c -o obj/emu_inc_hash_md5.NATIVE.o -fpic\n",
            "gcc -c -std=gnu99 -W -Wall -Wextra -O2 -pipe -Iinclude/ -IOpenCL/ -Ideps/LZMA-SDK/C -Ideps/zlib -Ideps/zlib/contrib -Ideps/OpenCL-Headers -DWITH_BRAIN -Ideps/xxHash -DWITH_CUBIN -Ideps/unrar -DWITH_HWMON src/emu_inc_hash_ripemd160.c -o obj/emu_inc_hash_ripemd160.NATIVE.o -fpic\n",
            "gcc -c -std=gnu99 -W -Wall -Wextra -O2 -pipe -Iinclude/ -IOpenCL/ -Ideps/LZMA-SDK/C -Ideps/zlib -Ideps/zlib/contrib -Ideps/OpenCL-Headers -DWITH_BRAIN -Ideps/xxHash -DWITH_CUBIN -Ideps/unrar -DWITH_HWMON src/emu_inc_hash_sha1.c -o obj/emu_inc_hash_sha1.NATIVE.o -fpic\n",
            "gcc -c -std=gnu99 -W -Wall -Wextra -O2 -pipe -Iinclude/ -IOpenCL/ -Ideps/LZMA-SDK/C -Ideps/zlib -Ideps/zlib/contrib -Ideps/OpenCL-Headers -DWITH_BRAIN -Ideps/xxHash -DWITH_CUBIN -Ideps/unrar -DWITH_HWMON src/emu_inc_hash_sha256.c -o obj/emu_inc_hash_sha256.NATIVE.o -fpic\n",
            "gcc -c -std=gnu99 -W -Wall -Wextra -O2 -pipe -Iinclude/ -IOpenCL/ -Ideps/LZMA-SDK/C -Ideps/zlib -Ideps/zlib/contrib -Ideps/OpenCL-Headers -DWITH_BRAIN -Ideps/xxHash -DWITH_CUBIN -Ideps/unrar -DWITH_HWMON src/emu_inc_hash_sha384.c -o obj/emu_inc_hash_sha384.NATIVE.o -fpic\n",
            "gcc -c -std=gnu99 -W -Wall -Wextra -O2 -pipe -Iinclude/ -IOpenCL/ -Ideps/LZMA-SDK/C -Ideps/zlib -Ideps/zlib/contrib -Ideps/OpenCL-Headers -DWITH_BRAIN -Ideps/xxHash -DWITH_CUBIN -Ideps/unrar -DWITH_HWMON src/emu_inc_hash_sha512.c -o obj/emu_inc_hash_sha512.NATIVE.o -fpic\n",
            "gcc -c -std=gnu99 -W -Wall -Wextra -O2 -pipe -Iinclude/ -IOpenCL/ -Ideps/LZMA-SDK/C -Ideps/zlib -Ideps/zlib/contrib -Ideps/OpenCL-Headers -DWITH_BRAIN -Ideps/xxHash -DWITH_CUBIN -Ideps/unrar -DWITH_HWMON src/emu_inc_hash_streebog256.c -o obj/emu_inc_hash_streebog256.NATIVE.o -fpic\n",
            "gcc -c -std=gnu99 -W -Wall -Wextra -O2 -pipe -Iinclude/ -IOpenCL/ -Ideps/LZMA-SDK/C -Ideps/zlib -Ideps/zlib/contrib -Ideps/OpenCL-Headers -DWITH_BRAIN -Ideps/xxHash -DWITH_CUBIN -Ideps/unrar -DWITH_HWMON src/emu_inc_hash_streebog512.c -o obj/emu_inc_hash_streebog512.NATIVE.o -fpic\n",
            "gcc -c -std=gnu99 -W -Wall -Wextra -O2 -pipe -Iinclude/ -IOpenCL/ -Ideps/LZMA-SDK/C -Ideps/zlib -Ideps/zlib/contrib -Ideps/OpenCL-Headers -DWITH_BRAIN -Ideps/xxHash -DWITH_CUBIN -Ideps/unrar -DWITH_HWMON src/emu_inc_ecc_secp256k1.c -o obj/emu_inc_ecc_secp256k1.NATIVE.o -fpic\n",
            "gcc -c -std=gnu99 -W -Wall -Wextra -O2 -pipe -Iinclude/ -IOpenCL/ -Ideps/LZMA-SDK/C -Ideps/zlib -Ideps/zlib/contrib -Ideps/OpenCL-Headers -DWITH_BRAIN -Ideps/xxHash -DWITH_CUBIN -Ideps/unrar -DWITH_HWMON src/emu_inc_cipher_aes.c -o obj/emu_inc_cipher_aes.NATIVE.o -fpic\n",
            "gcc -c -std=gnu99 -W -Wall -Wextra -O2 -pipe -Iinclude/ -IOpenCL/ -Ideps/LZMA-SDK/C -Ideps/zlib -Ideps/zlib/contrib -Ideps/OpenCL-Headers -DWITH_BRAIN -Ideps/xxHash -DWITH_CUBIN -Ideps/unrar -DWITH_HWMON src/emu_inc_cipher_camellia.c -o obj/emu_inc_cipher_camellia.NATIVE.o -fpic\n",
            "gcc -c -std=gnu99 -W -Wall -Wextra -O2 -pipe -Iinclude/ -IOpenCL/ -Ideps/LZMA-SDK/C -Ideps/zlib -Ideps/zlib/contrib -Ideps/OpenCL-Headers -DWITH_BRAIN -Ideps/xxHash -DWITH_CUBIN -Ideps/unrar -DWITH_HWMON src/emu_inc_cipher_des.c -o obj/emu_inc_cipher_des.NATIVE.o -fpic\n",
            "gcc -c -std=gnu99 -W -Wall -Wextra -O2 -pipe -Iinclude/ -IOpenCL/ -Ideps/LZMA-SDK/C -Ideps/zlib -Ideps/zlib/contrib -Ideps/OpenCL-Headers -DWITH_BRAIN -Ideps/xxHash -DWITH_CUBIN -Ideps/unrar -DWITH_HWMON src/emu_inc_cipher_kuznyechik.c -o obj/emu_inc_cipher_kuznyechik.NATIVE.o -fpic\n",
            "gcc -c -std=gnu99 -W -Wall -Wextra -O2 -pipe -Iinclude/ -IOpenCL/ -Ideps/LZMA-SDK/C -Ideps/zlib -Ideps/zlib/contrib -Ideps/OpenCL-Headers -DWITH_BRAIN -Ideps/xxHash -DWITH_CUBIN -Ideps/unrar -DWITH_HWMON src/emu_inc_cipher_serpent.c -o obj/emu_inc_cipher_serpent.NATIVE.o -fpic\n",
            "gcc -c -std=gnu99 -W -Wall -Wextra -O2 -pipe -Iinclude/ -IOpenCL/ -Ideps/LZMA-SDK/C -Ideps/zlib -Ideps/zlib/contrib -Ideps/OpenCL-Headers -DWITH_BRAIN -Ideps/xxHash -DWITH_CUBIN -Ideps/unrar -DWITH_HWMON src/emu_inc_cipher_twofish.c -o obj/emu_inc_cipher_twofish.NATIVE.o -fpic\n",
            "gcc -c -std=gnu99 -W -Wall -Wextra -O2 -pipe -Iinclude/ -IOpenCL/ -Ideps/LZMA-SDK/C -Ideps/zlib -Ideps/zlib/contrib -Ideps/OpenCL-Headers -DWITH_BRAIN -Ideps/xxHash -DWITH_CUBIN -Ideps/unrar -DWITH_HWMON src/brain.c -o obj/brain.NATIVE.o -fpic\n",
            "gcc -c -std=gnu99 -W -Wall -Wextra -O2 -pipe -Iinclude/ -IOpenCL/ -Ideps/LZMA-SDK/C -Ideps/zlib -Ideps/zlib/contrib -Ideps/OpenCL-Headers -DWITH_BRAIN -Ideps/xxHash -DWITH_CUBIN -Ideps/unrar -DWITH_HWMON -D_7ZIP_ST -Wno-misleading-indentation deps/LZMA-SDK/C/7zCrc.c -o obj/7zCrc.LZMA.NATIVE.o -fpic\n",
            "gcc -c -std=gnu99 -W -Wall -Wextra -O2 -pipe -Iinclude/ -IOpenCL/ -Ideps/LZMA-SDK/C -Ideps/zlib -Ideps/zlib/contrib -Ideps/OpenCL-Headers -DWITH_BRAIN -Ideps/xxHash -DWITH_CUBIN -Ideps/unrar -DWITH_HWMON -D_7ZIP_ST -Wno-misleading-indentation deps/LZMA-SDK/C/7zCrcOpt.c -o obj/7zCrcOpt.LZMA.NATIVE.o -fpic\n",
            "gcc -c -std=gnu99 -W -Wall -Wextra -O2 -pipe -Iinclude/ -IOpenCL/ -Ideps/LZMA-SDK/C -Ideps/zlib -Ideps/zlib/contrib -Ideps/OpenCL-Headers -DWITH_BRAIN -Ideps/xxHash -DWITH_CUBIN -Ideps/unrar -DWITH_HWMON -D_7ZIP_ST -Wno-misleading-indentation deps/LZMA-SDK/C/7zFile.c -o obj/7zFile.LZMA.NATIVE.o -fpic\n",
            "gcc -c -std=gnu99 -W -Wall -Wextra -O2 -pipe -Iinclude/ -IOpenCL/ -Ideps/LZMA-SDK/C -Ideps/zlib -Ideps/zlib/contrib -Ideps/OpenCL-Headers -DWITH_BRAIN -Ideps/xxHash -DWITH_CUBIN -Ideps/unrar -DWITH_HWMON -D_7ZIP_ST -Wno-misleading-indentation deps/LZMA-SDK/C/7zStream.c -o obj/7zStream.LZMA.NATIVE.o -fpic\n",
            "gcc -c -std=gnu99 -W -Wall -Wextra -O2 -pipe -Iinclude/ -IOpenCL/ -Ideps/LZMA-SDK/C -Ideps/zlib -Ideps/zlib/contrib -Ideps/OpenCL-Headers -DWITH_BRAIN -Ideps/xxHash -DWITH_CUBIN -Ideps/unrar -DWITH_HWMON -D_7ZIP_ST -Wno-misleading-indentation deps/LZMA-SDK/C/Alloc.c -o obj/Alloc.LZMA.NATIVE.o -fpic\n",
            "gcc -c -std=gnu99 -W -Wall -Wextra -O2 -pipe -Iinclude/ -IOpenCL/ -Ideps/LZMA-SDK/C -Ideps/zlib -Ideps/zlib/contrib -Ideps/OpenCL-Headers -DWITH_BRAIN -Ideps/xxHash -DWITH_CUBIN -Ideps/unrar -DWITH_HWMON -D_7ZIP_ST -Wno-misleading-indentation deps/LZMA-SDK/C/Bra.c -o obj/Bra.LZMA.NATIVE.o -fpic\n",
            "gcc -c -std=gnu99 -W -Wall -Wextra -O2 -pipe -Iinclude/ -IOpenCL/ -Ideps/LZMA-SDK/C -Ideps/zlib -Ideps/zlib/contrib -Ideps/OpenCL-Headers -DWITH_BRAIN -Ideps/xxHash -DWITH_CUBIN -Ideps/unrar -DWITH_HWMON -D_7ZIP_ST -Wno-misleading-indentation deps/LZMA-SDK/C/Bra86.c -o obj/Bra86.LZMA.NATIVE.o -fpic\n",
            "gcc -c -std=gnu99 -W -Wall -Wextra -O2 -pipe -Iinclude/ -IOpenCL/ -Ideps/LZMA-SDK/C -Ideps/zlib -Ideps/zlib/contrib -Ideps/OpenCL-Headers -DWITH_BRAIN -Ideps/xxHash -DWITH_CUBIN -Ideps/unrar -DWITH_HWMON -D_7ZIP_ST -Wno-misleading-indentation deps/LZMA-SDK/C/BraIA64.c -o obj/BraIA64.LZMA.NATIVE.o -fpic\n",
            "gcc -c -std=gnu99 -W -Wall -Wextra -O2 -pipe -Iinclude/ -IOpenCL/ -Ideps/LZMA-SDK/C -Ideps/zlib -Ideps/zlib/contrib -Ideps/OpenCL-Headers -DWITH_BRAIN -Ideps/xxHash -DWITH_CUBIN -Ideps/unrar -DWITH_HWMON -D_7ZIP_ST -Wno-misleading-indentation deps/LZMA-SDK/C/CpuArch.c -o obj/CpuArch.LZMA.NATIVE.o -fpic\n",
            "gcc -c -std=gnu99 -W -Wall -Wextra -O2 -pipe -Iinclude/ -IOpenCL/ -Ideps/LZMA-SDK/C -Ideps/zlib -Ideps/zlib/contrib -Ideps/OpenCL-Headers -DWITH_BRAIN -Ideps/xxHash -DWITH_CUBIN -Ideps/unrar -DWITH_HWMON -D_7ZIP_ST -Wno-misleading-indentation deps/LZMA-SDK/C/Delta.c -o obj/Delta.LZMA.NATIVE.o -fpic\n",
            "gcc -c -std=gnu99 -W -Wall -Wextra -O2 -pipe -Iinclude/ -IOpenCL/ -Ideps/LZMA-SDK/C -Ideps/zlib -Ideps/zlib/contrib -Ideps/OpenCL-Headers -DWITH_BRAIN -Ideps/xxHash -DWITH_CUBIN -Ideps/unrar -DWITH_HWMON -D_7ZIP_ST -Wno-misleading-indentation deps/LZMA-SDK/C/LzmaDec.c -o obj/LzmaDec.LZMA.NATIVE.o -fpic\n",
            "gcc -c -std=gnu99 -W -Wall -Wextra -O2 -pipe -Iinclude/ -IOpenCL/ -Ideps/LZMA-SDK/C -Ideps/zlib -Ideps/zlib/contrib -Ideps/OpenCL-Headers -DWITH_BRAIN -Ideps/xxHash -DWITH_CUBIN -Ideps/unrar -DWITH_HWMON -D_7ZIP_ST -Wno-misleading-indentation deps/LZMA-SDK/C/Lzma2Dec.c -o obj/Lzma2Dec.LZMA.NATIVE.o -fpic\n",
            "gcc -c -std=gnu99 -W -Wall -Wextra -O2 -pipe -Iinclude/ -IOpenCL/ -Ideps/LZMA-SDK/C -Ideps/zlib -Ideps/zlib/contrib -Ideps/OpenCL-Headers -DWITH_BRAIN -Ideps/xxHash -DWITH_CUBIN -Ideps/unrar -DWITH_HWMON -D_7ZIP_ST -Wno-misleading-indentation deps/LZMA-SDK/C/Sha256.c -o obj/Sha256.LZMA.NATIVE.o -fpic\n",
            "gcc -c -std=gnu99 -W -Wall -Wextra -O2 -pipe -Iinclude/ -IOpenCL/ -Ideps/LZMA-SDK/C -Ideps/zlib -Ideps/zlib/contrib -Ideps/OpenCL-Headers -DWITH_BRAIN -Ideps/xxHash -DWITH_CUBIN -Ideps/unrar -DWITH_HWMON -D_7ZIP_ST -Wno-misleading-indentation deps/LZMA-SDK/C/Sha256Opt.c -o obj/Sha256Opt.LZMA.NATIVE.o -fpic\n",
            "\u001b[01m\u001b[Kdeps/LZMA-SDK/C/Sha256Opt.c:358:9:\u001b[m\u001b[K \u001b[01;36m\u001b[Knote: \u001b[m\u001b[K#pragma message: Sha256 HW-SW stub was used\n",
            " #pragma \u001b[01;36m\u001b[Kmessage\u001b[m\u001b[K(\"Sha256 HW-SW stub was used\")\n",
            "         \u001b[01;36m\u001b[K^~~~~~~\u001b[m\u001b[K\n",
            "gcc -c -std=gnu99 -W -Wall -Wextra -O2 -pipe -Iinclude/ -IOpenCL/ -Ideps/LZMA-SDK/C -Ideps/zlib -Ideps/zlib/contrib -Ideps/OpenCL-Headers -DWITH_BRAIN -Ideps/xxHash -DWITH_CUBIN -Ideps/unrar -DWITH_HWMON -D_7ZIP_ST -Wno-misleading-indentation deps/LZMA-SDK/C/Xz.c -o obj/Xz.LZMA.NATIVE.o -fpic\n",
            "gcc -c -std=gnu99 -W -Wall -Wextra -O2 -pipe -Iinclude/ -IOpenCL/ -Ideps/LZMA-SDK/C -Ideps/zlib -Ideps/zlib/contrib -Ideps/OpenCL-Headers -DWITH_BRAIN -Ideps/xxHash -DWITH_CUBIN -Ideps/unrar -DWITH_HWMON -D_7ZIP_ST -Wno-misleading-indentation deps/LZMA-SDK/C/XzCrc64.c -o obj/XzCrc64.LZMA.NATIVE.o -fpic\n",
            "gcc -c -std=gnu99 -W -Wall -Wextra -O2 -pipe -Iinclude/ -IOpenCL/ -Ideps/LZMA-SDK/C -Ideps/zlib -Ideps/zlib/contrib -Ideps/OpenCL-Headers -DWITH_BRAIN -Ideps/xxHash -DWITH_CUBIN -Ideps/unrar -DWITH_HWMON -D_7ZIP_ST -Wno-misleading-indentation deps/LZMA-SDK/C/XzCrc64Opt.c -o obj/XzCrc64Opt.LZMA.NATIVE.o -fpic\n",
            "gcc -c -std=gnu99 -W -Wall -Wextra -O2 -pipe -Iinclude/ -IOpenCL/ -Ideps/LZMA-SDK/C -Ideps/zlib -Ideps/zlib/contrib -Ideps/OpenCL-Headers -DWITH_BRAIN -Ideps/xxHash -DWITH_CUBIN -Ideps/unrar -DWITH_HWMON -D_7ZIP_ST -Wno-misleading-indentation deps/LZMA-SDK/C/XzDec.c -o obj/XzDec.LZMA.NATIVE.o -fpic\n",
            "gcc -c -std=gnu99 -W -Wall -Wextra -O2 -pipe -Iinclude/ -IOpenCL/ -Ideps/LZMA-SDK/C -Ideps/zlib -Ideps/zlib/contrib -Ideps/OpenCL-Headers -DWITH_BRAIN -Ideps/xxHash -DWITH_CUBIN -Ideps/unrar -DWITH_HWMON -D_7ZIP_ST -Wno-misleading-indentation deps/LZMA-SDK/C/XzIn.c -o obj/XzIn.LZMA.NATIVE.o -fpic\n",
            "gcc -c -std=gnu99 -W -Wall -Wextra -O2 -pipe -Iinclude/ -IOpenCL/ -Ideps/LZMA-SDK/C -Ideps/zlib -Ideps/zlib/contrib -Ideps/OpenCL-Headers -DWITH_BRAIN -Ideps/xxHash -DWITH_CUBIN -Ideps/unrar -DWITH_HWMON -Wno-implicit-fallthrough -Wno-implicit-function-declaration -Wno-unused-parameter -DIOAPI_NO_64 -DUNZ_BUFSIZE=262144 deps/zlib/adler32.c -o obj/adler32.ZLIB.NATIVE.o -fpic\n",
            "gcc -c -std=gnu99 -W -Wall -Wextra -O2 -pipe -Iinclude/ -IOpenCL/ -Ideps/LZMA-SDK/C -Ideps/zlib -Ideps/zlib/contrib -Ideps/OpenCL-Headers -DWITH_BRAIN -Ideps/xxHash -DWITH_CUBIN -Ideps/unrar -DWITH_HWMON -Wno-implicit-fallthrough -Wno-implicit-function-declaration -Wno-unused-parameter -DIOAPI_NO_64 -DUNZ_BUFSIZE=262144 deps/zlib/crc32.c -o obj/crc32.ZLIB.NATIVE.o -fpic\n",
            "gcc -c -std=gnu99 -W -Wall -Wextra -O2 -pipe -Iinclude/ -IOpenCL/ -Ideps/LZMA-SDK/C -Ideps/zlib -Ideps/zlib/contrib -Ideps/OpenCL-Headers -DWITH_BRAIN -Ideps/xxHash -DWITH_CUBIN -Ideps/unrar -DWITH_HWMON -Wno-implicit-fallthrough -Wno-implicit-function-declaration -Wno-unused-parameter -DIOAPI_NO_64 -DUNZ_BUFSIZE=262144 deps/zlib/deflate.c -o obj/deflate.ZLIB.NATIVE.o -fpic\n",
            "gcc -c -std=gnu99 -W -Wall -Wextra -O2 -pipe -Iinclude/ -IOpenCL/ -Ideps/LZMA-SDK/C -Ideps/zlib -Ideps/zlib/contrib -Ideps/OpenCL-Headers -DWITH_BRAIN -Ideps/xxHash -DWITH_CUBIN -Ideps/unrar -DWITH_HWMON -Wno-implicit-fallthrough -Wno-implicit-function-declaration -Wno-unused-parameter -DIOAPI_NO_64 -DUNZ_BUFSIZE=262144 deps/zlib/inflate.c -o obj/inflate.ZLIB.NATIVE.o -fpic\n",
            "gcc -c -std=gnu99 -W -Wall -Wextra -O2 -pipe -Iinclude/ -IOpenCL/ -Ideps/LZMA-SDK/C -Ideps/zlib -Ideps/zlib/contrib -Ideps/OpenCL-Headers -DWITH_BRAIN -Ideps/xxHash -DWITH_CUBIN -Ideps/unrar -DWITH_HWMON -Wno-implicit-fallthrough -Wno-implicit-function-declaration -Wno-unused-parameter -DIOAPI_NO_64 -DUNZ_BUFSIZE=262144 deps/zlib/inffast.c -o obj/inffast.ZLIB.NATIVE.o -fpic\n",
            "gcc -c -std=gnu99 -W -Wall -Wextra -O2 -pipe -Iinclude/ -IOpenCL/ -Ideps/LZMA-SDK/C -Ideps/zlib -Ideps/zlib/contrib -Ideps/OpenCL-Headers -DWITH_BRAIN -Ideps/xxHash -DWITH_CUBIN -Ideps/unrar -DWITH_HWMON -Wno-implicit-fallthrough -Wno-implicit-function-declaration -Wno-unused-parameter -DIOAPI_NO_64 -DUNZ_BUFSIZE=262144 deps/zlib/inftrees.c -o obj/inftrees.ZLIB.NATIVE.o -fpic\n",
            "gcc -c -std=gnu99 -W -Wall -Wextra -O2 -pipe -Iinclude/ -IOpenCL/ -Ideps/LZMA-SDK/C -Ideps/zlib -Ideps/zlib/contrib -Ideps/OpenCL-Headers -DWITH_BRAIN -Ideps/xxHash -DWITH_CUBIN -Ideps/unrar -DWITH_HWMON -Wno-implicit-fallthrough -Wno-implicit-function-declaration -Wno-unused-parameter -DIOAPI_NO_64 -DUNZ_BUFSIZE=262144 deps/zlib/trees.c -o obj/trees.ZLIB.NATIVE.o -fpic\n",
            "gcc -c -std=gnu99 -W -Wall -Wextra -O2 -pipe -Iinclude/ -IOpenCL/ -Ideps/LZMA-SDK/C -Ideps/zlib -Ideps/zlib/contrib -Ideps/OpenCL-Headers -DWITH_BRAIN -Ideps/xxHash -DWITH_CUBIN -Ideps/unrar -DWITH_HWMON -Wno-implicit-fallthrough -Wno-implicit-function-declaration -Wno-unused-parameter -DIOAPI_NO_64 -DUNZ_BUFSIZE=262144 deps/zlib/gzread.c -o obj/gzread.ZLIB.NATIVE.o -fpic\n",
            "gcc -c -std=gnu99 -W -Wall -Wextra -O2 -pipe -Iinclude/ -IOpenCL/ -Ideps/LZMA-SDK/C -Ideps/zlib -Ideps/zlib/contrib -Ideps/OpenCL-Headers -DWITH_BRAIN -Ideps/xxHash -DWITH_CUBIN -Ideps/unrar -DWITH_HWMON -Wno-implicit-fallthrough -Wno-implicit-function-declaration -Wno-unused-parameter -DIOAPI_NO_64 -DUNZ_BUFSIZE=262144 deps/zlib/gzwrite.c -o obj/gzwrite.ZLIB.NATIVE.o -fpic\n",
            "gcc -c -std=gnu99 -W -Wall -Wextra -O2 -pipe -Iinclude/ -IOpenCL/ -Ideps/LZMA-SDK/C -Ideps/zlib -Ideps/zlib/contrib -Ideps/OpenCL-Headers -DWITH_BRAIN -Ideps/xxHash -DWITH_CUBIN -Ideps/unrar -DWITH_HWMON -Wno-implicit-fallthrough -Wno-implicit-function-declaration -Wno-unused-parameter -DIOAPI_NO_64 -DUNZ_BUFSIZE=262144 deps/zlib/gzclose.c -o obj/gzclose.ZLIB.NATIVE.o -fpic\n",
            "gcc -c -std=gnu99 -W -Wall -Wextra -O2 -pipe -Iinclude/ -IOpenCL/ -Ideps/LZMA-SDK/C -Ideps/zlib -Ideps/zlib/contrib -Ideps/OpenCL-Headers -DWITH_BRAIN -Ideps/xxHash -DWITH_CUBIN -Ideps/unrar -DWITH_HWMON -Wno-implicit-fallthrough -Wno-implicit-function-declaration -Wno-unused-parameter -DIOAPI_NO_64 -DUNZ_BUFSIZE=262144 deps/zlib/zutil.c -o obj/zutil.ZLIB.NATIVE.o -fpic\n",
            "gcc -c -std=gnu99 -W -Wall -Wextra -O2 -pipe -Iinclude/ -IOpenCL/ -Ideps/LZMA-SDK/C -Ideps/zlib -Ideps/zlib/contrib -Ideps/OpenCL-Headers -DWITH_BRAIN -Ideps/xxHash -DWITH_CUBIN -Ideps/unrar -DWITH_HWMON -Wno-implicit-fallthrough -Wno-implicit-function-declaration -Wno-unused-parameter -DIOAPI_NO_64 -DUNZ_BUFSIZE=262144 deps/zlib/gzlib.c -o obj/gzlib.ZLIB.NATIVE.o -fpic\n",
            "gcc -c -std=gnu99 -W -Wall -Wextra -O2 -pipe -Iinclude/ -IOpenCL/ -Ideps/LZMA-SDK/C -Ideps/zlib -Ideps/zlib/contrib -Ideps/OpenCL-Headers -DWITH_BRAIN -Ideps/xxHash -DWITH_CUBIN -Ideps/unrar -DWITH_HWMON -Wno-implicit-fallthrough -Wno-implicit-function-declaration -Wno-unused-parameter -DIOAPI_NO_64 -DUNZ_BUFSIZE=262144 deps/zlib/contrib/minizip/unzip.c -o obj/contrib/minizip/unzip.ZLIB.NATIVE.o -fpic\n",
            "gcc -c -std=gnu99 -W -Wall -Wextra -O2 -pipe -Iinclude/ -IOpenCL/ -Ideps/LZMA-SDK/C -Ideps/zlib -Ideps/zlib/contrib -Ideps/OpenCL-Headers -DWITH_BRAIN -Ideps/xxHash -DWITH_CUBIN -Ideps/unrar -DWITH_HWMON -Wno-implicit-fallthrough -Wno-implicit-function-declaration -Wno-unused-parameter -DIOAPI_NO_64 -DUNZ_BUFSIZE=262144 deps/zlib/contrib/minizip/ioapi.c -o obj/contrib/minizip/ioapi.ZLIB.NATIVE.o -fpic\n",
            "gcc -c -std=gnu99 -W -Wall -Wextra -O2 -pipe -Iinclude/ -IOpenCL/ -Ideps/LZMA-SDK/C -Ideps/zlib -Ideps/zlib/contrib -Ideps/OpenCL-Headers -DWITH_BRAIN -Ideps/xxHash -DWITH_CUBIN -Ideps/unrar -DWITH_HWMON deps/xxHash/xxhash.c -o obj/xxhash.XXHASH.NATIVE.o -fpic\n",
            "g++ -c  -W -Wall -Wextra -O2 -pipe -Iinclude/ -IOpenCL/ -Ideps/LZMA-SDK/C -Ideps/zlib -Ideps/zlib/contrib -Ideps/OpenCL-Headers -DWITH_BRAIN -Ideps/xxHash -DWITH_CUBIN -Ideps/unrar -DWITH_HWMON -Wno-class-memaccess -Wno-misleading-indentation -Wno-missing-braces -Wno-unused-variable -Wno-unused-parameter -Wno-unused-function -Wno-sign-compare -Wno-dangling-else -Wno-switch -Wno-parentheses -Wno-implicit-fallthrough -Wno-extra -Wno-unknown-pragmas deps/unrar/strlist.cpp -o obj/strlist.UNRAR.NATIVE.o -fpic\n",
            "g++ -c  -W -Wall -Wextra -O2 -pipe -Iinclude/ -IOpenCL/ -Ideps/LZMA-SDK/C -Ideps/zlib -Ideps/zlib/contrib -Ideps/OpenCL-Headers -DWITH_BRAIN -Ideps/xxHash -DWITH_CUBIN -Ideps/unrar -DWITH_HWMON -Wno-class-memaccess -Wno-misleading-indentation -Wno-missing-braces -Wno-unused-variable -Wno-unused-parameter -Wno-unused-function -Wno-sign-compare -Wno-dangling-else -Wno-switch -Wno-parentheses -Wno-implicit-fallthrough -Wno-extra -Wno-unknown-pragmas deps/unrar/strfn.cpp -o obj/strfn.UNRAR.NATIVE.o -fpic\n",
            "g++ -c  -W -Wall -Wextra -O2 -pipe -Iinclude/ -IOpenCL/ -Ideps/LZMA-SDK/C -Ideps/zlib -Ideps/zlib/contrib -Ideps/OpenCL-Headers -DWITH_BRAIN -Ideps/xxHash -DWITH_CUBIN -Ideps/unrar -DWITH_HWMON -Wno-class-memaccess -Wno-misleading-indentation -Wno-missing-braces -Wno-unused-variable -Wno-unused-parameter -Wno-unused-function -Wno-sign-compare -Wno-dangling-else -Wno-switch -Wno-parentheses -Wno-implicit-fallthrough -Wno-extra -Wno-unknown-pragmas deps/unrar/pathfn.cpp -o obj/pathfn.UNRAR.NATIVE.o -fpic\n",
            "g++ -c  -W -Wall -Wextra -O2 -pipe -Iinclude/ -IOpenCL/ -Ideps/LZMA-SDK/C -Ideps/zlib -Ideps/zlib/contrib -Ideps/OpenCL-Headers -DWITH_BRAIN -Ideps/xxHash -DWITH_CUBIN -Ideps/unrar -DWITH_HWMON -Wno-class-memaccess -Wno-misleading-indentation -Wno-missing-braces -Wno-unused-variable -Wno-unused-parameter -Wno-unused-function -Wno-sign-compare -Wno-dangling-else -Wno-switch -Wno-parentheses -Wno-implicit-fallthrough -Wno-extra -Wno-unknown-pragmas deps/unrar/smallfn.cpp -o obj/smallfn.UNRAR.NATIVE.o -fpic\n",
            "g++ -c  -W -Wall -Wextra -O2 -pipe -Iinclude/ -IOpenCL/ -Ideps/LZMA-SDK/C -Ideps/zlib -Ideps/zlib/contrib -Ideps/OpenCL-Headers -DWITH_BRAIN -Ideps/xxHash -DWITH_CUBIN -Ideps/unrar -DWITH_HWMON -Wno-class-memaccess -Wno-misleading-indentation -Wno-missing-braces -Wno-unused-variable -Wno-unused-parameter -Wno-unused-function -Wno-sign-compare -Wno-dangling-else -Wno-switch -Wno-parentheses -Wno-implicit-fallthrough -Wno-extra -Wno-unknown-pragmas deps/unrar/global.cpp -o obj/global.UNRAR.NATIVE.o -fpic\n",
            "g++ -c  -W -Wall -Wextra -O2 -pipe -Iinclude/ -IOpenCL/ -Ideps/LZMA-SDK/C -Ideps/zlib -Ideps/zlib/contrib -Ideps/OpenCL-Headers -DWITH_BRAIN -Ideps/xxHash -DWITH_CUBIN -Ideps/unrar -DWITH_HWMON -Wno-class-memaccess -Wno-misleading-indentation -Wno-missing-braces -Wno-unused-variable -Wno-unused-parameter -Wno-unused-function -Wno-sign-compare -Wno-dangling-else -Wno-switch -Wno-parentheses -Wno-implicit-fallthrough -Wno-extra -Wno-unknown-pragmas deps/unrar/file.cpp -o obj/file.UNRAR.NATIVE.o -fpic\n",
            "g++ -c  -W -Wall -Wextra -O2 -pipe -Iinclude/ -IOpenCL/ -Ideps/LZMA-SDK/C -Ideps/zlib -Ideps/zlib/contrib -Ideps/OpenCL-Headers -DWITH_BRAIN -Ideps/xxHash -DWITH_CUBIN -Ideps/unrar -DWITH_HWMON -Wno-class-memaccess -Wno-misleading-indentation -Wno-missing-braces -Wno-unused-variable -Wno-unused-parameter -Wno-unused-function -Wno-sign-compare -Wno-dangling-else -Wno-switch -Wno-parentheses -Wno-implicit-fallthrough -Wno-extra -Wno-unknown-pragmas deps/unrar/filefn.cpp -o obj/filefn.UNRAR.NATIVE.o -fpic\n",
            "g++ -c  -W -Wall -Wextra -O2 -pipe -Iinclude/ -IOpenCL/ -Ideps/LZMA-SDK/C -Ideps/zlib -Ideps/zlib/contrib -Ideps/OpenCL-Headers -DWITH_BRAIN -Ideps/xxHash -DWITH_CUBIN -Ideps/unrar -DWITH_HWMON -Wno-class-memaccess -Wno-misleading-indentation -Wno-missing-braces -Wno-unused-variable -Wno-unused-parameter -Wno-unused-function -Wno-sign-compare -Wno-dangling-else -Wno-switch -Wno-parentheses -Wno-implicit-fallthrough -Wno-extra -Wno-unknown-pragmas deps/unrar/filcreat.cpp -o obj/filcreat.UNRAR.NATIVE.o -fpic\n",
            "g++ -c  -W -Wall -Wextra -O2 -pipe -Iinclude/ -IOpenCL/ -Ideps/LZMA-SDK/C -Ideps/zlib -Ideps/zlib/contrib -Ideps/OpenCL-Headers -DWITH_BRAIN -Ideps/xxHash -DWITH_CUBIN -Ideps/unrar -DWITH_HWMON -Wno-class-memaccess -Wno-misleading-indentation -Wno-missing-braces -Wno-unused-variable -Wno-unused-parameter -Wno-unused-function -Wno-sign-compare -Wno-dangling-else -Wno-switch -Wno-parentheses -Wno-implicit-fallthrough -Wno-extra -Wno-unknown-pragmas deps/unrar/archive.cpp -o obj/archive.UNRAR.NATIVE.o -fpic\n",
            "g++ -c  -W -Wall -Wextra -O2 -pipe -Iinclude/ -IOpenCL/ -Ideps/LZMA-SDK/C -Ideps/zlib -Ideps/zlib/contrib -Ideps/OpenCL-Headers -DWITH_BRAIN -Ideps/xxHash -DWITH_CUBIN -Ideps/unrar -DWITH_HWMON -Wno-class-memaccess -Wno-misleading-indentation -Wno-missing-braces -Wno-unused-variable -Wno-unused-parameter -Wno-unused-function -Wno-sign-compare -Wno-dangling-else -Wno-switch -Wno-parentheses -Wno-implicit-fallthrough -Wno-extra -Wno-unknown-pragmas deps/unrar/arcread.cpp -o obj/arcread.UNRAR.NATIVE.o -fpic\n",
            "g++ -c  -W -Wall -Wextra -O2 -pipe -Iinclude/ -IOpenCL/ -Ideps/LZMA-SDK/C -Ideps/zlib -Ideps/zlib/contrib -Ideps/OpenCL-Headers -DWITH_BRAIN -Ideps/xxHash -DWITH_CUBIN -Ideps/unrar -DWITH_HWMON -Wno-class-memaccess -Wno-misleading-indentation -Wno-missing-braces -Wno-unused-variable -Wno-unused-parameter -Wno-unused-function -Wno-sign-compare -Wno-dangling-else -Wno-switch -Wno-parentheses -Wno-implicit-fallthrough -Wno-extra -Wno-unknown-pragmas deps/unrar/unicode.cpp -o obj/unicode.UNRAR.NATIVE.o -fpic\n",
            "g++ -c  -W -Wall -Wextra -O2 -pipe -Iinclude/ -IOpenCL/ -Ideps/LZMA-SDK/C -Ideps/zlib -Ideps/zlib/contrib -Ideps/OpenCL-Headers -DWITH_BRAIN -Ideps/xxHash -DWITH_CUBIN -Ideps/unrar -DWITH_HWMON -Wno-class-memaccess -Wno-misleading-indentation -Wno-missing-braces -Wno-unused-variable -Wno-unused-parameter -Wno-unused-function -Wno-sign-compare -Wno-dangling-else -Wno-switch -Wno-parentheses -Wno-implicit-fallthrough -Wno-extra -Wno-unknown-pragmas deps/unrar/system.cpp -o obj/system.UNRAR.NATIVE.o -fpic\n",
            "g++ -c  -W -Wall -Wextra -O2 -pipe -Iinclude/ -IOpenCL/ -Ideps/LZMA-SDK/C -Ideps/zlib -Ideps/zlib/contrib -Ideps/OpenCL-Headers -DWITH_BRAIN -Ideps/xxHash -DWITH_CUBIN -Ideps/unrar -DWITH_HWMON -Wno-class-memaccess -Wno-misleading-indentation -Wno-missing-braces -Wno-unused-variable -Wno-unused-parameter -Wno-unused-function -Wno-sign-compare -Wno-dangling-else -Wno-switch -Wno-parentheses -Wno-implicit-fallthrough -Wno-extra -Wno-unknown-pragmas deps/unrar/isnt.cpp -o obj/isnt.UNRAR.NATIVE.o -fpic\n",
            "g++ -c  -W -Wall -Wextra -O2 -pipe -Iinclude/ -IOpenCL/ -Ideps/LZMA-SDK/C -Ideps/zlib -Ideps/zlib/contrib -Ideps/OpenCL-Headers -DWITH_BRAIN -Ideps/xxHash -DWITH_CUBIN -Ideps/unrar -DWITH_HWMON -Wno-class-memaccess -Wno-misleading-indentation -Wno-missing-braces -Wno-unused-variable -Wno-unused-parameter -Wno-unused-function -Wno-sign-compare -Wno-dangling-else -Wno-switch -Wno-parentheses -Wno-implicit-fallthrough -Wno-extra -Wno-unknown-pragmas deps/unrar/crypt.cpp -o obj/crypt.UNRAR.NATIVE.o -fpic\n",
            "g++ -c  -W -Wall -Wextra -O2 -pipe -Iinclude/ -IOpenCL/ -Ideps/LZMA-SDK/C -Ideps/zlib -Ideps/zlib/contrib -Ideps/OpenCL-Headers -DWITH_BRAIN -Ideps/xxHash -DWITH_CUBIN -Ideps/unrar -DWITH_HWMON -Wno-class-memaccess -Wno-misleading-indentation -Wno-missing-braces -Wno-unused-variable -Wno-unused-parameter -Wno-unused-function -Wno-sign-compare -Wno-dangling-else -Wno-switch -Wno-parentheses -Wno-implicit-fallthrough -Wno-extra -Wno-unknown-pragmas deps/unrar/crc.cpp -o obj/crc.UNRAR.NATIVE.o -fpic\n",
            "g++ -c  -W -Wall -Wextra -O2 -pipe -Iinclude/ -IOpenCL/ -Ideps/LZMA-SDK/C -Ideps/zlib -Ideps/zlib/contrib -Ideps/OpenCL-Headers -DWITH_BRAIN -Ideps/xxHash -DWITH_CUBIN -Ideps/unrar -DWITH_HWMON -Wno-class-memaccess -Wno-misleading-indentation -Wno-missing-braces -Wno-unused-variable -Wno-unused-parameter -Wno-unused-function -Wno-sign-compare -Wno-dangling-else -Wno-switch -Wno-parentheses -Wno-implicit-fallthrough -Wno-extra -Wno-unknown-pragmas deps/unrar/rawread.cpp -o obj/rawread.UNRAR.NATIVE.o -fpic\n",
            "g++ -c  -W -Wall -Wextra -O2 -pipe -Iinclude/ -IOpenCL/ -Ideps/LZMA-SDK/C -Ideps/zlib -Ideps/zlib/contrib -Ideps/OpenCL-Headers -DWITH_BRAIN -Ideps/xxHash -DWITH_CUBIN -Ideps/unrar -DWITH_HWMON -Wno-class-memaccess -Wno-misleading-indentation -Wno-missing-braces -Wno-unused-variable -Wno-unused-parameter -Wno-unused-function -Wno-sign-compare -Wno-dangling-else -Wno-switch -Wno-parentheses -Wno-implicit-fallthrough -Wno-extra -Wno-unknown-pragmas deps/unrar/encname.cpp -o obj/encname.UNRAR.NATIVE.o -fpic\n",
            "g++ -c  -W -Wall -Wextra -O2 -pipe -Iinclude/ -IOpenCL/ -Ideps/LZMA-SDK/C -Ideps/zlib -Ideps/zlib/contrib -Ideps/OpenCL-Headers -DWITH_BRAIN -Ideps/xxHash -DWITH_CUBIN -Ideps/unrar -DWITH_HWMON -Wno-class-memaccess -Wno-misleading-indentation -Wno-missing-braces -Wno-unused-variable -Wno-unused-parameter -Wno-unused-function -Wno-sign-compare -Wno-dangling-else -Wno-switch -Wno-parentheses -Wno-implicit-fallthrough -Wno-extra -Wno-unknown-pragmas deps/unrar/resource.cpp -o obj/resource.UNRAR.NATIVE.o -fpic\n",
            "g++ -c  -W -Wall -Wextra -O2 -pipe -Iinclude/ -IOpenCL/ -Ideps/LZMA-SDK/C -Ideps/zlib -Ideps/zlib/contrib -Ideps/OpenCL-Headers -DWITH_BRAIN -Ideps/xxHash -DWITH_CUBIN -Ideps/unrar -DWITH_HWMON -Wno-class-memaccess -Wno-misleading-indentation -Wno-missing-braces -Wno-unused-variable -Wno-unused-parameter -Wno-unused-function -Wno-sign-compare -Wno-dangling-else -Wno-switch -Wno-parentheses -Wno-implicit-fallthrough -Wno-extra -Wno-unknown-pragmas deps/unrar/match.cpp -o obj/match.UNRAR.NATIVE.o -fpic\n",
            "g++ -c  -W -Wall -Wextra -O2 -pipe -Iinclude/ -IOpenCL/ -Ideps/LZMA-SDK/C -Ideps/zlib -Ideps/zlib/contrib -Ideps/OpenCL-Headers -DWITH_BRAIN -Ideps/xxHash -DWITH_CUBIN -Ideps/unrar -DWITH_HWMON -Wno-class-memaccess -Wno-misleading-indentation -Wno-missing-braces -Wno-unused-variable -Wno-unused-parameter -Wno-unused-function -Wno-sign-compare -Wno-dangling-else -Wno-switch -Wno-parentheses -Wno-implicit-fallthrough -Wno-extra -Wno-unknown-pragmas deps/unrar/timefn.cpp -o obj/timefn.UNRAR.NATIVE.o -fpic\n",
            "g++ -c  -W -Wall -Wextra -O2 -pipe -Iinclude/ -IOpenCL/ -Ideps/LZMA-SDK/C -Ideps/zlib -Ideps/zlib/contrib -Ideps/OpenCL-Headers -DWITH_BRAIN -Ideps/xxHash -DWITH_CUBIN -Ideps/unrar -DWITH_HWMON -Wno-class-memaccess -Wno-misleading-indentation -Wno-missing-braces -Wno-unused-variable -Wno-unused-parameter -Wno-unused-function -Wno-sign-compare -Wno-dangling-else -Wno-switch -Wno-parentheses -Wno-implicit-fallthrough -Wno-extra -Wno-unknown-pragmas deps/unrar/rdwrfn.cpp -o obj/rdwrfn.UNRAR.NATIVE.o -fpic\n",
            "g++ -c  -W -Wall -Wextra -O2 -pipe -Iinclude/ -IOpenCL/ -Ideps/LZMA-SDK/C -Ideps/zlib -Ideps/zlib/contrib -Ideps/OpenCL-Headers -DWITH_BRAIN -Ideps/xxHash -DWITH_CUBIN -Ideps/unrar -DWITH_HWMON -Wno-class-memaccess -Wno-misleading-indentation -Wno-missing-braces -Wno-unused-variable -Wno-unused-parameter -Wno-unused-function -Wno-sign-compare -Wno-dangling-else -Wno-switch -Wno-parentheses -Wno-implicit-fallthrough -Wno-extra -Wno-unknown-pragmas deps/unrar/consio.cpp -o obj/consio.UNRAR.NATIVE.o -fpic\n",
            "g++ -c  -W -Wall -Wextra -O2 -pipe -Iinclude/ -IOpenCL/ -Ideps/LZMA-SDK/C -Ideps/zlib -Ideps/zlib/contrib -Ideps/OpenCL-Headers -DWITH_BRAIN -Ideps/xxHash -DWITH_CUBIN -Ideps/unrar -DWITH_HWMON -Wno-class-memaccess -Wno-misleading-indentation -Wno-missing-braces -Wno-unused-variable -Wno-unused-parameter -Wno-unused-function -Wno-sign-compare -Wno-dangling-else -Wno-switch -Wno-parentheses -Wno-implicit-fallthrough -Wno-extra -Wno-unknown-pragmas deps/unrar/options.cpp -o obj/options.UNRAR.NATIVE.o -fpic\n",
            "g++ -c  -W -Wall -Wextra -O2 -pipe -Iinclude/ -IOpenCL/ -Ideps/LZMA-SDK/C -Ideps/zlib -Ideps/zlib/contrib -Ideps/OpenCL-Headers -DWITH_BRAIN -Ideps/xxHash -DWITH_CUBIN -Ideps/unrar -DWITH_HWMON -Wno-class-memaccess -Wno-misleading-indentation -Wno-missing-braces -Wno-unused-variable -Wno-unused-parameter -Wno-unused-function -Wno-sign-compare -Wno-dangling-else -Wno-switch -Wno-parentheses -Wno-implicit-fallthrough -Wno-extra -Wno-unknown-pragmas deps/unrar/errhnd.cpp -o obj/errhnd.UNRAR.NATIVE.o -fpic\n",
            "g++ -c  -W -Wall -Wextra -O2 -pipe -Iinclude/ -IOpenCL/ -Ideps/LZMA-SDK/C -Ideps/zlib -Ideps/zlib/contrib -Ideps/OpenCL-Headers -DWITH_BRAIN -Ideps/xxHash -DWITH_CUBIN -Ideps/unrar -DWITH_HWMON -Wno-class-memaccess -Wno-misleading-indentation -Wno-missing-braces -Wno-unused-variable -Wno-unused-parameter -Wno-unused-function -Wno-sign-compare -Wno-dangling-else -Wno-switch -Wno-parentheses -Wno-implicit-fallthrough -Wno-extra -Wno-unknown-pragmas deps/unrar/rarvm.cpp -o obj/rarvm.UNRAR.NATIVE.o -fpic\n",
            "g++ -c  -W -Wall -Wextra -O2 -pipe -Iinclude/ -IOpenCL/ -Ideps/LZMA-SDK/C -Ideps/zlib -Ideps/zlib/contrib -Ideps/OpenCL-Headers -DWITH_BRAIN -Ideps/xxHash -DWITH_CUBIN -Ideps/unrar -DWITH_HWMON -Wno-class-memaccess -Wno-misleading-indentation -Wno-missing-braces -Wno-unused-variable -Wno-unused-parameter -Wno-unused-function -Wno-sign-compare -Wno-dangling-else -Wno-switch -Wno-parentheses -Wno-implicit-fallthrough -Wno-extra -Wno-unknown-pragmas deps/unrar/secpassword.cpp -o obj/secpassword.UNRAR.NATIVE.o -fpic\n",
            "g++ -c  -W -Wall -Wextra -O2 -pipe -Iinclude/ -IOpenCL/ -Ideps/LZMA-SDK/C -Ideps/zlib -Ideps/zlib/contrib -Ideps/OpenCL-Headers -DWITH_BRAIN -Ideps/xxHash -DWITH_CUBIN -Ideps/unrar -DWITH_HWMON -Wno-class-memaccess -Wno-misleading-indentation -Wno-missing-braces -Wno-unused-variable -Wno-unused-parameter -Wno-unused-function -Wno-sign-compare -Wno-dangling-else -Wno-switch -Wno-parentheses -Wno-implicit-fallthrough -Wno-extra -Wno-unknown-pragmas deps/unrar/rijndael.cpp -o obj/rijndael.UNRAR.NATIVE.o -fpic\n",
            "g++ -c  -W -Wall -Wextra -O2 -pipe -Iinclude/ -IOpenCL/ -Ideps/LZMA-SDK/C -Ideps/zlib -Ideps/zlib/contrib -Ideps/OpenCL-Headers -DWITH_BRAIN -Ideps/xxHash -DWITH_CUBIN -Ideps/unrar -DWITH_HWMON -Wno-class-memaccess -Wno-misleading-indentation -Wno-missing-braces -Wno-unused-variable -Wno-unused-parameter -Wno-unused-function -Wno-sign-compare -Wno-dangling-else -Wno-switch -Wno-parentheses -Wno-implicit-fallthrough -Wno-extra -Wno-unknown-pragmas deps/unrar/getbits.cpp -o obj/getbits.UNRAR.NATIVE.o -fpic\n",
            "g++ -c  -W -Wall -Wextra -O2 -pipe -Iinclude/ -IOpenCL/ -Ideps/LZMA-SDK/C -Ideps/zlib -Ideps/zlib/contrib -Ideps/OpenCL-Headers -DWITH_BRAIN -Ideps/xxHash -DWITH_CUBIN -Ideps/unrar -DWITH_HWMON -Wno-class-memaccess -Wno-misleading-indentation -Wno-missing-braces -Wno-unused-variable -Wno-unused-parameter -Wno-unused-function -Wno-sign-compare -Wno-dangling-else -Wno-switch -Wno-parentheses -Wno-implicit-fallthrough -Wno-extra -Wno-unknown-pragmas deps/unrar/sha1.cpp -o obj/sha1.UNRAR.NATIVE.o -fpic\n",
            "g++ -c  -W -Wall -Wextra -O2 -pipe -Iinclude/ -IOpenCL/ -Ideps/LZMA-SDK/C -Ideps/zlib -Ideps/zlib/contrib -Ideps/OpenCL-Headers -DWITH_BRAIN -Ideps/xxHash -DWITH_CUBIN -Ideps/unrar -DWITH_HWMON -Wno-class-memaccess -Wno-misleading-indentation -Wno-missing-braces -Wno-unused-variable -Wno-unused-parameter -Wno-unused-function -Wno-sign-compare -Wno-dangling-else -Wno-switch -Wno-parentheses -Wno-implicit-fallthrough -Wno-extra -Wno-unknown-pragmas deps/unrar/sha256.cpp -o obj/sha256.UNRAR.NATIVE.o -fpic\n",
            "g++ -c  -W -Wall -Wextra -O2 -pipe -Iinclude/ -IOpenCL/ -Ideps/LZMA-SDK/C -Ideps/zlib -Ideps/zlib/contrib -Ideps/OpenCL-Headers -DWITH_BRAIN -Ideps/xxHash -DWITH_CUBIN -Ideps/unrar -DWITH_HWMON -Wno-class-memaccess -Wno-misleading-indentation -Wno-missing-braces -Wno-unused-variable -Wno-unused-parameter -Wno-unused-function -Wno-sign-compare -Wno-dangling-else -Wno-switch -Wno-parentheses -Wno-implicit-fallthrough -Wno-extra -Wno-unknown-pragmas deps/unrar/blake2s.cpp -o obj/blake2s.UNRAR.NATIVE.o -fpic\n",
            "g++ -c  -W -Wall -Wextra -O2 -pipe -Iinclude/ -IOpenCL/ -Ideps/LZMA-SDK/C -Ideps/zlib -Ideps/zlib/contrib -Ideps/OpenCL-Headers -DWITH_BRAIN -Ideps/xxHash -DWITH_CUBIN -Ideps/unrar -DWITH_HWMON -Wno-class-memaccess -Wno-misleading-indentation -Wno-missing-braces -Wno-unused-variable -Wno-unused-parameter -Wno-unused-function -Wno-sign-compare -Wno-dangling-else -Wno-switch -Wno-parentheses -Wno-implicit-fallthrough -Wno-extra -Wno-unknown-pragmas deps/unrar/hash.cpp -o obj/hash.UNRAR.NATIVE.o -fpic\n",
            "g++ -c  -W -Wall -Wextra -O2 -pipe -Iinclude/ -IOpenCL/ -Ideps/LZMA-SDK/C -Ideps/zlib -Ideps/zlib/contrib -Ideps/OpenCL-Headers -DWITH_BRAIN -Ideps/xxHash -DWITH_CUBIN -Ideps/unrar -DWITH_HWMON -Wno-class-memaccess -Wno-misleading-indentation -Wno-missing-braces -Wno-unused-variable -Wno-unused-parameter -Wno-unused-function -Wno-sign-compare -Wno-dangling-else -Wno-switch -Wno-parentheses -Wno-implicit-fallthrough -Wno-extra -Wno-unknown-pragmas deps/unrar/extinfo.cpp -o obj/extinfo.UNRAR.NATIVE.o -fpic\n",
            "g++ -c  -W -Wall -Wextra -O2 -pipe -Iinclude/ -IOpenCL/ -Ideps/LZMA-SDK/C -Ideps/zlib -Ideps/zlib/contrib -Ideps/OpenCL-Headers -DWITH_BRAIN -Ideps/xxHash -DWITH_CUBIN -Ideps/unrar -DWITH_HWMON -Wno-class-memaccess -Wno-misleading-indentation -Wno-missing-braces -Wno-unused-variable -Wno-unused-parameter -Wno-unused-function -Wno-sign-compare -Wno-dangling-else -Wno-switch -Wno-parentheses -Wno-implicit-fallthrough -Wno-extra -Wno-unknown-pragmas deps/unrar/extract.cpp -o obj/extract.UNRAR.NATIVE.o -fpic\n",
            "g++ -c  -W -Wall -Wextra -O2 -pipe -Iinclude/ -IOpenCL/ -Ideps/LZMA-SDK/C -Ideps/zlib -Ideps/zlib/contrib -Ideps/OpenCL-Headers -DWITH_BRAIN -Ideps/xxHash -DWITH_CUBIN -Ideps/unrar -DWITH_HWMON -Wno-class-memaccess -Wno-misleading-indentation -Wno-missing-braces -Wno-unused-variable -Wno-unused-parameter -Wno-unused-function -Wno-sign-compare -Wno-dangling-else -Wno-switch -Wno-parentheses -Wno-implicit-fallthrough -Wno-extra -Wno-unknown-pragmas deps/unrar/volume.cpp -o obj/volume.UNRAR.NATIVE.o -fpic\n",
            "g++ -c  -W -Wall -Wextra -O2 -pipe -Iinclude/ -IOpenCL/ -Ideps/LZMA-SDK/C -Ideps/zlib -Ideps/zlib/contrib -Ideps/OpenCL-Headers -DWITH_BRAIN -Ideps/xxHash -DWITH_CUBIN -Ideps/unrar -DWITH_HWMON -Wno-class-memaccess -Wno-misleading-indentation -Wno-missing-braces -Wno-unused-variable -Wno-unused-parameter -Wno-unused-function -Wno-sign-compare -Wno-dangling-else -Wno-switch -Wno-parentheses -Wno-implicit-fallthrough -Wno-extra -Wno-unknown-pragmas deps/unrar/list.cpp -o obj/list.UNRAR.NATIVE.o -fpic\n",
            "g++ -c  -W -Wall -Wextra -O2 -pipe -Iinclude/ -IOpenCL/ -Ideps/LZMA-SDK/C -Ideps/zlib -Ideps/zlib/contrib -Ideps/OpenCL-Headers -DWITH_BRAIN -Ideps/xxHash -DWITH_CUBIN -Ideps/unrar -DWITH_HWMON -Wno-class-memaccess -Wno-misleading-indentation -Wno-missing-braces -Wno-unused-variable -Wno-unused-parameter -Wno-unused-function -Wno-sign-compare -Wno-dangling-else -Wno-switch -Wno-parentheses -Wno-implicit-fallthrough -Wno-extra -Wno-unknown-pragmas deps/unrar/find.cpp -o obj/find.UNRAR.NATIVE.o -fpic\n",
            "g++ -c  -W -Wall -Wextra -O2 -pipe -Iinclude/ -IOpenCL/ -Ideps/LZMA-SDK/C -Ideps/zlib -Ideps/zlib/contrib -Ideps/OpenCL-Headers -DWITH_BRAIN -Ideps/xxHash -DWITH_CUBIN -Ideps/unrar -DWITH_HWMON -Wno-class-memaccess -Wno-misleading-indentation -Wno-missing-braces -Wno-unused-variable -Wno-unused-parameter -Wno-unused-function -Wno-sign-compare -Wno-dangling-else -Wno-switch -Wno-parentheses -Wno-implicit-fallthrough -Wno-extra -Wno-unknown-pragmas deps/unrar/unpack.cpp -o obj/unpack.UNRAR.NATIVE.o -fpic\n",
            "g++ -c  -W -Wall -Wextra -O2 -pipe -Iinclude/ -IOpenCL/ -Ideps/LZMA-SDK/C -Ideps/zlib -Ideps/zlib/contrib -Ideps/OpenCL-Headers -DWITH_BRAIN -Ideps/xxHash -DWITH_CUBIN -Ideps/unrar -DWITH_HWMON -Wno-class-memaccess -Wno-misleading-indentation -Wno-missing-braces -Wno-unused-variable -Wno-unused-parameter -Wno-unused-function -Wno-sign-compare -Wno-dangling-else -Wno-switch -Wno-parentheses -Wno-implicit-fallthrough -Wno-extra -Wno-unknown-pragmas deps/unrar/headers.cpp -o obj/headers.UNRAR.NATIVE.o -fpic\n",
            "g++ -c  -W -Wall -Wextra -O2 -pipe -Iinclude/ -IOpenCL/ -Ideps/LZMA-SDK/C -Ideps/zlib -Ideps/zlib/contrib -Ideps/OpenCL-Headers -DWITH_BRAIN -Ideps/xxHash -DWITH_CUBIN -Ideps/unrar -DWITH_HWMON -Wno-class-memaccess -Wno-misleading-indentation -Wno-missing-braces -Wno-unused-variable -Wno-unused-parameter -Wno-unused-function -Wno-sign-compare -Wno-dangling-else -Wno-switch -Wno-parentheses -Wno-implicit-fallthrough -Wno-extra -Wno-unknown-pragmas deps/unrar/threadpool.cpp -o obj/threadpool.UNRAR.NATIVE.o -fpic\n",
            "g++ -c  -W -Wall -Wextra -O2 -pipe -Iinclude/ -IOpenCL/ -Ideps/LZMA-SDK/C -Ideps/zlib -Ideps/zlib/contrib -Ideps/OpenCL-Headers -DWITH_BRAIN -Ideps/xxHash -DWITH_CUBIN -Ideps/unrar -DWITH_HWMON -Wno-class-memaccess -Wno-misleading-indentation -Wno-missing-braces -Wno-unused-variable -Wno-unused-parameter -Wno-unused-function -Wno-sign-compare -Wno-dangling-else -Wno-switch -Wno-parentheses -Wno-implicit-fallthrough -Wno-extra -Wno-unknown-pragmas deps/unrar/rs16.cpp -o obj/rs16.UNRAR.NATIVE.o -fpic\n",
            "g++ -c  -W -Wall -Wextra -O2 -pipe -Iinclude/ -IOpenCL/ -Ideps/LZMA-SDK/C -Ideps/zlib -Ideps/zlib/contrib -Ideps/OpenCL-Headers -DWITH_BRAIN -Ideps/xxHash -DWITH_CUBIN -Ideps/unrar -DWITH_HWMON -Wno-class-memaccess -Wno-misleading-indentation -Wno-missing-braces -Wno-unused-variable -Wno-unused-parameter -Wno-unused-function -Wno-sign-compare -Wno-dangling-else -Wno-switch -Wno-parentheses -Wno-implicit-fallthrough -Wno-extra -Wno-unknown-pragmas deps/unrar/cmddata.cpp -o obj/cmddata.UNRAR.NATIVE.o -fpic\n",
            "g++ -c  -W -Wall -Wextra -O2 -pipe -Iinclude/ -IOpenCL/ -Ideps/LZMA-SDK/C -Ideps/zlib -Ideps/zlib/contrib -Ideps/OpenCL-Headers -DWITH_BRAIN -Ideps/xxHash -DWITH_CUBIN -Ideps/unrar -DWITH_HWMON -Wno-class-memaccess -Wno-misleading-indentation -Wno-missing-braces -Wno-unused-variable -Wno-unused-parameter -Wno-unused-function -Wno-sign-compare -Wno-dangling-else -Wno-switch -Wno-parentheses -Wno-implicit-fallthrough -Wno-extra -Wno-unknown-pragmas deps/unrar/ui.cpp -o obj/ui.UNRAR.NATIVE.o -fpic\n",
            "g++ -c  -W -Wall -Wextra -O2 -pipe -Iinclude/ -IOpenCL/ -Ideps/LZMA-SDK/C -Ideps/zlib -Ideps/zlib/contrib -Ideps/OpenCL-Headers -DWITH_BRAIN -Ideps/xxHash -DWITH_CUBIN -Ideps/unrar -DWITH_HWMON -Wno-class-memaccess -Wno-misleading-indentation -Wno-missing-braces -Wno-unused-variable -Wno-unused-parameter -Wno-unused-function -Wno-sign-compare -Wno-dangling-else -Wno-switch -Wno-parentheses -Wno-implicit-fallthrough -Wno-extra -Wno-unknown-pragmas deps/unrar/filestr.cpp -o obj/filestr.UNRAR.NATIVE.o -fpic\n",
            "g++ -c  -W -Wall -Wextra -O2 -pipe -Iinclude/ -IOpenCL/ -Ideps/LZMA-SDK/C -Ideps/zlib -Ideps/zlib/contrib -Ideps/OpenCL-Headers -DWITH_BRAIN -Ideps/xxHash -DWITH_CUBIN -Ideps/unrar -DWITH_HWMON -Wno-class-memaccess -Wno-misleading-indentation -Wno-missing-braces -Wno-unused-variable -Wno-unused-parameter -Wno-unused-function -Wno-sign-compare -Wno-dangling-else -Wno-switch -Wno-parentheses -Wno-implicit-fallthrough -Wno-extra -Wno-unknown-pragmas deps/unrar/recvol.cpp -o obj/recvol.UNRAR.NATIVE.o -fpic\n",
            "g++ -c  -W -Wall -Wextra -O2 -pipe -Iinclude/ -IOpenCL/ -Ideps/LZMA-SDK/C -Ideps/zlib -Ideps/zlib/contrib -Ideps/OpenCL-Headers -DWITH_BRAIN -Ideps/xxHash -DWITH_CUBIN -Ideps/unrar -DWITH_HWMON -Wno-class-memaccess -Wno-misleading-indentation -Wno-missing-braces -Wno-unused-variable -Wno-unused-parameter -Wno-unused-function -Wno-sign-compare -Wno-dangling-else -Wno-switch -Wno-parentheses -Wno-implicit-fallthrough -Wno-extra -Wno-unknown-pragmas deps/unrar/rs.cpp -o obj/rs.UNRAR.NATIVE.o -fpic\n",
            "g++ -c  -W -Wall -Wextra -O2 -pipe -Iinclude/ -IOpenCL/ -Ideps/LZMA-SDK/C -Ideps/zlib -Ideps/zlib/contrib -Ideps/OpenCL-Headers -DWITH_BRAIN -Ideps/xxHash -DWITH_CUBIN -Ideps/unrar -DWITH_HWMON -Wno-class-memaccess -Wno-misleading-indentation -Wno-missing-braces -Wno-unused-variable -Wno-unused-parameter -Wno-unused-function -Wno-sign-compare -Wno-dangling-else -Wno-switch -Wno-parentheses -Wno-implicit-fallthrough -Wno-extra -Wno-unknown-pragmas deps/unrar/scantree.cpp -o obj/scantree.UNRAR.NATIVE.o -fpic\n",
            "g++ -c  -W -Wall -Wextra -O2 -pipe -Iinclude/ -IOpenCL/ -Ideps/LZMA-SDK/C -Ideps/zlib -Ideps/zlib/contrib -Ideps/OpenCL-Headers -DWITH_BRAIN -Ideps/xxHash -DWITH_CUBIN -Ideps/unrar -DWITH_HWMON -Wno-class-memaccess -Wno-misleading-indentation -Wno-missing-braces -Wno-unused-variable -Wno-unused-parameter -Wno-unused-function -Wno-sign-compare -Wno-dangling-else -Wno-switch -Wno-parentheses -Wno-implicit-fallthrough -Wno-extra -Wno-unknown-pragmas deps/unrar/qopen.cpp -o obj/qopen.UNRAR.NATIVE.o -fpic\n",
            "g++ -c  -W -Wall -Wextra -O2 -pipe -Iinclude/ -IOpenCL/ -Ideps/LZMA-SDK/C -Ideps/zlib -Ideps/zlib/contrib -Ideps/OpenCL-Headers -DWITH_BRAIN -Ideps/xxHash -DWITH_CUBIN -Ideps/unrar -DWITH_HWMON -Wno-class-memaccess -Wno-misleading-indentation -Wno-missing-braces -Wno-unused-variable -Wno-unused-parameter -Wno-unused-function -Wno-sign-compare -Wno-dangling-else -Wno-switch -Wno-parentheses -Wno-implicit-fallthrough -Wno-extra -Wno-unknown-pragmas deps/unrar/hc_decompress_rar.cpp -o obj/hc_decompress_rar.UNRAR.NATIVE.o -fpic\n",
            "ar rcs obj/combined.NATIVE.a obj/affinity.NATIVE.o obj/autotune.NATIVE.o obj/backend.NATIVE.o obj/benchmark.NATIVE.o obj/bitmap.NATIVE.o obj/bitops.NATIVE.o obj/combinator.NATIVE.o obj/common.NATIVE.o obj/convert.NATIVE.o obj/cpt.NATIVE.o obj/cpu_crc32.NATIVE.o obj/debugfile.NATIVE.o obj/dictstat.NATIVE.o obj/dispatch.NATIVE.o obj/dynloader.NATIVE.o obj/event.NATIVE.o obj/ext_ADL.NATIVE.o obj/ext_cuda.NATIVE.o obj/ext_hip.NATIVE.o obj/ext_nvapi.NATIVE.o obj/ext_nvml.NATIVE.o obj/ext_nvrtc.NATIVE.o obj/ext_hiprtc.NATIVE.o obj/ext_OpenCL.NATIVE.o obj/ext_sysfs_amdgpu.NATIVE.o obj/ext_sysfs_cpu.NATIVE.o obj/ext_iokit.NATIVE.o obj/ext_lzma.NATIVE.o obj/filehandling.NATIVE.o obj/folder.NATIVE.o obj/hashcat.NATIVE.o obj/hashes.NATIVE.o obj/hlfmt.NATIVE.o obj/hwmon.NATIVE.o obj/induct.NATIVE.o obj/interface.NATIVE.o obj/keyboard_layout.NATIVE.o obj/locking.NATIVE.o obj/logfile.NATIVE.o obj/loopback.NATIVE.o obj/memory.NATIVE.o obj/monitor.NATIVE.o obj/mpsp.NATIVE.o obj/outfile_check.NATIVE.o obj/outfile.NATIVE.o obj/pidfile.NATIVE.o obj/potfile.NATIVE.o obj/restore.NATIVE.o obj/rp.NATIVE.o obj/rp_cpu.NATIVE.o obj/selftest.NATIVE.o obj/slow_candidates.NATIVE.o obj/shared.NATIVE.o obj/status.NATIVE.o obj/stdout.NATIVE.o obj/straight.NATIVE.o obj/terminal.NATIVE.o obj/thread.NATIVE.o obj/timer.NATIVE.o obj/tuningdb.NATIVE.o obj/usage.NATIVE.o obj/user_options.NATIVE.o obj/wordlist.NATIVE.o obj/emu_general.NATIVE.o obj/emu_inc_common.NATIVE.o obj/emu_inc_platform.NATIVE.o obj/emu_inc_scalar.NATIVE.o obj/emu_inc_simd.NATIVE.o obj/emu_inc_rp.NATIVE.o obj/emu_inc_rp_optimized.NATIVE.o obj/emu_inc_hash_md4.NATIVE.o obj/emu_inc_hash_md5.NATIVE.o obj/emu_inc_hash_ripemd160.NATIVE.o obj/emu_inc_hash_sha1.NATIVE.o obj/emu_inc_hash_sha256.NATIVE.o obj/emu_inc_hash_sha384.NATIVE.o obj/emu_inc_hash_sha512.NATIVE.o obj/emu_inc_hash_streebog256.NATIVE.o obj/emu_inc_hash_streebog512.NATIVE.o obj/emu_inc_ecc_secp256k1.NATIVE.o obj/emu_inc_cipher_aes.NATIVE.o obj/emu_inc_cipher_camellia.NATIVE.o obj/emu_inc_cipher_des.NATIVE.o obj/emu_inc_cipher_kuznyechik.NATIVE.o obj/emu_inc_cipher_serpent.NATIVE.o obj/emu_inc_cipher_twofish.NATIVE.o obj/brain.NATIVE.o obj/7zCrc.LZMA.NATIVE.o obj/7zCrcOpt.LZMA.NATIVE.o obj/7zFile.LZMA.NATIVE.o obj/7zStream.LZMA.NATIVE.o obj/Alloc.LZMA.NATIVE.o obj/Bra.LZMA.NATIVE.o obj/Bra86.LZMA.NATIVE.o obj/BraIA64.LZMA.NATIVE.o obj/CpuArch.LZMA.NATIVE.o obj/Delta.LZMA.NATIVE.o obj/LzmaDec.LZMA.NATIVE.o obj/Lzma2Dec.LZMA.NATIVE.o obj/Sha256.LZMA.NATIVE.o obj/Sha256Opt.LZMA.NATIVE.o obj/Xz.LZMA.NATIVE.o obj/XzCrc64.LZMA.NATIVE.o obj/XzCrc64Opt.LZMA.NATIVE.o obj/XzDec.LZMA.NATIVE.o obj/XzIn.LZMA.NATIVE.o obj/adler32.ZLIB.NATIVE.o obj/crc32.ZLIB.NATIVE.o obj/deflate.ZLIB.NATIVE.o obj/inflate.ZLIB.NATIVE.o obj/inffast.ZLIB.NATIVE.o obj/inftrees.ZLIB.NATIVE.o obj/trees.ZLIB.NATIVE.o obj/gzread.ZLIB.NATIVE.o obj/gzwrite.ZLIB.NATIVE.o obj/gzclose.ZLIB.NATIVE.o obj/zutil.ZLIB.NATIVE.o obj/gzlib.ZLIB.NATIVE.o obj/contrib/minizip/unzip.ZLIB.NATIVE.o obj/contrib/minizip/ioapi.ZLIB.NATIVE.o obj/xxhash.XXHASH.NATIVE.o obj/strlist.UNRAR.NATIVE.o obj/strfn.UNRAR.NATIVE.o obj/pathfn.UNRAR.NATIVE.o obj/smallfn.UNRAR.NATIVE.o obj/global.UNRAR.NATIVE.o obj/file.UNRAR.NATIVE.o obj/filefn.UNRAR.NATIVE.o obj/filcreat.UNRAR.NATIVE.o obj/archive.UNRAR.NATIVE.o obj/arcread.UNRAR.NATIVE.o obj/unicode.UNRAR.NATIVE.o obj/system.UNRAR.NATIVE.o obj/isnt.UNRAR.NATIVE.o obj/crypt.UNRAR.NATIVE.o obj/crc.UNRAR.NATIVE.o obj/rawread.UNRAR.NATIVE.o obj/encname.UNRAR.NATIVE.o obj/resource.UNRAR.NATIVE.o obj/match.UNRAR.NATIVE.o obj/timefn.UNRAR.NATIVE.o obj/rdwrfn.UNRAR.NATIVE.o obj/consio.UNRAR.NATIVE.o obj/options.UNRAR.NATIVE.o obj/errhnd.UNRAR.NATIVE.o obj/rarvm.UNRAR.NATIVE.o obj/secpassword.UNRAR.NATIVE.o obj/rijndael.UNRAR.NATIVE.o obj/getbits.UNRAR.NATIVE.o obj/sha1.UNRAR.NATIVE.o obj/sha256.UNRAR.NATIVE.o obj/blake2s.UNRAR.NATIVE.o obj/hash.UNRAR.NATIVE.o obj/extinfo.UNRAR.NATIVE.o obj/extract.UNRAR.NATIVE.o obj/volume.UNRAR.NATIVE.o obj/list.UNRAR.NATIVE.o obj/find.UNRAR.NATIVE.o obj/unpack.UNRAR.NATIVE.o obj/headers.UNRAR.NATIVE.o obj/threadpool.UNRAR.NATIVE.o obj/rs16.UNRAR.NATIVE.o obj/cmddata.UNRAR.NATIVE.o obj/ui.UNRAR.NATIVE.o obj/filestr.UNRAR.NATIVE.o obj/recvol.UNRAR.NATIVE.o obj/rs.UNRAR.NATIVE.o obj/scantree.UNRAR.NATIVE.o obj/qopen.UNRAR.NATIVE.o obj/hc_decompress_rar.UNRAR.NATIVE.o\n",
            "gcc    -std=gnu99 -W -Wall -Wextra -O2 -pipe -Iinclude/ -IOpenCL/ -Ideps/LZMA-SDK/C -Ideps/zlib -Ideps/zlib/contrib -Ideps/OpenCL-Headers -DWITH_BRAIN -Ideps/xxHash -DWITH_CUBIN -Ideps/unrar -DWITH_HWMON src/main.c obj/combined.NATIVE.a -o hashcat                     -s -lstdc++ -lpthread -ldl -lrt -lm -DCOMPTIME=1638381903 -DVERSION_TAG=\\\"v6.2.5-16-g040fb3b7e\\\" -DINSTALL_FOLDER=\\\"/usr/local/bin\\\" -DSHARED_FOLDER=\\\"/usr/local/share/hashcat\\\" -DDOCUMENT_FOLDER=\\\"/usr/local/share/doc/hashcat\\\"\n",
            "gcc    -std=gnu99 -W -Wall -Wextra -O2 -pipe -Iinclude/ -IOpenCL/ -Ideps/LZMA-SDK/C -Ideps/zlib -Ideps/zlib/contrib -Ideps/OpenCL-Headers -DWITH_BRAIN -Ideps/xxHash -DWITH_CUBIN -Ideps/unrar -DWITH_HWMON src/modules/module_00020.c obj/combined.NATIVE.a -o modules/module_00020.so  -s -lstdc++ -lpthread -ldl -lrt -lm -shared -fPIC -D MODULE_INTERFACE_VERSION_CURRENT=630\n",
            "gcc    -std=gnu99 -W -Wall -Wextra -O2 -pipe -Iinclude/ -IOpenCL/ -Ideps/LZMA-SDK/C -Ideps/zlib -Ideps/zlib/contrib -Ideps/OpenCL-Headers -DWITH_BRAIN -Ideps/xxHash -DWITH_CUBIN -Ideps/unrar -DWITH_HWMON src/modules/module_18400.c obj/combined.NATIVE.a -o modules/module_18400.so  -s -lstdc++ -lpthread -ldl -lrt -lm -shared -fPIC -D MODULE_INTERFACE_VERSION_CURRENT=630\n",
            "gcc    -std=gnu99 -W -Wall -Wextra -O2 -pipe -Iinclude/ -IOpenCL/ -Ideps/LZMA-SDK/C -Ideps/zlib -Ideps/zlib/contrib -Ideps/OpenCL-Headers -DWITH_BRAIN -Ideps/xxHash -DWITH_CUBIN -Ideps/unrar -DWITH_HWMON src/modules/module_10901.c obj/combined.NATIVE.a -o modules/module_10901.so  -s -lstdc++ -lpthread -ldl -lrt -lm -shared -fPIC -D MODULE_INTERFACE_VERSION_CURRENT=630\n",
            "gcc    -std=gnu99 -W -Wall -Wextra -O2 -pipe -Iinclude/ -IOpenCL/ -Ideps/LZMA-SDK/C -Ideps/zlib -Ideps/zlib/contrib -Ideps/OpenCL-Headers -DWITH_BRAIN -Ideps/xxHash -DWITH_CUBIN -Ideps/unrar -DWITH_HWMON src/modules/module_11900.c obj/combined.NATIVE.a -o modules/module_11900.so  -s -lstdc++ -lpthread -ldl -lrt -lm -shared -fPIC -D MODULE_INTERFACE_VERSION_CURRENT=630\n",
            "gcc    -std=gnu99 -W -Wall -Wextra -O2 -pipe -Iinclude/ -IOpenCL/ -Ideps/LZMA-SDK/C -Ideps/zlib -Ideps/zlib/contrib -Ideps/OpenCL-Headers -DWITH_BRAIN -Ideps/xxHash -DWITH_CUBIN -Ideps/unrar -DWITH_HWMON src/modules/module_24900.c obj/combined.NATIVE.a -o modules/module_24900.so  -s -lstdc++ -lpthread -ldl -lrt -lm -shared -fPIC -D MODULE_INTERFACE_VERSION_CURRENT=630\n",
            "gcc    -std=gnu99 -W -Wall -Wextra -O2 -pipe -Iinclude/ -IOpenCL/ -Ideps/LZMA-SDK/C -Ideps/zlib -Ideps/zlib/contrib -Ideps/OpenCL-Headers -DWITH_BRAIN -Ideps/xxHash -DWITH_CUBIN -Ideps/unrar -DWITH_HWMON src/modules/module_06500.c obj/combined.NATIVE.a -o modules/module_06500.so  -s -lstdc++ -lpthread -ldl -lrt -lm -shared -fPIC -D MODULE_INTERFACE_VERSION_CURRENT=630\n",
            "gcc    -std=gnu99 -W -Wall -Wextra -O2 -pipe -Iinclude/ -IOpenCL/ -Ideps/LZMA-SDK/C -Ideps/zlib -Ideps/zlib/contrib -Ideps/OpenCL-Headers -DWITH_BRAIN -Ideps/xxHash -DWITH_CUBIN -Ideps/unrar -DWITH_HWMON src/modules/module_16200.c obj/combined.NATIVE.a -o modules/module_16200.so  -s -lstdc++ -lpthread -ldl -lrt -lm -shared -fPIC -D MODULE_INTERFACE_VERSION_CURRENT=630\n",
            "gcc    -std=gnu99 -W -Wall -Wextra -O2 -pipe -Iinclude/ -IOpenCL/ -Ideps/LZMA-SDK/C -Ideps/zlib -Ideps/zlib/contrib -Ideps/OpenCL-Headers -DWITH_BRAIN -Ideps/xxHash -DWITH_CUBIN -Ideps/unrar -DWITH_HWMON src/modules/module_01100.c obj/combined.NATIVE.a -o modules/module_01100.so  -s -lstdc++ -lpthread -ldl -lrt -lm -shared -fPIC -D MODULE_INTERFACE_VERSION_CURRENT=630\n",
            "gcc    -std=gnu99 -W -Wall -Wextra -O2 -pipe -Iinclude/ -IOpenCL/ -Ideps/LZMA-SDK/C -Ideps/zlib -Ideps/zlib/contrib -Ideps/OpenCL-Headers -DWITH_BRAIN -Ideps/xxHash -DWITH_CUBIN -Ideps/unrar -DWITH_HWMON src/modules/module_00011.c obj/combined.NATIVE.a -o modules/module_00011.so  -s -lstdc++ -lpthread -ldl -lrt -lm -shared -fPIC -D MODULE_INTERFACE_VERSION_CURRENT=630\n",
            "gcc    -std=gnu99 -W -Wall -Wextra -O2 -pipe -Iinclude/ -IOpenCL/ -Ideps/LZMA-SDK/C -Ideps/zlib -Ideps/zlib/contrib -Ideps/OpenCL-Headers -DWITH_BRAIN -Ideps/xxHash -DWITH_CUBIN -Ideps/unrar -DWITH_HWMON src/modules/module_00101.c obj/combined.NATIVE.a -o modules/module_00101.so  -s -lstdc++ -lpthread -ldl -lrt -lm -shared -fPIC -D MODULE_INTERFACE_VERSION_CURRENT=630\n",
            "gcc    -std=gnu99 -W -Wall -Wextra -O2 -pipe -Iinclude/ -IOpenCL/ -Ideps/LZMA-SDK/C -Ideps/zlib -Ideps/zlib/contrib -Ideps/OpenCL-Headers -DWITH_BRAIN -Ideps/xxHash -DWITH_CUBIN -Ideps/unrar -DWITH_HWMON src/modules/module_10000.c obj/combined.NATIVE.a -o modules/module_10000.so  -s -lstdc++ -lpthread -ldl -lrt -lm -shared -fPIC -D MODULE_INTERFACE_VERSION_CURRENT=630\n",
            "gcc    -std=gnu99 -W -Wall -Wextra -O2 -pipe -Iinclude/ -IOpenCL/ -Ideps/LZMA-SDK/C -Ideps/zlib -Ideps/zlib/contrib -Ideps/OpenCL-Headers -DWITH_BRAIN -Ideps/xxHash -DWITH_CUBIN -Ideps/unrar -DWITH_HWMON src/modules/module_09600.c obj/combined.NATIVE.a -o modules/module_09600.so  -s -lstdc++ -lpthread -ldl -lrt -lm -shared -fPIC -D MODULE_INTERFACE_VERSION_CURRENT=630\n",
            "gcc    -std=gnu99 -W -Wall -Wextra -O2 -pipe -Iinclude/ -IOpenCL/ -Ideps/LZMA-SDK/C -Ideps/zlib -Ideps/zlib/contrib -Ideps/OpenCL-Headers -DWITH_BRAIN -Ideps/xxHash -DWITH_CUBIN -Ideps/unrar -DWITH_HWMON src/modules/module_06300.c obj/combined.NATIVE.a -o modules/module_06300.so  -s -lstdc++ -lpthread -ldl -lrt -lm -shared -fPIC -D MODULE_INTERFACE_VERSION_CURRENT=630\n",
            "gcc    -std=gnu99 -W -Wall -Wextra -O2 -pipe -Iinclude/ -IOpenCL/ -Ideps/LZMA-SDK/C -Ideps/zlib -Ideps/zlib/contrib -Ideps/OpenCL-Headers -DWITH_BRAIN -Ideps/xxHash -DWITH_CUBIN -Ideps/unrar -DWITH_HWMON src/modules/module_04522.c obj/combined.NATIVE.a -o modules/module_04522.so  -s -lstdc++ -lpthread -ldl -lrt -lm -shared -fPIC -D MODULE_INTERFACE_VERSION_CURRENT=630\n",
            "gcc    -std=gnu99 -W -Wall -Wextra -O2 -pipe -Iinclude/ -IOpenCL/ -Ideps/LZMA-SDK/C -Ideps/zlib -Ideps/zlib/contrib -Ideps/OpenCL-Headers -DWITH_BRAIN -Ideps/xxHash -DWITH_CUBIN -Ideps/unrar -DWITH_HWMON src/modules/module_13752.c obj/combined.NATIVE.a -o modules/module_13752.so  -s -lstdc++ -lpthread -ldl -lrt -lm -shared -fPIC -D MODULE_INTERFACE_VERSION_CURRENT=630\n",
            "gcc    -std=gnu99 -W -Wall -Wextra -O2 -pipe -Iinclude/ -IOpenCL/ -Ideps/LZMA-SDK/C -Ideps/zlib -Ideps/zlib/contrib -Ideps/OpenCL-Headers -DWITH_BRAIN -Ideps/xxHash -DWITH_CUBIN -Ideps/unrar -DWITH_HWMON src/modules/module_04700.c obj/combined.NATIVE.a -o modules/module_04700.so  -s -lstdc++ -lpthread -ldl -lrt -lm -shared -fPIC -D MODULE_INTERFACE_VERSION_CURRENT=630\n",
            "gcc    -std=gnu99 -W -Wall -Wextra -O2 -pipe -Iinclude/ -IOpenCL/ -Ideps/LZMA-SDK/C -Ideps/zlib -Ideps/zlib/contrib -Ideps/OpenCL-Headers -DWITH_BRAIN -Ideps/xxHash -DWITH_CUBIN -Ideps/unrar -DWITH_HWMON src/modules/module_01441.c obj/combined.NATIVE.a -o modules/module_01441.so  -s -lstdc++ -lpthread -ldl -lrt -lm -shared -fPIC -D MODULE_INTERFACE_VERSION_CURRENT=630\n",
            "gcc    -std=gnu99 -W -Wall -Wextra -O2 -pipe -Iinclude/ -IOpenCL/ -Ideps/LZMA-SDK/C -Ideps/zlib -Ideps/zlib/contrib -Ideps/OpenCL-Headers -DWITH_BRAIN -Ideps/xxHash -DWITH_CUBIN -Ideps/unrar -DWITH_HWMON src/modules/module_04400.c obj/combined.NATIVE.a -o modules/module_04400.so  -s -lstdc++ -lpthread -ldl -lrt -lm -shared -fPIC -D MODULE_INTERFACE_VERSION_CURRENT=630\n",
            "gcc    -std=gnu99 -W -Wall -Wextra -O2 -pipe -Iinclude/ -IOpenCL/ -Ideps/LZMA-SDK/C -Ideps/zlib -Ideps/zlib/contrib -Ideps/OpenCL-Headers -DWITH_BRAIN -Ideps/xxHash -DWITH_CUBIN -Ideps/unrar -DWITH_HWMON src/modules/module_12300.c obj/combined.NATIVE.a -o modules/module_12300.so  -s -lstdc++ -lpthread -ldl -lrt -lm -shared -fPIC -D MODULE_INTERFACE_VERSION_CURRENT=630\n",
            "gcc    -std=gnu99 -W -Wall -Wextra -O2 -pipe -Iinclude/ -IOpenCL/ -Ideps/LZMA-SDK/C -Ideps/zlib -Ideps/zlib/contrib -Ideps/OpenCL-Headers -DWITH_BRAIN -Ideps/xxHash -DWITH_CUBIN -Ideps/unrar -DWITH_HWMON src/modules/module_13200.c obj/combined.NATIVE.a -o modules/module_13200.so  -s -lstdc++ -lpthread -ldl -lrt -lm -shared -fPIC -D MODULE_INTERFACE_VERSION_CURRENT=630\n",
            "gcc    -std=gnu99 -W -Wall -Wextra -O2 -pipe -Iinclude/ -IOpenCL/ -Ideps/LZMA-SDK/C -Ideps/zlib -Ideps/zlib/contrib -Ideps/OpenCL-Headers -DWITH_BRAIN -Ideps/xxHash -DWITH_CUBIN -Ideps/unrar -DWITH_HWMON src/modules/module_15000.c obj/combined.NATIVE.a -o modules/module_15000.so  -s -lstdc++ -lpthread -ldl -lrt -lm -shared -fPIC -D MODULE_INTERFACE_VERSION_CURRENT=630\n",
            "gcc    -std=gnu99 -W -Wall -Wextra -O2 -pipe -Iinclude/ -IOpenCL/ -Ideps/LZMA-SDK/C -Ideps/zlib -Ideps/zlib/contrib -Ideps/OpenCL-Headers -DWITH_BRAIN -Ideps/xxHash -DWITH_CUBIN -Ideps/unrar -DWITH_HWMON src/modules/module_14400.c obj/combined.NATIVE.a -o modules/module_14400.so  -s -lstdc++ -lpthread -ldl -lrt -lm -shared -fPIC -D MODULE_INTERFACE_VERSION_CURRENT=630\n",
            "gcc    -std=gnu99 -W -Wall -Wextra -O2 -pipe -Iinclude/ -IOpenCL/ -Ideps/LZMA-SDK/C -Ideps/zlib -Ideps/zlib/contrib -Ideps/OpenCL-Headers -DWITH_BRAIN -Ideps/xxHash -DWITH_CUBIN -Ideps/unrar -DWITH_HWMON src/modules/module_25400.c obj/combined.NATIVE.a -o modules/module_25400.so  -s -lstdc++ -lpthread -ldl -lrt -lm -shared -fPIC -D MODULE_INTERFACE_VERSION_CURRENT=630\n",
            "gcc    -std=gnu99 -W -Wall -Wextra -O2 -pipe -Iinclude/ -IOpenCL/ -Ideps/LZMA-SDK/C -Ideps/zlib -Ideps/zlib/contrib -Ideps/OpenCL-Headers -DWITH_BRAIN -Ideps/xxHash -DWITH_CUBIN -Ideps/unrar -DWITH_HWMON src/modules/module_20800.c obj/combined.NATIVE.a -o modules/module_20800.so  -s -lstdc++ -lpthread -ldl -lrt -lm -shared -fPIC -D MODULE_INTERFACE_VERSION_CURRENT=630\n",
            "gcc    -std=gnu99 -W -Wall -Wextra -O2 -pipe -Iinclude/ -IOpenCL/ -Ideps/LZMA-SDK/C -Ideps/zlib -Ideps/zlib/contrib -Ideps/OpenCL-Headers -DWITH_BRAIN -Ideps/xxHash -DWITH_CUBIN -Ideps/unrar -DWITH_HWMON src/modules/module_22200.c obj/combined.NATIVE.a -o modules/module_22200.so  -s -lstdc++ -lpthread -ldl -lrt -lm -shared -fPIC -D MODULE_INTERFACE_VERSION_CURRENT=630\n",
            "gcc    -std=gnu99 -W -Wall -Wextra -O2 -pipe -Iinclude/ -IOpenCL/ -Ideps/LZMA-SDK/C -Ideps/zlib -Ideps/zlib/contrib -Ideps/OpenCL-Headers -DWITH_BRAIN -Ideps/xxHash -DWITH_CUBIN -Ideps/unrar -DWITH_HWMON src/modules/module_08000.c obj/combined.NATIVE.a -o modules/module_08000.so  -s -lstdc++ -lpthread -ldl -lrt -lm -shared -fPIC -D MODULE_INTERFACE_VERSION_CURRENT=630\n",
            "gcc    -std=gnu99 -W -Wall -Wextra -O2 -pipe -Iinclude/ -IOpenCL/ -Ideps/LZMA-SDK/C -Ideps/zlib -Ideps/zlib/contrib -Ideps/OpenCL-Headers -DWITH_BRAIN -Ideps/xxHash -DWITH_CUBIN -Ideps/unrar -DWITH_HWMON src/modules/module_13600.c obj/combined.NATIVE.a -o modules/module_13600.so  -s -lstdc++ -lpthread -ldl -lrt -lm -shared -fPIC -D MODULE_INTERFACE_VERSION_CURRENT=630\n",
            "gcc    -std=gnu99 -W -Wall -Wextra -O2 -pipe -Iinclude/ -IOpenCL/ -Ideps/LZMA-SDK/C -Ideps/zlib -Ideps/zlib/contrib -Ideps/OpenCL-Headers -DWITH_BRAIN -Ideps/xxHash -DWITH_CUBIN -Ideps/unrar -DWITH_HWMON src/modules/module_13722.c obj/combined.NATIVE.a -o modules/module_13722.so  -s -lstdc++ -lpthread -ldl -lrt -lm -shared -fPIC -D MODULE_INTERFACE_VERSION_CURRENT=630\n",
            "gcc    -std=gnu99 -W -Wall -Wextra -O2 -pipe -Iinclude/ -IOpenCL/ -Ideps/LZMA-SDK/C -Ideps/zlib -Ideps/zlib/contrib -Ideps/OpenCL-Headers -DWITH_BRAIN -Ideps/xxHash -DWITH_CUBIN -Ideps/unrar -DWITH_HWMON src/modules/module_27400.c obj/combined.NATIVE.a -o modules/module_27400.so  -s -lstdc++ -lpthread -ldl -lrt -lm -shared -fPIC -D MODULE_INTERFACE_VERSION_CURRENT=630\n",
            "gcc    -std=gnu99 -W -Wall -Wextra -O2 -pipe -Iinclude/ -IOpenCL/ -Ideps/LZMA-SDK/C -Ideps/zlib -Ideps/zlib/contrib -Ideps/OpenCL-Headers -DWITH_BRAIN -Ideps/xxHash -DWITH_CUBIN -Ideps/unrar -DWITH_HWMON src/modules/module_16900.c obj/combined.NATIVE.a -o modules/module_16900.so  -s -lstdc++ -lpthread -ldl -lrt -lm -shared -fPIC -D MODULE_INTERFACE_VERSION_CURRENT=630\n",
            "gcc    -std=gnu99 -W -Wall -Wextra -O2 -pipe -Iinclude/ -IOpenCL/ -Ideps/LZMA-SDK/C -Ideps/zlib -Ideps/zlib/contrib -Ideps/OpenCL-Headers -DWITH_BRAIN -Ideps/xxHash -DWITH_CUBIN -Ideps/unrar -DWITH_HWMON src/modules/module_16800.c obj/combined.NATIVE.a -o modules/module_16800.so  -s -lstdc++ -lpthread -ldl -lrt -lm -shared -fPIC -D MODULE_INTERFACE_VERSION_CURRENT=630\n",
            "gcc    -std=gnu99 -W -Wall -Wextra -O2 -pipe -Iinclude/ -IOpenCL/ -Ideps/LZMA-SDK/C -Ideps/zlib -Ideps/zlib/contrib -Ideps/OpenCL-Headers -DWITH_BRAIN -Ideps/xxHash -DWITH_CUBIN -Ideps/unrar -DWITH_HWMON src/modules/module_01600.c obj/combined.NATIVE.a -o modules/module_01600.so  -s -lstdc++ -lpthread -ldl -lrt -lm -shared -fPIC -D MODULE_INTERFACE_VERSION_CURRENT=630\n",
            "gcc    -std=gnu99 -W -Wall -Wextra -O2 -pipe -Iinclude/ -IOpenCL/ -Ideps/LZMA-SDK/C -Ideps/zlib -Ideps/zlib/contrib -Ideps/OpenCL-Headers -DWITH_BRAIN -Ideps/xxHash -DWITH_CUBIN -Ideps/unrar -DWITH_HWMON src/modules/module_19600.c obj/combined.NATIVE.a -o modules/module_19600.so  -s -lstdc++ -lpthread -ldl -lrt -lm -shared -fPIC -D MODULE_INTERFACE_VERSION_CURRENT=630\n",
            "gcc    -std=gnu99 -W -Wall -Wextra -O2 -pipe -Iinclude/ -IOpenCL/ -Ideps/LZMA-SDK/C -Ideps/zlib -Ideps/zlib/contrib -Ideps/OpenCL-Headers -DWITH_BRAIN -Ideps/xxHash -DWITH_CUBIN -Ideps/unrar -DWITH_HWMON src/modules/module_26700.c obj/combined.NATIVE.a -o modules/module_26700.so  -s -lstdc++ -lpthread -ldl -lrt -lm -shared -fPIC -D MODULE_INTERFACE_VERSION_CURRENT=630\n",
            "gcc    -std=gnu99 -W -Wall -Wextra -O2 -pipe -Iinclude/ -IOpenCL/ -Ideps/LZMA-SDK/C -Ideps/zlib -Ideps/zlib/contrib -Ideps/OpenCL-Headers -DWITH_BRAIN -Ideps/xxHash -DWITH_CUBIN -Ideps/unrar -DWITH_HWMON src/modules/module_04300.c obj/combined.NATIVE.a -o modules/module_04300.so  -s -lstdc++ -lpthread -ldl -lrt -lm -shared -fPIC -D MODULE_INTERFACE_VERSION_CURRENT=630\n",
            "gcc    -std=gnu99 -W -Wall -Wextra -O2 -pipe -Iinclude/ -IOpenCL/ -Ideps/LZMA-SDK/C -Ideps/zlib -Ideps/zlib/contrib -Ideps/OpenCL-Headers -DWITH_BRAIN -Ideps/xxHash -DWITH_CUBIN -Ideps/unrar -DWITH_HWMON src/modules/module_22001.c obj/combined.NATIVE.a -o modules/module_22001.so  -s -lstdc++ -lpthread -ldl -lrt -lm -shared -fPIC -D MODULE_INTERFACE_VERSION_CURRENT=630\n",
            "gcc    -std=gnu99 -W -Wall -Wextra -O2 -pipe -Iinclude/ -IOpenCL/ -Ideps/LZMA-SDK/C -Ideps/zlib -Ideps/zlib/contrib -Ideps/OpenCL-Headers -DWITH_BRAIN -Ideps/xxHash -DWITH_CUBIN -Ideps/unrar -DWITH_HWMON src/modules/module_12600.c obj/combined.NATIVE.a -o modules/module_12600.so  -s -lstdc++ -lpthread -ldl -lrt -lm -shared -fPIC -D MODULE_INTERFACE_VERSION_CURRENT=630\n",
            "gcc    -std=gnu99 -W -Wall -Wextra -O2 -pipe -Iinclude/ -IOpenCL/ -Ideps/LZMA-SDK/C -Ideps/zlib -Ideps/zlib/contrib -Ideps/OpenCL-Headers -DWITH_BRAIN -Ideps/xxHash -DWITH_CUBIN -Ideps/unrar -DWITH_HWMON src/modules/module_01731.c obj/combined.NATIVE.a -o modules/module_01731.so  -s -lstdc++ -lpthread -ldl -lrt -lm -shared -fPIC -D MODULE_INTERFACE_VERSION_CURRENT=630\n",
            "gcc    -std=gnu99 -W -Wall -Wextra -O2 -pipe -Iinclude/ -IOpenCL/ -Ideps/LZMA-SDK/C -Ideps/zlib -Ideps/zlib/contrib -Ideps/OpenCL-Headers -DWITH_BRAIN -Ideps/xxHash -DWITH_CUBIN -Ideps/unrar -DWITH_HWMON src/modules/module_27800.c obj/combined.NATIVE.a -o modules/module_27800.so  -s -lstdc++ -lpthread -ldl -lrt -lm -shared -fPIC -D MODULE_INTERFACE_VERSION_CURRENT=630\n",
            "gcc    -std=gnu99 -W -Wall -Wextra -O2 -pipe -Iinclude/ -IOpenCL/ -Ideps/LZMA-SDK/C -Ideps/zlib -Ideps/zlib/contrib -Ideps/OpenCL-Headers -DWITH_BRAIN -Ideps/xxHash -DWITH_CUBIN -Ideps/unrar -DWITH_HWMON src/modules/module_04010.c obj/combined.NATIVE.a -o modules/module_04010.so  -s -lstdc++ -lpthread -ldl -lrt -lm -shared -fPIC -D MODULE_INTERFACE_VERSION_CURRENT=630\n",
            "gcc    -std=gnu99 -W -Wall -Wextra -O2 -pipe -Iinclude/ -IOpenCL/ -Ideps/LZMA-SDK/C -Ideps/zlib -Ideps/zlib/contrib -Ideps/OpenCL-Headers -DWITH_BRAIN -Ideps/xxHash -DWITH_CUBIN -Ideps/unrar -DWITH_HWMON src/modules/module_06400.c obj/combined.NATIVE.a -o modules/module_06400.so  -s -lstdc++ -lpthread -ldl -lrt -lm -shared -fPIC -D MODULE_INTERFACE_VERSION_CURRENT=630\n",
            "gcc    -std=gnu99 -W -Wall -Wextra -O2 -pipe -Iinclude/ -IOpenCL/ -Ideps/LZMA-SDK/C -Ideps/zlib -Ideps/zlib/contrib -Ideps/OpenCL-Headers -DWITH_BRAIN -Ideps/xxHash -DWITH_CUBIN -Ideps/unrar -DWITH_HWMON src/modules/module_20900.c obj/combined.NATIVE.a -o modules/module_20900.so  -s -lstdc++ -lpthread -ldl -lrt -lm -shared -fPIC -D MODULE_INTERFACE_VERSION_CURRENT=630\n",
            "gcc    -std=gnu99 -W -Wall -Wextra -O2 -pipe -Iinclude/ -IOpenCL/ -Ideps/LZMA-SDK/C -Ideps/zlib -Ideps/zlib/contrib -Ideps/OpenCL-Headers -DWITH_BRAIN -Ideps/xxHash -DWITH_CUBIN -Ideps/unrar -DWITH_HWMON src/modules/module_10900.c obj/combined.NATIVE.a -o modules/module_10900.so  -s -lstdc++ -lpthread -ldl -lrt -lm -shared -fPIC -D MODULE_INTERFACE_VERSION_CURRENT=630\n",
            "gcc    -std=gnu99 -W -Wall -Wextra -O2 -pipe -Iinclude/ -IOpenCL/ -Ideps/LZMA-SDK/C -Ideps/zlib -Ideps/zlib/contrib -Ideps/OpenCL-Headers -DWITH_BRAIN -Ideps/xxHash -DWITH_CUBIN -Ideps/unrar -DWITH_HWMON src/modules/module_19000.c obj/combined.NATIVE.a -o modules/module_19000.so  -s -lstdc++ -lpthread -ldl -lrt -lm -shared -fPIC -D MODULE_INTERFACE_VERSION_CURRENT=630\n",
            "gcc    -std=gnu99 -W -Wall -Wextra -O2 -pipe -Iinclude/ -IOpenCL/ -Ideps/LZMA-SDK/C -Ideps/zlib -Ideps/zlib/contrib -Ideps/OpenCL-Headers -DWITH_BRAIN -Ideps/xxHash -DWITH_CUBIN -Ideps/unrar -DWITH_HWMON src/modules/module_10700.c obj/combined.NATIVE.a -o modules/module_10700.so  -s -lstdc++ -lpthread -ldl -lrt -lm -shared -fPIC -D MODULE_INTERFACE_VERSION_CURRENT=630\n",
            "gcc    -std=gnu99 -W -Wall -Wextra -O2 -pipe -Iinclude/ -IOpenCL/ -Ideps/LZMA-SDK/C -Ideps/zlib -Ideps/zlib/contrib -Ideps/OpenCL-Headers -DWITH_BRAIN -Ideps/xxHash -DWITH_CUBIN -Ideps/unrar -DWITH_HWMON src/modules/module_11850.c obj/combined.NATIVE.a -o modules/module_11850.so  -s -lstdc++ -lpthread -ldl -lrt -lm -shared -fPIC -D MODULE_INTERFACE_VERSION_CURRENT=630\n",
            "gcc    -std=gnu99 -W -Wall -Wextra -O2 -pipe -Iinclude/ -IOpenCL/ -Ideps/LZMA-SDK/C -Ideps/zlib -Ideps/zlib/contrib -Ideps/OpenCL-Headers -DWITH_BRAIN -Ideps/xxHash -DWITH_CUBIN -Ideps/unrar -DWITH_HWMON src/modules/module_10500.c obj/combined.NATIVE.a -o modules/module_10500.so  -s -lstdc++ -lpthread -ldl -lrt -lm -shared -fPIC -D MODULE_INTERFACE_VERSION_CURRENT=630\n",
            "gcc    -std=gnu99 -W -Wall -Wextra -O2 -pipe -Iinclude/ -IOpenCL/ -Ideps/LZMA-SDK/C -Ideps/zlib -Ideps/zlib/contrib -Ideps/OpenCL-Headers -DWITH_BRAIN -Ideps/xxHash -DWITH_CUBIN -Ideps/unrar -DWITH_HWMON src/modules/module_23900.c obj/combined.NATIVE.a -o modules/module_23900.so  -s -lstdc++ -lpthread -ldl -lrt -lm -shared -fPIC -D MODULE_INTERFACE_VERSION_CURRENT=630\n",
            "gcc    -std=gnu99 -W -Wall -Wextra -O2 -pipe -Iinclude/ -IOpenCL/ -Ideps/LZMA-SDK/C -Ideps/zlib -Ideps/zlib/contrib -Ideps/OpenCL-Headers -DWITH_BRAIN -Ideps/xxHash -DWITH_CUBIN -Ideps/unrar -DWITH_HWMON src/modules/module_00000.c obj/combined.NATIVE.a -o modules/module_00000.so  -s -lstdc++ -lpthread -ldl -lrt -lm -shared -fPIC -D MODULE_INTERFACE_VERSION_CURRENT=630\n",
            "gcc    -std=gnu99 -W -Wall -Wextra -O2 -pipe -Iinclude/ -IOpenCL/ -Ideps/LZMA-SDK/C -Ideps/zlib -Ideps/zlib/contrib -Ideps/OpenCL-Headers -DWITH_BRAIN -Ideps/xxHash -DWITH_CUBIN -Ideps/unrar -DWITH_HWMON src/modules/module_27700.c obj/combined.NATIVE.a -o modules/module_27700.so  -s -lstdc++ -lpthread -ldl -lrt -lm -shared -fPIC -D MODULE_INTERFACE_VERSION_CURRENT=630\n",
            "gcc    -std=gnu99 -W -Wall -Wextra -O2 -pipe -Iinclude/ -IOpenCL/ -Ideps/LZMA-SDK/C -Ideps/zlib -Ideps/zlib/contrib -Ideps/OpenCL-Headers -DWITH_BRAIN -Ideps/xxHash -DWITH_CUBIN -Ideps/unrar -DWITH_HWMON src/modules/module_00010.c obj/combined.NATIVE.a -o modules/module_00010.so  -s -lstdc++ -lpthread -ldl -lrt -lm -shared -fPIC -D MODULE_INTERFACE_VERSION_CURRENT=630\n",
            "gcc    -std=gnu99 -W -Wall -Wextra -O2 -pipe -Iinclude/ -IOpenCL/ -Ideps/LZMA-SDK/C -Ideps/zlib -Ideps/zlib/contrib -Ideps/OpenCL-Headers -DWITH_BRAIN -Ideps/xxHash -DWITH_CUBIN -Ideps/unrar -DWITH_HWMON src/modules/module_01400.c obj/combined.NATIVE.a -o modules/module_01400.so  -s -lstdc++ -lpthread -ldl -lrt -lm -shared -fPIC -D MODULE_INTERFACE_VERSION_CURRENT=630\n",
            "gcc    -std=gnu99 -W -Wall -Wextra -O2 -pipe -Iinclude/ -IOpenCL/ -Ideps/LZMA-SDK/C -Ideps/zlib -Ideps/zlib/contrib -Ideps/OpenCL-Headers -DWITH_BRAIN -Ideps/xxHash -DWITH_CUBIN -Ideps/unrar -DWITH_HWMON src/modules/module_01500.c obj/combined.NATIVE.a -o modules/module_01500.so  -s -lstdc++ -lpthread -ldl -lrt -lm -shared -fPIC -D MODULE_INTERFACE_VERSION_CURRENT=630\n",
            "gcc    -std=gnu99 -W -Wall -Wextra -O2 -pipe -Iinclude/ -IOpenCL/ -Ideps/LZMA-SDK/C -Ideps/zlib -Ideps/zlib/contrib -Ideps/OpenCL-Headers -DWITH_BRAIN -Ideps/xxHash -DWITH_CUBIN -Ideps/unrar -DWITH_HWMON src/modules/module_15200.c obj/combined.NATIVE.a -o modules/module_15200.so  -s -lstdc++ -lpthread -ldl -lrt -lm -shared -fPIC -D MODULE_INTERFACE_VERSION_CURRENT=630\n",
            "gcc    -std=gnu99 -W -Wall -Wextra -O2 -pipe -Iinclude/ -IOpenCL/ -Ideps/LZMA-SDK/C -Ideps/zlib -Ideps/zlib/contrib -Ideps/OpenCL-Headers -DWITH_BRAIN -Ideps/xxHash -DWITH_CUBIN -Ideps/unrar -DWITH_HWMON src/modules/module_27100.c obj/combined.NATIVE.a -o modules/module_27100.so  -s -lstdc++ -lpthread -ldl -lrt -lm -shared -fPIC -D MODULE_INTERFACE_VERSION_CURRENT=630\n",
            "gcc    -std=gnu99 -W -Wall -Wextra -O2 -pipe -Iinclude/ -IOpenCL/ -Ideps/LZMA-SDK/C -Ideps/zlib -Ideps/zlib/contrib -Ideps/OpenCL-Headers -DWITH_BRAIN -Ideps/xxHash -DWITH_CUBIN -Ideps/unrar -DWITH_HWMON src/modules/module_00160.c obj/combined.NATIVE.a -o modules/module_00160.so  -s -lstdc++ -lpthread -ldl -lrt -lm -shared -fPIC -D MODULE_INTERFACE_VERSION_CURRENT=630\n",
            "gcc    -std=gnu99 -W -Wall -Wextra -O2 -pipe -Iinclude/ -IOpenCL/ -Ideps/LZMA-SDK/C -Ideps/zlib -Ideps/zlib/contrib -Ideps/OpenCL-Headers -DWITH_BRAIN -Ideps/xxHash -DWITH_CUBIN -Ideps/unrar -DWITH_HWMON src/modules/module_21800.c obj/combined.NATIVE.a -o modules/module_21800.so  -s -lstdc++ -lpthread -ldl -lrt -lm -shared -fPIC -D MODULE_INTERFACE_VERSION_CURRENT=630\n",
            "gcc    -std=gnu99 -W -Wall -Wextra -O2 -pipe -Iinclude/ -IOpenCL/ -Ideps/LZMA-SDK/C -Ideps/zlib -Ideps/zlib/contrib -Ideps/OpenCL-Headers -DWITH_BRAIN -Ideps/xxHash -DWITH_CUBIN -Ideps/unrar -DWITH_HWMON src/modules/module_03800.c obj/combined.NATIVE.a -o modules/module_03800.so  -s -lstdc++ -lpthread -ldl -lrt -lm -shared -fPIC -D MODULE_INTERFACE_VERSION_CURRENT=630\n",
            "gcc    -std=gnu99 -W -Wall -Wextra -O2 -pipe -Iinclude/ -IOpenCL/ -Ideps/LZMA-SDK/C -Ideps/zlib -Ideps/zlib/contrib -Ideps/OpenCL-Headers -DWITH_BRAIN -Ideps/xxHash -DWITH_CUBIN -Ideps/unrar -DWITH_HWMON src/modules/module_05700.c obj/combined.NATIVE.a -o modules/module_05700.so  -s -lstdc++ -lpthread -ldl -lrt -lm -shared -fPIC -D MODULE_INTERFACE_VERSION_CURRENT=630\n",
            "gcc    -std=gnu99 -W -Wall -Wextra -O2 -pipe -Iinclude/ -IOpenCL/ -Ideps/LZMA-SDK/C -Ideps/zlib -Ideps/zlib/contrib -Ideps/OpenCL-Headers -DWITH_BRAIN -Ideps/xxHash -DWITH_CUBIN -Ideps/unrar -DWITH_HWMON src/modules/module_00150.c obj/combined.NATIVE.a -o modules/module_00150.so  -s -lstdc++ -lpthread -ldl -lrt -lm -shared -fPIC -D MODULE_INTERFACE_VERSION_CURRENT=630\n",
            "gcc    -std=gnu99 -W -Wall -Wextra -O2 -pipe -Iinclude/ -IOpenCL/ -Ideps/LZMA-SDK/C -Ideps/zlib -Ideps/zlib/contrib -Ideps/OpenCL-Headers -DWITH_BRAIN -Ideps/xxHash -DWITH_CUBIN -Ideps/unrar -DWITH_HWMON src/modules/module_01440.c obj/combined.NATIVE.a -o modules/module_01440.so  -s -lstdc++ -lpthread -ldl -lrt -lm -shared -fPIC -D MODULE_INTERFACE_VERSION_CURRENT=630\n",
            "gcc    -std=gnu99 -W -Wall -Wextra -O2 -pipe -Iinclude/ -IOpenCL/ -Ideps/LZMA-SDK/C -Ideps/zlib -Ideps/zlib/contrib -Ideps/OpenCL-Headers -DWITH_BRAIN -Ideps/xxHash -DWITH_CUBIN -Ideps/unrar -DWITH_HWMON src/modules/module_00110.c obj/combined.NATIVE.a -o modules/module_00110.so  -s -lstdc++ -lpthread -ldl -lrt -lm -shared -fPIC -D MODULE_INTERFACE_VERSION_CURRENT=630\n",
            "gcc    -std=gnu99 -W -Wall -Wextra -O2 -pipe -Iinclude/ -IOpenCL/ -Ideps/LZMA-SDK/C -Ideps/zlib -Ideps/zlib/contrib -Ideps/OpenCL-Headers -DWITH_BRAIN -Ideps/xxHash -DWITH_CUBIN -Ideps/unrar -DWITH_HWMON src/modules/module_07401.c obj/combined.NATIVE.a -o modules/module_07401.so  -s -lstdc++ -lpthread -ldl -lrt -lm -shared -fPIC -D MODULE_INTERFACE_VERSION_CURRENT=630\n",
            "gcc    -std=gnu99 -W -Wall -Wextra -O2 -pipe -Iinclude/ -IOpenCL/ -Ideps/LZMA-SDK/C -Ideps/zlib -Ideps/zlib/contrib -Ideps/OpenCL-Headers -DWITH_BRAIN -Ideps/xxHash -DWITH_CUBIN -Ideps/unrar -DWITH_HWMON src/modules/module_07000.c obj/combined.NATIVE.a -o modules/module_07000.so  -s -lstdc++ -lpthread -ldl -lrt -lm -shared -fPIC -D MODULE_INTERFACE_VERSION_CURRENT=630\n",
            "gcc    -std=gnu99 -W -Wall -Wextra -O2 -pipe -Iinclude/ -IOpenCL/ -Ideps/LZMA-SDK/C -Ideps/zlib -Ideps/zlib/contrib -Ideps/OpenCL-Headers -DWITH_BRAIN -Ideps/xxHash -DWITH_CUBIN -Ideps/unrar -DWITH_HWMON src/modules/module_01470.c obj/combined.NATIVE.a -o modules/module_01470.so  -s -lstdc++ -lpthread -ldl -lrt -lm -shared -fPIC -D MODULE_INTERFACE_VERSION_CURRENT=630\n",
            "gcc    -std=gnu99 -W -Wall -Wextra -O2 -pipe -Iinclude/ -IOpenCL/ -Ideps/LZMA-SDK/C -Ideps/zlib -Ideps/zlib/contrib -Ideps/OpenCL-Headers -DWITH_BRAIN -Ideps/xxHash -DWITH_CUBIN -Ideps/unrar -DWITH_HWMON src/modules/module_14900.c obj/combined.NATIVE.a -o modules/module_14900.so  -s -lstdc++ -lpthread -ldl -lrt -lm -shared -fPIC -D MODULE_INTERFACE_VERSION_CURRENT=630\n",
            "gcc    -std=gnu99 -W -Wall -Wextra -O2 -pipe -Iinclude/ -IOpenCL/ -Ideps/LZMA-SDK/C -Ideps/zlib -Ideps/zlib/contrib -Ideps/OpenCL-Headers -DWITH_BRAIN -Ideps/xxHash -DWITH_CUBIN -Ideps/unrar -DWITH_HWMON src/modules/module_14800.c obj/combined.NATIVE.a -o modules/module_14800.so  -s -lstdc++ -lpthread -ldl -lrt -lm -shared -fPIC -D MODULE_INTERFACE_VERSION_CURRENT=630\n",
            "gcc    -std=gnu99 -W -Wall -Wextra -O2 -pipe -Iinclude/ -IOpenCL/ -Ideps/LZMA-SDK/C -Ideps/zlib -Ideps/zlib/contrib -Ideps/OpenCL-Headers -DWITH_BRAIN -Ideps/xxHash -DWITH_CUBIN -Ideps/unrar -DWITH_HWMON src/modules/module_14700.c obj/combined.NATIVE.a -o modules/module_14700.so  -s -lstdc++ -lpthread -ldl -lrt -lm -shared -fPIC -D MODULE_INTERFACE_VERSION_CURRENT=630\n",
            "gcc    -std=gnu99 -W -Wall -Wextra -O2 -pipe -Iinclude/ -IOpenCL/ -Ideps/LZMA-SDK/C -Ideps/zlib -Ideps/zlib/contrib -Ideps/OpenCL-Headers -DWITH_BRAIN -Ideps/xxHash -DWITH_CUBIN -Ideps/unrar -DWITH_HWMON src/modules/module_07400.c obj/combined.NATIVE.a -o modules/module_07400.so  -s -lstdc++ -lpthread -ldl -lrt -lm -shared -fPIC -D MODULE_INTERFACE_VERSION_CURRENT=630\n",
            "gcc    -std=gnu99 -W -Wall -Wextra -O2 -pipe -Iinclude/ -IOpenCL/ -Ideps/LZMA-SDK/C -Ideps/zlib -Ideps/zlib/contrib -Ideps/OpenCL-Headers -DWITH_BRAIN -Ideps/xxHash -DWITH_CUBIN -Ideps/unrar -DWITH_HWMON src/modules/module_23600.c obj/combined.NATIVE.a -o modules/module_23600.so  -s -lstdc++ -lpthread -ldl -lrt -lm -shared -fPIC -D MODULE_INTERFACE_VERSION_CURRENT=630\n",
            "gcc    -std=gnu99 -W -Wall -Wextra -O2 -pipe -Iinclude/ -IOpenCL/ -Ideps/LZMA-SDK/C -Ideps/zlib -Ideps/zlib/contrib -Ideps/OpenCL-Headers -DWITH_BRAIN -Ideps/xxHash -DWITH_CUBIN -Ideps/unrar -DWITH_HWMON src/modules/module_18600.c obj/combined.NATIVE.a -o modules/module_18600.so  -s -lstdc++ -lpthread -ldl -lrt -lm -shared -fPIC -D MODULE_INTERFACE_VERSION_CURRENT=630\n",
            "gcc    -std=gnu99 -W -Wall -Wextra -O2 -pipe -Iinclude/ -IOpenCL/ -Ideps/LZMA-SDK/C -Ideps/zlib -Ideps/zlib/contrib -Ideps/OpenCL-Headers -DWITH_BRAIN -Ideps/xxHash -DWITH_CUBIN -Ideps/unrar -DWITH_HWMON src/modules/module_23002.c obj/combined.NATIVE.a -o modules/module_23002.so  -s -lstdc++ -lpthread -ldl -lrt -lm -shared -fPIC -D MODULE_INTERFACE_VERSION_CURRENT=630\n",
            "gcc    -std=gnu99 -W -Wall -Wextra -O2 -pipe -Iinclude/ -IOpenCL/ -Ideps/LZMA-SDK/C -Ideps/zlib -Ideps/zlib/contrib -Ideps/OpenCL-Headers -DWITH_BRAIN -Ideps/xxHash -DWITH_CUBIN -Ideps/unrar -DWITH_HWMON src/modules/module_20012.c obj/combined.NATIVE.a -o modules/module_20012.so  -s -lstdc++ -lpthread -ldl -lrt -lm -shared -fPIC -D MODULE_INTERFACE_VERSION_CURRENT=630\n",
            "gcc    -std=gnu99 -W -Wall -Wextra -O2 -pipe -Iinclude/ -IOpenCL/ -Ideps/LZMA-SDK/C -Ideps/zlib -Ideps/zlib/contrib -Ideps/OpenCL-Headers -DWITH_BRAIN -Ideps/xxHash -DWITH_CUBIN -Ideps/unrar -DWITH_HWMON src/modules/module_06212.c obj/combined.NATIVE.a -o modules/module_06212.so  -s -lstdc++ -lpthread -ldl -lrt -lm -shared -fPIC -D MODULE_INTERFACE_VERSION_CURRENT=630\n",
            "gcc    -std=gnu99 -W -Wall -Wextra -O2 -pipe -Iinclude/ -IOpenCL/ -Ideps/LZMA-SDK/C -Ideps/zlib -Ideps/zlib/contrib -Ideps/OpenCL-Headers -DWITH_BRAIN -Ideps/xxHash -DWITH_CUBIN -Ideps/unrar -DWITH_HWMON src/modules/module_20013.c obj/combined.NATIVE.a -o modules/module_20013.so  -s -lstdc++ -lpthread -ldl -lrt -lm -shared -fPIC -D MODULE_INTERFACE_VERSION_CURRENT=630\n",
            "gcc    -std=gnu99 -W -Wall -Wextra -O2 -pipe -Iinclude/ -IOpenCL/ -Ideps/LZMA-SDK/C -Ideps/zlib -Ideps/zlib/contrib -Ideps/OpenCL-Headers -DWITH_BRAIN -Ideps/xxHash -DWITH_CUBIN -Ideps/unrar -DWITH_HWMON src/modules/module_13743.c obj/combined.NATIVE.a -o modules/module_13743.so  -s -lstdc++ -lpthread -ldl -lrt -lm -shared -fPIC -D MODULE_INTERFACE_VERSION_CURRENT=630\n",
            "gcc    -std=gnu99 -W -Wall -Wextra -O2 -pipe -Iinclude/ -IOpenCL/ -Ideps/LZMA-SDK/C -Ideps/zlib -Ideps/zlib/contrib -Ideps/OpenCL-Headers -DWITH_BRAIN -Ideps/xxHash -DWITH_CUBIN -Ideps/unrar -DWITH_HWMON src/modules/module_01800.c obj/combined.NATIVE.a -o modules/module_01800.so  -s -lstdc++ -lpthread -ldl -lrt -lm -shared -fPIC -D MODULE_INTERFACE_VERSION_CURRENT=630\n",
            "gcc    -std=gnu99 -W -Wall -Wextra -O2 -pipe -Iinclude/ -IOpenCL/ -Ideps/LZMA-SDK/C -Ideps/zlib -Ideps/zlib/contrib -Ideps/OpenCL-Headers -DWITH_BRAIN -Ideps/xxHash -DWITH_CUBIN -Ideps/unrar -DWITH_HWMON src/modules/module_19800.c obj/combined.NATIVE.a -o modules/module_19800.so  -s -lstdc++ -lpthread -ldl -lrt -lm -shared -fPIC -D MODULE_INTERFACE_VERSION_CURRENT=630\n",
            "gcc    -std=gnu99 -W -Wall -Wextra -O2 -pipe -Iinclude/ -IOpenCL/ -Ideps/LZMA-SDK/C -Ideps/zlib -Ideps/zlib/contrib -Ideps/OpenCL-Headers -DWITH_BRAIN -Ideps/xxHash -DWITH_CUBIN -Ideps/unrar -DWITH_HWMON src/modules/module_18700.c obj/combined.NATIVE.a -o modules/module_18700.so  -s -lstdc++ -lpthread -ldl -lrt -lm -shared -fPIC -D MODULE_INTERFACE_VERSION_CURRENT=630\n",
            "gcc    -std=gnu99 -W -Wall -Wextra -O2 -pipe -Iinclude/ -IOpenCL/ -Ideps/LZMA-SDK/C -Ideps/zlib -Ideps/zlib/contrib -Ideps/OpenCL-Headers -DWITH_BRAIN -Ideps/xxHash -DWITH_CUBIN -Ideps/unrar -DWITH_HWMON src/modules/module_01300.c obj/combined.NATIVE.a -o modules/module_01300.so  -s -lstdc++ -lpthread -ldl -lrt -lm -shared -fPIC -D MODULE_INTERFACE_VERSION_CURRENT=630\n",
            "gcc    -std=gnu99 -W -Wall -Wextra -O2 -pipe -Iinclude/ -IOpenCL/ -Ideps/LZMA-SDK/C -Ideps/zlib -Ideps/zlib/contrib -Ideps/OpenCL-Headers -DWITH_BRAIN -Ideps/xxHash -DWITH_CUBIN -Ideps/unrar -DWITH_HWMON src/modules/module_16500.c obj/combined.NATIVE.a -o modules/module_16500.so  -s -lstdc++ -lpthread -ldl -lrt -lm -shared -fPIC -D MODULE_INTERFACE_VERSION_CURRENT=630\n",
            "gcc    -std=gnu99 -W -Wall -Wextra -O2 -pipe -Iinclude/ -IOpenCL/ -Ideps/LZMA-SDK/C -Ideps/zlib -Ideps/zlib/contrib -Ideps/OpenCL-Headers -DWITH_BRAIN -Ideps/xxHash -DWITH_CUBIN -Ideps/unrar -DWITH_HWMON src/modules/module_22301.c obj/combined.NATIVE.a -o modules/module_22301.so  -s -lstdc++ -lpthread -ldl -lrt -lm -shared -fPIC -D MODULE_INTERFACE_VERSION_CURRENT=630\n",
            "gcc    -std=gnu99 -W -Wall -Wextra -O2 -pipe -Iinclude/ -IOpenCL/ -Ideps/LZMA-SDK/C -Ideps/zlib -Ideps/zlib/contrib -Ideps/OpenCL-Headers -DWITH_BRAIN -Ideps/xxHash -DWITH_CUBIN -Ideps/unrar -DWITH_HWMON src/modules/module_27200.c obj/combined.NATIVE.a -o modules/module_27200.so  -s -lstdc++ -lpthread -ldl -lrt -lm -shared -fPIC -D MODULE_INTERFACE_VERSION_CURRENT=630\n",
            "gcc    -std=gnu99 -W -Wall -Wextra -O2 -pipe -Iinclude/ -IOpenCL/ -Ideps/LZMA-SDK/C -Ideps/zlib -Ideps/zlib/contrib -Ideps/OpenCL-Headers -DWITH_BRAIN -Ideps/xxHash -DWITH_CUBIN -Ideps/unrar -DWITH_HWMON src/modules/module_04710.c obj/combined.NATIVE.a -o modules/module_04710.so  -s -lstdc++ -lpthread -ldl -lrt -lm -shared -fPIC -D MODULE_INTERFACE_VERSION_CURRENT=630\n",
            "gcc    -std=gnu99 -W -Wall -Wextra -O2 -pipe -Iinclude/ -IOpenCL/ -Ideps/LZMA-SDK/C -Ideps/zlib -Ideps/zlib/contrib -Ideps/OpenCL-Headers -DWITH_BRAIN -Ideps/xxHash -DWITH_CUBIN -Ideps/unrar -DWITH_HWMON src/modules/module_21600.c obj/combined.NATIVE.a -o modules/module_21600.so  -s -lstdc++ -lpthread -ldl -lrt -lm -shared -fPIC -D MODULE_INTERFACE_VERSION_CURRENT=630\n",
            "gcc    -std=gnu99 -W -Wall -Wextra -O2 -pipe -Iinclude/ -IOpenCL/ -Ideps/LZMA-SDK/C -Ideps/zlib -Ideps/zlib/contrib -Ideps/OpenCL-Headers -DWITH_BRAIN -Ideps/xxHash -DWITH_CUBIN -Ideps/unrar -DWITH_HWMON src/modules/module_05100.c obj/combined.NATIVE.a -o modules/module_05100.so  -s -lstdc++ -lpthread -ldl -lrt -lm -shared -fPIC -D MODULE_INTERFACE_VERSION_CURRENT=630\n",
            "gcc    -std=gnu99 -W -Wall -Wextra -O2 -pipe -Iinclude/ -IOpenCL/ -Ideps/LZMA-SDK/C -Ideps/zlib -Ideps/zlib/contrib -Ideps/OpenCL-Headers -DWITH_BRAIN -Ideps/xxHash -DWITH_CUBIN -Ideps/unrar -DWITH_HWMON src/modules/module_15600.c obj/combined.NATIVE.a -o modules/module_15600.so  -s -lstdc++ -lpthread -ldl -lrt -lm -shared -fPIC -D MODULE_INTERFACE_VERSION_CURRENT=630\n",
            "gcc    -std=gnu99 -W -Wall -Wextra -O2 -pipe -Iinclude/ -IOpenCL/ -Ideps/LZMA-SDK/C -Ideps/zlib -Ideps/zlib/contrib -Ideps/OpenCL-Headers -DWITH_BRAIN -Ideps/xxHash -DWITH_CUBIN -Ideps/unrar -DWITH_HWMON src/modules/module_06213.c obj/combined.NATIVE.a -o modules/module_06213.so  -s -lstdc++ -lpthread -ldl -lrt -lm -shared -fPIC -D MODULE_INTERFACE_VERSION_CURRENT=630\n",
            "gcc    -std=gnu99 -W -Wall -Wextra -O2 -pipe -Iinclude/ -IOpenCL/ -Ideps/LZMA-SDK/C -Ideps/zlib -Ideps/zlib/contrib -Ideps/OpenCL-Headers -DWITH_BRAIN -Ideps/xxHash -DWITH_CUBIN -Ideps/unrar -DWITH_HWMON src/modules/module_13782.c obj/combined.NATIVE.a -o modules/module_13782.so  -s -lstdc++ -lpthread -ldl -lrt -lm -shared -fPIC -D MODULE_INTERFACE_VERSION_CURRENT=630\n",
            "gcc    -std=gnu99 -W -Wall -Wextra -O2 -pipe -Iinclude/ -IOpenCL/ -Ideps/LZMA-SDK/C -Ideps/zlib -Ideps/zlib/contrib -Ideps/OpenCL-Headers -DWITH_BRAIN -Ideps/xxHash -DWITH_CUBIN -Ideps/unrar -DWITH_HWMON src/modules/module_01000.c obj/combined.NATIVE.a -o modules/module_01000.so  -s -lstdc++ -lpthread -ldl -lrt -lm -shared -fPIC -D MODULE_INTERFACE_VERSION_CURRENT=630\n",
            "gcc    -std=gnu99 -W -Wall -Wextra -O2 -pipe -Iinclude/ -IOpenCL/ -Ideps/LZMA-SDK/C -Ideps/zlib -Ideps/zlib/contrib -Ideps/OpenCL-Headers -DWITH_BRAIN -Ideps/xxHash -DWITH_CUBIN -Ideps/unrar -DWITH_HWMON src/modules/module_00112.c obj/combined.NATIVE.a -o modules/module_00112.so  -s -lstdc++ -lpthread -ldl -lrt -lm -shared -fPIC -D MODULE_INTERFACE_VERSION_CURRENT=630\n",
            "gcc    -std=gnu99 -W -Wall -Wextra -O2 -pipe -Iinclude/ -IOpenCL/ -Ideps/LZMA-SDK/C -Ideps/zlib -Ideps/zlib/contrib -Ideps/OpenCL-Headers -DWITH_BRAIN -Ideps/xxHash -DWITH_CUBIN -Ideps/unrar -DWITH_HWMON src/modules/module_28000.c obj/combined.NATIVE.a -o modules/module_28000.so  -s -lstdc++ -lpthread -ldl -lrt -lm -shared -fPIC -D MODULE_INTERFACE_VERSION_CURRENT=630\n",
            "gcc    -std=gnu99 -W -Wall -Wextra -O2 -pipe -Iinclude/ -IOpenCL/ -Ideps/LZMA-SDK/C -Ideps/zlib -Ideps/zlib/contrib -Ideps/OpenCL-Headers -DWITH_BRAIN -Ideps/xxHash -DWITH_CUBIN -Ideps/unrar -DWITH_HWMON src/modules/module_20500.c obj/combined.NATIVE.a -o modules/module_20500.so  -s -lstdc++ -lpthread -ldl -lrt -lm -shared -fPIC -D MODULE_INTERFACE_VERSION_CURRENT=630\n",
            "gcc    -std=gnu99 -W -Wall -Wextra -O2 -pipe -Iinclude/ -IOpenCL/ -Ideps/LZMA-SDK/C -Ideps/zlib -Ideps/zlib/contrib -Ideps/OpenCL-Headers -DWITH_BRAIN -Ideps/xxHash -DWITH_CUBIN -Ideps/unrar -DWITH_HWMON src/modules/module_02400.c obj/combined.NATIVE.a -o modules/module_02400.so  -s -lstdc++ -lpthread -ldl -lrt -lm -shared -fPIC -D MODULE_INTERFACE_VERSION_CURRENT=630\n",
            "gcc    -std=gnu99 -W -Wall -Wextra -O2 -pipe -Iinclude/ -IOpenCL/ -Ideps/LZMA-SDK/C -Ideps/zlib -Ideps/zlib/contrib -Ideps/OpenCL-Headers -DWITH_BRAIN -Ideps/xxHash -DWITH_CUBIN -Ideps/unrar -DWITH_HWMON src/modules/module_17210.c obj/combined.NATIVE.a -o modules/module_17210.so  -s -lstdc++ -lpthread -ldl -lrt -lm -shared -fPIC -D MODULE_INTERFACE_VERSION_CURRENT=630\n",
            "gcc    -std=gnu99 -W -Wall -Wextra -O2 -pipe -Iinclude/ -IOpenCL/ -Ideps/LZMA-SDK/C -Ideps/zlib -Ideps/zlib/contrib -Ideps/OpenCL-Headers -DWITH_BRAIN -Ideps/xxHash -DWITH_CUBIN -Ideps/unrar -DWITH_HWMON src/modules/module_01711.c obj/combined.NATIVE.a -o modules/module_01711.so  -s -lstdc++ -lpthread -ldl -lrt -lm -shared -fPIC -D MODULE_INTERFACE_VERSION_CURRENT=630\n",
            "gcc    -std=gnu99 -W -Wall -Wextra -O2 -pipe -Iinclude/ -IOpenCL/ -Ideps/LZMA-SDK/C -Ideps/zlib -Ideps/zlib/contrib -Ideps/OpenCL-Headers -DWITH_BRAIN -Ideps/xxHash -DWITH_CUBIN -Ideps/unrar -DWITH_HWMON src/modules/module_15900.c obj/combined.NATIVE.a -o modules/module_15900.so  -s -lstdc++ -lpthread -ldl -lrt -lm -shared -fPIC -D MODULE_INTERFACE_VERSION_CURRENT=630\n",
            "gcc    -std=gnu99 -W -Wall -Wextra -O2 -pipe -Iinclude/ -IOpenCL/ -Ideps/LZMA-SDK/C -Ideps/zlib -Ideps/zlib/contrib -Ideps/OpenCL-Headers -DWITH_BRAIN -Ideps/xxHash -DWITH_CUBIN -Ideps/unrar -DWITH_HWMON src/modules/module_00300.c obj/combined.NATIVE.a -o modules/module_00300.so  -s -lstdc++ -lpthread -ldl -lrt -lm -shared -fPIC -D MODULE_INTERFACE_VERSION_CURRENT=630\n",
            "gcc    -std=gnu99 -W -Wall -Wextra -O2 -pipe -Iinclude/ -IOpenCL/ -Ideps/LZMA-SDK/C -Ideps/zlib -Ideps/zlib/contrib -Ideps/OpenCL-Headers -DWITH_BRAIN -Ideps/xxHash -DWITH_CUBIN -Ideps/unrar -DWITH_HWMON src/modules/module_00140.c obj/combined.NATIVE.a -o modules/module_00140.so  -s -lstdc++ -lpthread -ldl -lrt -lm -shared -fPIC -D MODULE_INTERFACE_VERSION_CURRENT=630\n",
            "gcc    -std=gnu99 -W -Wall -Wextra -O2 -pipe -Iinclude/ -IOpenCL/ -Ideps/LZMA-SDK/C -Ideps/zlib -Ideps/zlib/contrib -Ideps/OpenCL-Headers -DWITH_BRAIN -Ideps/xxHash -DWITH_CUBIN -Ideps/unrar -DWITH_HWMON src/modules/module_11700.c obj/combined.NATIVE.a -o modules/module_11700.so  -s -lstdc++ -lpthread -ldl -lrt -lm -shared -fPIC -D MODULE_INTERFACE_VERSION_CURRENT=630\n",
            "gcc    -std=gnu99 -W -Wall -Wextra -O2 -pipe -Iinclude/ -IOpenCL/ -Ideps/LZMA-SDK/C -Ideps/zlib -Ideps/zlib/contrib -Ideps/OpenCL-Headers -DWITH_BRAIN -Ideps/xxHash -DWITH_CUBIN -Ideps/unrar -DWITH_HWMON src/modules/module_13742.c obj/combined.NATIVE.a -o modules/module_13742.so  -s -lstdc++ -lpthread -ldl -lrt -lm -shared -fPIC -D MODULE_INTERFACE_VERSION_CURRENT=630\n",
            "gcc    -std=gnu99 -W -Wall -Wextra -O2 -pipe -Iinclude/ -IOpenCL/ -Ideps/LZMA-SDK/C -Ideps/zlib -Ideps/zlib/contrib -Ideps/OpenCL-Headers -DWITH_BRAIN -Ideps/xxHash -DWITH_CUBIN -Ideps/unrar -DWITH_HWMON src/modules/module_05600.c obj/combined.NATIVE.a -o modules/module_05600.so  -s -lstdc++ -lpthread -ldl -lrt -lm -shared -fPIC -D MODULE_INTERFACE_VERSION_CURRENT=630\n",
            "gcc    -std=gnu99 -W -Wall -Wextra -O2 -pipe -Iinclude/ -IOpenCL/ -Ideps/LZMA-SDK/C -Ideps/zlib -Ideps/zlib/contrib -Ideps/OpenCL-Headers -DWITH_BRAIN -Ideps/xxHash -DWITH_CUBIN -Ideps/unrar -DWITH_HWMON src/modules/module_19200.c obj/combined.NATIVE.a -o modules/module_19200.so  -s -lstdc++ -lpthread -ldl -lrt -lm -shared -fPIC -D MODULE_INTERFACE_VERSION_CURRENT=630\n",
            "gcc    -std=gnu99 -W -Wall -Wextra -O2 -pipe -Iinclude/ -IOpenCL/ -Ideps/LZMA-SDK/C -Ideps/zlib -Ideps/zlib/contrib -Ideps/OpenCL-Headers -DWITH_BRAIN -Ideps/xxHash -DWITH_CUBIN -Ideps/unrar -DWITH_HWMON src/modules/module_11600.c obj/combined.NATIVE.a -o modules/module_11600.so  -s -lstdc++ -lpthread -ldl -lrt -lm -shared -fPIC -D MODULE_INTERFACE_VERSION_CURRENT=630\n",
            "gcc    -std=gnu99 -W -Wall -Wextra -O2 -pipe -Iinclude/ -IOpenCL/ -Ideps/LZMA-SDK/C -Ideps/zlib -Ideps/zlib/contrib -Ideps/OpenCL-Headers -DWITH_BRAIN -Ideps/xxHash -DWITH_CUBIN -Ideps/unrar -DWITH_HWMON src/modules/module_24600.c obj/combined.NATIVE.a -o modules/module_24600.so  -s -lstdc++ -lpthread -ldl -lrt -lm -shared -fPIC -D MODULE_INTERFACE_VERSION_CURRENT=630\n",
            "gcc    -std=gnu99 -W -Wall -Wextra -O2 -pipe -Iinclude/ -IOpenCL/ -Ideps/LZMA-SDK/C -Ideps/zlib -Ideps/zlib/contrib -Ideps/OpenCL-Headers -DWITH_BRAIN -Ideps/xxHash -DWITH_CUBIN -Ideps/unrar -DWITH_HWMON src/modules/module_10820.c obj/combined.NATIVE.a -o modules/module_10820.so  -s -lstdc++ -lpthread -ldl -lrt -lm -shared -fPIC -D MODULE_INTERFACE_VERSION_CURRENT=630\n",
            "gcc    -std=gnu99 -W -Wall -Wextra -O2 -pipe -Iinclude/ -IOpenCL/ -Ideps/LZMA-SDK/C -Ideps/zlib -Ideps/zlib/contrib -Ideps/OpenCL-Headers -DWITH_BRAIN -Ideps/xxHash -DWITH_CUBIN -Ideps/unrar -DWITH_HWMON src/modules/module_11000.c obj/combined.NATIVE.a -o modules/module_11000.so  -s -lstdc++ -lpthread -ldl -lrt -lm -shared -fPIC -D MODULE_INTERFACE_VERSION_CURRENT=630\n",
            "gcc    -std=gnu99 -W -Wall -Wextra -O2 -pipe -Iinclude/ -IOpenCL/ -Ideps/LZMA-SDK/C -Ideps/zlib -Ideps/zlib/contrib -Ideps/OpenCL-Headers -DWITH_BRAIN -Ideps/xxHash -DWITH_CUBIN -Ideps/unrar -DWITH_HWMON src/modules/module_09700.c obj/combined.NATIVE.a -o modules/module_09700.so  -s -lstdc++ -lpthread -ldl -lrt -lm -shared -fPIC -D MODULE_INTERFACE_VERSION_CURRENT=630\n",
            "gcc    -std=gnu99 -W -Wall -Wextra -O2 -pipe -Iinclude/ -IOpenCL/ -Ideps/LZMA-SDK/C -Ideps/zlib -Ideps/zlib/contrib -Ideps/OpenCL-Headers -DWITH_BRAIN -Ideps/xxHash -DWITH_CUBIN -Ideps/unrar -DWITH_HWMON src/modules/module_03710.c obj/combined.NATIVE.a -o modules/module_03710.so  -s -lstdc++ -lpthread -ldl -lrt -lm -shared -fPIC -D MODULE_INTERFACE_VERSION_CURRENT=630\n",
            "gcc    -std=gnu99 -W -Wall -Wextra -O2 -pipe -Iinclude/ -IOpenCL/ -Ideps/LZMA-SDK/C -Ideps/zlib -Ideps/zlib/contrib -Ideps/OpenCL-Headers -DWITH_BRAIN -Ideps/xxHash -DWITH_CUBIN -Ideps/unrar -DWITH_HWMON src/modules/module_06211.c obj/combined.NATIVE.a -o modules/module_06211.so  -s -lstdc++ -lpthread -ldl -lrt -lm -shared -fPIC -D MODULE_INTERFACE_VERSION_CURRENT=630\n",
            "gcc    -std=gnu99 -W -Wall -Wextra -O2 -pipe -Iinclude/ -IOpenCL/ -Ideps/LZMA-SDK/C -Ideps/zlib -Ideps/zlib/contrib -Ideps/OpenCL-Headers -DWITH_BRAIN -Ideps/xxHash -DWITH_CUBIN -Ideps/unrar -DWITH_HWMON src/modules/module_19500.c obj/combined.NATIVE.a -o modules/module_19500.so  -s -lstdc++ -lpthread -ldl -lrt -lm -shared -fPIC -D MODULE_INTERFACE_VERSION_CURRENT=630\n",
            "gcc    -std=gnu99 -W -Wall -Wextra -O2 -pipe -Iinclude/ -IOpenCL/ -Ideps/LZMA-SDK/C -Ideps/zlib -Ideps/zlib/contrib -Ideps/OpenCL-Headers -DWITH_BRAIN -Ideps/xxHash -DWITH_CUBIN -Ideps/unrar -DWITH_HWMON src/modules/module_00132.c obj/combined.NATIVE.a -o modules/module_00132.so  -s -lstdc++ -lpthread -ldl -lrt -lm -shared -fPIC -D MODULE_INTERFACE_VERSION_CURRENT=630\n",
            "gcc    -std=gnu99 -W -Wall -Wextra -O2 -pipe -Iinclude/ -IOpenCL/ -Ideps/LZMA-SDK/C -Ideps/zlib -Ideps/zlib/contrib -Ideps/OpenCL-Headers -DWITH_BRAIN -Ideps/xxHash -DWITH_CUBIN -Ideps/unrar -DWITH_HWMON src/modules/module_26900.c obj/combined.NATIVE.a -o modules/module_26900.so  -s -lstdc++ -lpthread -ldl -lrt -lm -shared -fPIC -D MODULE_INTERFACE_VERSION_CURRENT=630\n",
            "gcc    -std=gnu99 -W -Wall -Wextra -O2 -pipe -Iinclude/ -IOpenCL/ -Ideps/LZMA-SDK/C -Ideps/zlib -Ideps/zlib/contrib -Ideps/OpenCL-Headers -DWITH_BRAIN -Ideps/xxHash -DWITH_CUBIN -Ideps/unrar -DWITH_HWMON src/modules/module_11860.c obj/combined.NATIVE.a -o modules/module_11860.so  -s -lstdc++ -lpthread -ldl -lrt -lm -shared -fPIC -D MODULE_INTERFACE_VERSION_CURRENT=630\n",
            "gcc    -std=gnu99 -W -Wall -Wextra -O2 -pipe -Iinclude/ -IOpenCL/ -Ideps/LZMA-SDK/C -Ideps/zlib -Ideps/zlib/contrib -Ideps/OpenCL-Headers -DWITH_BRAIN -Ideps/xxHash -DWITH_CUBIN -Ideps/unrar -DWITH_HWMON src/modules/module_06243.c obj/combined.NATIVE.a -o modules/module_06243.so  -s -lstdc++ -lpthread -ldl -lrt -lm -shared -fPIC -D MODULE_INTERFACE_VERSION_CURRENT=630\n",
            "gcc    -std=gnu99 -W -Wall -Wextra -O2 -pipe -Iinclude/ -IOpenCL/ -Ideps/LZMA-SDK/C -Ideps/zlib -Ideps/zlib/contrib -Ideps/OpenCL-Headers -DWITH_BRAIN -Ideps/xxHash -DWITH_CUBIN -Ideps/unrar -DWITH_HWMON src/modules/module_20710.c obj/combined.NATIVE.a -o modules/module_20710.so  -s -lstdc++ -lpthread -ldl -lrt -lm -shared -fPIC -D MODULE_INTERFACE_VERSION_CURRENT=630\n",
            "gcc    -std=gnu99 -W -Wall -Wextra -O2 -pipe -Iinclude/ -IOpenCL/ -Ideps/LZMA-SDK/C -Ideps/zlib -Ideps/zlib/contrib -Ideps/OpenCL-Headers -DWITH_BRAIN -Ideps/xxHash -DWITH_CUBIN -Ideps/unrar -DWITH_HWMON src/modules/module_26403.c obj/combined.NATIVE.a -o modules/module_26403.so  -s -lstdc++ -lpthread -ldl -lrt -lm -shared -fPIC -D MODULE_INTERFACE_VERSION_CURRENT=630\n",
            "gcc    -std=gnu99 -W -Wall -Wextra -O2 -pipe -Iinclude/ -IOpenCL/ -Ideps/LZMA-SDK/C -Ideps/zlib -Ideps/zlib/contrib -Ideps/OpenCL-Headers -DWITH_BRAIN -Ideps/xxHash -DWITH_CUBIN -Ideps/unrar -DWITH_HWMON src/modules/module_13761.c obj/combined.NATIVE.a -o modules/module_13761.so  -s -lstdc++ -lpthread -ldl -lrt -lm -shared -fPIC -D MODULE_INTERFACE_VERSION_CURRENT=630\n",
            "gcc    -std=gnu99 -W -Wall -Wextra -O2 -pipe -Iinclude/ -IOpenCL/ -Ideps/LZMA-SDK/C -Ideps/zlib -Ideps/zlib/contrib -Ideps/OpenCL-Headers -DWITH_BRAIN -Ideps/xxHash -DWITH_CUBIN -Ideps/unrar -DWITH_HWMON src/modules/module_02811.c obj/combined.NATIVE.a -o modules/module_02811.so  -s -lstdc++ -lpthread -ldl -lrt -lm -shared -fPIC -D MODULE_INTERFACE_VERSION_CURRENT=630\n",
            "gcc    -std=gnu99 -W -Wall -Wextra -O2 -pipe -Iinclude/ -IOpenCL/ -Ideps/LZMA-SDK/C -Ideps/zlib -Ideps/zlib/contrib -Ideps/OpenCL-Headers -DWITH_BRAIN -Ideps/xxHash -DWITH_CUBIN -Ideps/unrar -DWITH_HWMON src/modules/module_26401.c obj/combined.NATIVE.a -o modules/module_26401.so  -s -lstdc++ -lpthread -ldl -lrt -lm -shared -fPIC -D MODULE_INTERFACE_VERSION_CURRENT=630\n",
            "gcc    -std=gnu99 -W -Wall -Wextra -O2 -pipe -Iinclude/ -IOpenCL/ -Ideps/LZMA-SDK/C -Ideps/zlib -Ideps/zlib/contrib -Ideps/OpenCL-Headers -DWITH_BRAIN -Ideps/xxHash -DWITH_CUBIN -Ideps/unrar -DWITH_HWMON src/modules/module_09720.c obj/combined.NATIVE.a -o modules/module_09720.so  -s -lstdc++ -lpthread -ldl -lrt -lm -shared -fPIC -D MODULE_INTERFACE_VERSION_CURRENT=630\n",
            "gcc    -std=gnu99 -W -Wall -Wextra -O2 -pipe -Iinclude/ -IOpenCL/ -Ideps/LZMA-SDK/C -Ideps/zlib -Ideps/zlib/contrib -Ideps/OpenCL-Headers -DWITH_BRAIN -Ideps/xxHash -DWITH_CUBIN -Ideps/unrar -DWITH_HWMON src/modules/module_12900.c obj/combined.NATIVE.a -o modules/module_12900.so  -s -lstdc++ -lpthread -ldl -lrt -lm -shared -fPIC -D MODULE_INTERFACE_VERSION_CURRENT=630\n",
            "gcc    -std=gnu99 -W -Wall -Wextra -O2 -pipe -Iinclude/ -IOpenCL/ -Ideps/LZMA-SDK/C -Ideps/zlib -Ideps/zlib/contrib -Ideps/OpenCL-Headers -DWITH_BRAIN -Ideps/xxHash -DWITH_CUBIN -Ideps/unrar -DWITH_HWMON src/modules/module_12800.c obj/combined.NATIVE.a -o modules/module_12800.so  -s -lstdc++ -lpthread -ldl -lrt -lm -shared -fPIC -D MODULE_INTERFACE_VERSION_CURRENT=630\n",
            "gcc    -std=gnu99 -W -Wall -Wextra -O2 -pipe -Iinclude/ -IOpenCL/ -Ideps/LZMA-SDK/C -Ideps/zlib -Ideps/zlib/contrib -Ideps/OpenCL-Headers -DWITH_BRAIN -Ideps/xxHash -DWITH_CUBIN -Ideps/unrar -DWITH_HWMON src/modules/module_22911.c obj/combined.NATIVE.a -o modules/module_22911.so  -s -lstdc++ -lpthread -ldl -lrt -lm -shared -fPIC -D MODULE_INTERFACE_VERSION_CURRENT=630\n",
            "gcc    -std=gnu99 -W -Wall -Wextra -O2 -pipe -Iinclude/ -IOpenCL/ -Ideps/LZMA-SDK/C -Ideps/zlib -Ideps/zlib/contrib -Ideps/OpenCL-Headers -DWITH_BRAIN -Ideps/xxHash -DWITH_CUBIN -Ideps/unrar -DWITH_HWMON src/modules/module_00120.c obj/combined.NATIVE.a -o modules/module_00120.so  -s -lstdc++ -lpthread -ldl -lrt -lm -shared -fPIC -D MODULE_INTERFACE_VERSION_CURRENT=630\n",
            "gcc    -std=gnu99 -W -Wall -Wextra -O2 -pipe -Iinclude/ -IOpenCL/ -Ideps/LZMA-SDK/C -Ideps/zlib -Ideps/zlib/contrib -Ideps/OpenCL-Headers -DWITH_BRAIN -Ideps/xxHash -DWITH_CUBIN -Ideps/unrar -DWITH_HWMON src/modules/module_09500.c obj/combined.NATIVE.a -o modules/module_09500.so  -s -lstdc++ -lpthread -ldl -lrt -lm -shared -fPIC -D MODULE_INTERFACE_VERSION_CURRENT=630\n",
            "gcc    -std=gnu99 -W -Wall -Wextra -O2 -pipe -Iinclude/ -IOpenCL/ -Ideps/LZMA-SDK/C -Ideps/zlib -Ideps/zlib/contrib -Ideps/OpenCL-Headers -DWITH_BRAIN -Ideps/xxHash -DWITH_CUBIN -Ideps/unrar -DWITH_HWMON src/modules/module_00021.c obj/combined.NATIVE.a -o modules/module_00021.so  -s -lstdc++ -lpthread -ldl -lrt -lm -shared -fPIC -D MODULE_INTERFACE_VERSION_CURRENT=630\n",
            "gcc    -std=gnu99 -W -Wall -Wextra -O2 -pipe -Iinclude/ -IOpenCL/ -Ideps/LZMA-SDK/C -Ideps/zlib -Ideps/zlib/contrib -Ideps/OpenCL-Headers -DWITH_BRAIN -Ideps/xxHash -DWITH_CUBIN -Ideps/unrar -DWITH_HWMON src/modules/module_26600.c obj/combined.NATIVE.a -o modules/module_26600.so  -s -lstdc++ -lpthread -ldl -lrt -lm -shared -fPIC -D MODULE_INTERFACE_VERSION_CURRENT=630\n",
            "gcc    -std=gnu99 -W -Wall -Wextra -O2 -pipe -Iinclude/ -IOpenCL/ -Ideps/LZMA-SDK/C -Ideps/zlib -Ideps/zlib/contrib -Ideps/OpenCL-Headers -DWITH_BRAIN -Ideps/xxHash -DWITH_CUBIN -Ideps/unrar -DWITH_HWMON src/modules/module_18300.c obj/combined.NATIVE.a -o modules/module_18300.so  -s -lstdc++ -lpthread -ldl -lrt -lm -shared -fPIC -D MODULE_INTERFACE_VERSION_CURRENT=630\n",
            "gcc    -std=gnu99 -W -Wall -Wextra -O2 -pipe -Iinclude/ -IOpenCL/ -Ideps/LZMA-SDK/C -Ideps/zlib -Ideps/zlib/contrib -Ideps/OpenCL-Headers -DWITH_BRAIN -Ideps/xxHash -DWITH_CUBIN -Ideps/unrar -DWITH_HWMON src/modules/module_17225.c obj/combined.NATIVE.a -o modules/module_17225.so  -s -lstdc++ -lpthread -ldl -lrt -lm -shared -fPIC -D MODULE_INTERFACE_VERSION_CURRENT=630\n",
            "gcc    -std=gnu99 -W -Wall -Wextra -O2 -pipe -Iinclude/ -IOpenCL/ -Ideps/LZMA-SDK/C -Ideps/zlib -Ideps/zlib/contrib -Ideps/OpenCL-Headers -DWITH_BRAIN -Ideps/xxHash -DWITH_CUBIN -Ideps/unrar -DWITH_HWMON src/modules/module_24100.c obj/combined.NATIVE.a -o modules/module_24100.so  -s -lstdc++ -lpthread -ldl -lrt -lm -shared -fPIC -D MODULE_INTERFACE_VERSION_CURRENT=630\n",
            "gcc    -std=gnu99 -W -Wall -Wextra -O2 -pipe -Iinclude/ -IOpenCL/ -Ideps/LZMA-SDK/C -Ideps/zlib -Ideps/zlib/contrib -Ideps/OpenCL-Headers -DWITH_BRAIN -Ideps/xxHash -DWITH_CUBIN -Ideps/unrar -DWITH_HWMON src/modules/module_17230.c obj/combined.NATIVE.a -o modules/module_17230.so  -s -lstdc++ -lpthread -ldl -lrt -lm -shared -fPIC -D MODULE_INTERFACE_VERSION_CURRENT=630\n",
            "gcc    -std=gnu99 -W -Wall -Wextra -O2 -pipe -Iinclude/ -IOpenCL/ -Ideps/LZMA-SDK/C -Ideps/zlib -Ideps/zlib/contrib -Ideps/OpenCL-Headers -DWITH_BRAIN -Ideps/xxHash -DWITH_CUBIN -Ideps/unrar -DWITH_HWMON src/modules/module_26000.c obj/combined.NATIVE.a -o modules/module_26000.so  -s -lstdc++ -lpthread -ldl -lrt -lm -shared -fPIC -D MODULE_INTERFACE_VERSION_CURRENT=630\n",
            "gcc    -std=gnu99 -W -Wall -Wextra -O2 -pipe -Iinclude/ -IOpenCL/ -Ideps/LZMA-SDK/C -Ideps/zlib -Ideps/zlib/contrib -Ideps/OpenCL-Headers -DWITH_BRAIN -Ideps/xxHash -DWITH_CUBIN -Ideps/unrar -DWITH_HWMON src/modules/module_05500.c obj/combined.NATIVE.a -o modules/module_05500.so  -s -lstdc++ -lpthread -ldl -lrt -lm -shared -fPIC -D MODULE_INTERFACE_VERSION_CURRENT=630\n",
            "gcc    -std=gnu99 -W -Wall -Wextra -O2 -pipe -Iinclude/ -IOpenCL/ -Ideps/LZMA-SDK/C -Ideps/zlib -Ideps/zlib/contrib -Ideps/OpenCL-Headers -DWITH_BRAIN -Ideps/xxHash -DWITH_CUBIN -Ideps/unrar -DWITH_HWMON src/modules/module_13400.c obj/combined.NATIVE.a -o modules/module_13400.so  -s -lstdc++ -lpthread -ldl -lrt -lm -shared -fPIC -D MODULE_INTERFACE_VERSION_CURRENT=630\n",
            "gcc    -std=gnu99 -W -Wall -Wextra -O2 -pipe -Iinclude/ -IOpenCL/ -Ideps/LZMA-SDK/C -Ideps/zlib -Ideps/zlib/contrib -Ideps/OpenCL-Headers -DWITH_BRAIN -Ideps/xxHash -DWITH_CUBIN -Ideps/unrar -DWITH_HWMON src/modules/module_99999.c obj/combined.NATIVE.a -o modules/module_99999.so  -s -lstdc++ -lpthread -ldl -lrt -lm -shared -fPIC -D MODULE_INTERFACE_VERSION_CURRENT=630\n",
            "gcc    -std=gnu99 -W -Wall -Wextra -O2 -pipe -Iinclude/ -IOpenCL/ -Ideps/LZMA-SDK/C -Ideps/zlib -Ideps/zlib/contrib -Ideps/OpenCL-Headers -DWITH_BRAIN -Ideps/xxHash -DWITH_CUBIN -Ideps/unrar -DWITH_HWMON src/modules/module_07800.c obj/combined.NATIVE.a -o modules/module_07800.so  -s -lstdc++ -lpthread -ldl -lrt -lm -shared -fPIC -D MODULE_INTERFACE_VERSION_CURRENT=630\n",
            "gcc    -std=gnu99 -W -Wall -Wextra -O2 -pipe -Iinclude/ -IOpenCL/ -Ideps/LZMA-SDK/C -Ideps/zlib -Ideps/zlib/contrib -Ideps/OpenCL-Headers -DWITH_BRAIN -Ideps/xxHash -DWITH_CUBIN -Ideps/unrar -DWITH_HWMON src/modules/module_13772.c obj/combined.NATIVE.a -o modules/module_13772.so  -s -lstdc++ -lpthread -ldl -lrt -lm -shared -fPIC -D MODULE_INTERFACE_VERSION_CURRENT=630\n",
            "gcc    -std=gnu99 -W -Wall -Wextra -O2 -pipe -Iinclude/ -IOpenCL/ -Ideps/LZMA-SDK/C -Ideps/zlib -Ideps/zlib/contrib -Ideps/OpenCL-Headers -DWITH_BRAIN -Ideps/xxHash -DWITH_CUBIN -Ideps/unrar -DWITH_HWMON src/modules/module_00133.c obj/combined.NATIVE.a -o modules/module_00133.so  -s -lstdc++ -lpthread -ldl -lrt -lm -shared -fPIC -D MODULE_INTERFACE_VERSION_CURRENT=630\n",
            "gcc    -std=gnu99 -W -Wall -Wextra -O2 -pipe -Iinclude/ -IOpenCL/ -Ideps/LZMA-SDK/C -Ideps/zlib -Ideps/zlib/contrib -Ideps/OpenCL-Headers -DWITH_BRAIN -Ideps/xxHash -DWITH_CUBIN -Ideps/unrar -DWITH_HWMON src/modules/module_16801.c obj/combined.NATIVE.a -o modules/module_16801.so  -s -lstdc++ -lpthread -ldl -lrt -lm -shared -fPIC -D MODULE_INTERFACE_VERSION_CURRENT=630\n",
            "gcc    -std=gnu99 -W -Wall -Wextra -O2 -pipe -Iinclude/ -IOpenCL/ -Ideps/LZMA-SDK/C -Ideps/zlib -Ideps/zlib/contrib -Ideps/OpenCL-Headers -DWITH_BRAIN -Ideps/xxHash -DWITH_CUBIN -Ideps/unrar -DWITH_HWMON src/modules/module_23100.c obj/combined.NATIVE.a -o modules/module_23100.so  -s -lstdc++ -lpthread -ldl -lrt -lm -shared -fPIC -D MODULE_INTERFACE_VERSION_CURRENT=630\n",
            "gcc    -std=gnu99 -W -Wall -Wextra -O2 -pipe -Iinclude/ -IOpenCL/ -Ideps/LZMA-SDK/C -Ideps/zlib -Ideps/zlib/contrib -Ideps/OpenCL-Headers -DWITH_BRAIN -Ideps/xxHash -DWITH_CUBIN -Ideps/unrar -DWITH_HWMON src/modules/module_15500.c obj/combined.NATIVE.a -o modules/module_15500.so  -s -lstdc++ -lpthread -ldl -lrt -lm -shared -fPIC -D MODULE_INTERFACE_VERSION_CURRENT=630\n",
            "gcc    -std=gnu99 -W -Wall -Wextra -O2 -pipe -Iinclude/ -IOpenCL/ -Ideps/LZMA-SDK/C -Ideps/zlib -Ideps/zlib/contrib -Ideps/OpenCL-Headers -DWITH_BRAIN -Ideps/xxHash -DWITH_CUBIN -Ideps/unrar -DWITH_HWMON src/modules/module_23001.c obj/combined.NATIVE.a -o modules/module_23001.so  -s -lstdc++ -lpthread -ldl -lrt -lm -shared -fPIC -D MODULE_INTERFACE_VERSION_CURRENT=630\n",
            "gcc    -std=gnu99 -W -Wall -Wextra -O2 -pipe -Iinclude/ -IOpenCL/ -Ideps/LZMA-SDK/C -Ideps/zlib -Ideps/zlib/contrib -Ideps/OpenCL-Headers -DWITH_BRAIN -Ideps/xxHash -DWITH_CUBIN -Ideps/unrar -DWITH_HWMON src/modules/module_22951.c obj/combined.NATIVE.a -o modules/module_22951.so  -s -lstdc++ -lpthread -ldl -lrt -lm -shared -fPIC -D MODULE_INTERFACE_VERSION_CURRENT=630\n",
            "gcc    -std=gnu99 -W -Wall -Wextra -O2 -pipe -Iinclude/ -IOpenCL/ -Ideps/LZMA-SDK/C -Ideps/zlib -Ideps/zlib/contrib -Ideps/OpenCL-Headers -DWITH_BRAIN -Ideps/xxHash -DWITH_CUBIN -Ideps/unrar -DWITH_HWMON src/modules/module_21300.c obj/combined.NATIVE.a -o modules/module_21300.so  -s -lstdc++ -lpthread -ldl -lrt -lm -shared -fPIC -D MODULE_INTERFACE_VERSION_CURRENT=630\n",
            "gcc    -std=gnu99 -W -Wall -Wextra -O2 -pipe -Iinclude/ -IOpenCL/ -Ideps/LZMA-SDK/C -Ideps/zlib -Ideps/zlib/contrib -Ideps/OpenCL-Headers -DWITH_BRAIN -Ideps/xxHash -DWITH_CUBIN -Ideps/unrar -DWITH_HWMON src/modules/module_16300.c obj/combined.NATIVE.a -o modules/module_16300.so  -s -lstdc++ -lpthread -ldl -lrt -lm -shared -fPIC -D MODULE_INTERFACE_VERSION_CURRENT=630\n",
            "gcc    -std=gnu99 -W -Wall -Wextra -O2 -pipe -Iinclude/ -IOpenCL/ -Ideps/LZMA-SDK/C -Ideps/zlib -Ideps/zlib/contrib -Ideps/OpenCL-Headers -DWITH_BRAIN -Ideps/xxHash -DWITH_CUBIN -Ideps/unrar -DWITH_HWMON src/modules/module_02501.c obj/combined.NATIVE.a -o modules/module_02501.so  -s -lstdc++ -lpthread -ldl -lrt -lm -shared -fPIC -D MODULE_INTERFACE_VERSION_CURRENT=630\n",
            "gcc    -std=gnu99 -W -Wall -Wextra -O2 -pipe -Iinclude/ -IOpenCL/ -Ideps/LZMA-SDK/C -Ideps/zlib -Ideps/zlib/contrib -Ideps/OpenCL-Headers -DWITH_BRAIN -Ideps/xxHash -DWITH_CUBIN -Ideps/unrar -DWITH_HWMON src/modules/module_25900.c obj/combined.NATIVE.a -o modules/module_25900.so  -s -lstdc++ -lpthread -ldl -lrt -lm -shared -fPIC -D MODULE_INTERFACE_VERSION_CURRENT=630\n",
            "gcc    -std=gnu99 -W -Wall -Wextra -O2 -pipe -Iinclude/ -IOpenCL/ -Ideps/LZMA-SDK/C -Ideps/zlib -Ideps/zlib/contrib -Ideps/OpenCL-Headers -DWITH_BRAIN -Ideps/xxHash -DWITH_CUBIN -Ideps/unrar -DWITH_HWMON src/modules/module_05800.c obj/combined.NATIVE.a -o modules/module_05800.so  -s -lstdc++ -lpthread -ldl -lrt -lm -shared -fPIC -D MODULE_INTERFACE_VERSION_CURRENT=630\n",
            "gcc    -std=gnu99 -W -Wall -Wextra -O2 -pipe -Iinclude/ -IOpenCL/ -Ideps/LZMA-SDK/C -Ideps/zlib -Ideps/zlib/contrib -Ideps/OpenCL-Headers -DWITH_BRAIN -Ideps/xxHash -DWITH_CUBIN -Ideps/unrar -DWITH_HWMON src/modules/module_06700.c obj/combined.NATIVE.a -o modules/module_06700.so  -s -lstdc++ -lpthread -ldl -lrt -lm -shared -fPIC -D MODULE_INTERFACE_VERSION_CURRENT=630\n",
            "gcc    -std=gnu99 -W -Wall -Wextra -O2 -pipe -Iinclude/ -IOpenCL/ -Ideps/LZMA-SDK/C -Ideps/zlib -Ideps/zlib/contrib -Ideps/OpenCL-Headers -DWITH_BRAIN -Ideps/xxHash -DWITH_CUBIN -Ideps/unrar -DWITH_HWMON src/modules/module_15700.c obj/combined.NATIVE.a -o modules/module_15700.so  -s -lstdc++ -lpthread -ldl -lrt -lm -shared -fPIC -D MODULE_INTERFACE_VERSION_CURRENT=630\n",
            "gcc    -std=gnu99 -W -Wall -Wextra -O2 -pipe -Iinclude/ -IOpenCL/ -Ideps/LZMA-SDK/C -Ideps/zlib -Ideps/zlib/contrib -Ideps/OpenCL-Headers -DWITH_BRAIN -Ideps/xxHash -DWITH_CUBIN -Ideps/unrar -DWITH_HWMON src/modules/module_02500.c obj/combined.NATIVE.a -o modules/module_02500.so  -s -lstdc++ -lpthread -ldl -lrt -lm -shared -fPIC -D MODULE_INTERFACE_VERSION_CURRENT=630\n",
            "gcc    -std=gnu99 -W -Wall -Wextra -O2 -pipe -Iinclude/ -IOpenCL/ -Ideps/LZMA-SDK/C -Ideps/zlib -Ideps/zlib/contrib -Ideps/OpenCL-Headers -DWITH_BRAIN -Ideps/xxHash -DWITH_CUBIN -Ideps/unrar -DWITH_HWMON src/modules/module_16700.c obj/combined.NATIVE.a -o modules/module_16700.so  -s -lstdc++ -lpthread -ldl -lrt -lm -shared -fPIC -D MODULE_INTERFACE_VERSION_CURRENT=630\n",
            "gcc    -std=gnu99 -W -Wall -Wextra -O2 -pipe -Iinclude/ -IOpenCL/ -Ideps/LZMA-SDK/C -Ideps/zlib -Ideps/zlib/contrib -Ideps/OpenCL-Headers -DWITH_BRAIN -Ideps/xxHash -DWITH_CUBIN -Ideps/unrar -DWITH_HWMON src/modules/module_27500.c obj/combined.NATIVE.a -o modules/module_27500.so  -s -lstdc++ -lpthread -ldl -lrt -lm -shared -fPIC -D MODULE_INTERFACE_VERSION_CURRENT=630\n",
            "gcc    -std=gnu99 -W -Wall -Wextra -O2 -pipe -Iinclude/ -IOpenCL/ -Ideps/LZMA-SDK/C -Ideps/zlib -Ideps/zlib/contrib -Ideps/OpenCL-Headers -DWITH_BRAIN -Ideps/xxHash -DWITH_CUBIN -Ideps/unrar -DWITH_HWMON src/modules/module_01710.c obj/combined.NATIVE.a -o modules/module_01710.so  -s -lstdc++ -lpthread -ldl -lrt -lm -shared -fPIC -D MODULE_INTERFACE_VERSION_CURRENT=630\n",
            "gcc    -std=gnu99 -W -Wall -Wextra -O2 -pipe -Iinclude/ -IOpenCL/ -Ideps/LZMA-SDK/C -Ideps/zlib -Ideps/zlib/contrib -Ideps/OpenCL-Headers -DWITH_BRAIN -Ideps/xxHash -DWITH_CUBIN -Ideps/unrar -DWITH_HWMON src/modules/module_11100.c obj/combined.NATIVE.a -o modules/module_11100.so  -s -lstdc++ -lpthread -ldl -lrt -lm -shared -fPIC -D MODULE_INTERFACE_VERSION_CURRENT=630\n",
            "gcc    -std=gnu99 -W -Wall -Wextra -O2 -pipe -Iinclude/ -IOpenCL/ -Ideps/LZMA-SDK/C -Ideps/zlib -Ideps/zlib/contrib -Ideps/OpenCL-Headers -DWITH_BRAIN -Ideps/xxHash -DWITH_CUBIN -Ideps/unrar -DWITH_HWMON src/modules/module_10410.c obj/combined.NATIVE.a -o modules/module_10410.so  -s -lstdc++ -lpthread -ldl -lrt -lm -shared -fPIC -D MODULE_INTERFACE_VERSION_CURRENT=630\n",
            "gcc    -std=gnu99 -W -Wall -Wextra -O2 -pipe -Iinclude/ -IOpenCL/ -Ideps/LZMA-SDK/C -Ideps/zlib -Ideps/zlib/contrib -Ideps/OpenCL-Headers -DWITH_BRAIN -Ideps/xxHash -DWITH_CUBIN -Ideps/unrar -DWITH_HWMON src/modules/module_13713.c obj/combined.NATIVE.a -o modules/module_13713.so  -s -lstdc++ -lpthread -ldl -lrt -lm -shared -fPIC -D MODULE_INTERFACE_VERSION_CURRENT=630\n",
            "gcc    -std=gnu99 -W -Wall -Wextra -O2 -pipe -Iinclude/ -IOpenCL/ -Ideps/LZMA-SDK/C -Ideps/zlib -Ideps/zlib/contrib -Ideps/OpenCL-Headers -DWITH_BRAIN -Ideps/xxHash -DWITH_CUBIN -Ideps/unrar -DWITH_HWMON src/modules/module_21400.c obj/combined.NATIVE.a -o modules/module_21400.so  -s -lstdc++ -lpthread -ldl -lrt -lm -shared -fPIC -D MODULE_INTERFACE_VERSION_CURRENT=630\n",
            "gcc    -std=gnu99 -W -Wall -Wextra -O2 -pipe -Iinclude/ -IOpenCL/ -Ideps/LZMA-SDK/C -Ideps/zlib -Ideps/zlib/contrib -Ideps/OpenCL-Headers -DWITH_BRAIN -Ideps/xxHash -DWITH_CUBIN -Ideps/unrar -DWITH_HWMON src/modules/module_10400.c obj/combined.NATIVE.a -o modules/module_10400.so  -s -lstdc++ -lpthread -ldl -lrt -lm -shared -fPIC -D MODULE_INTERFACE_VERSION_CURRENT=630\n",
            "gcc    -std=gnu99 -W -Wall -Wextra -O2 -pipe -Iinclude/ -IOpenCL/ -Ideps/LZMA-SDK/C -Ideps/zlib -Ideps/zlib/contrib -Ideps/OpenCL-Headers -DWITH_BRAIN -Ideps/xxHash -DWITH_CUBIN -Ideps/unrar -DWITH_HWMON src/modules/module_13721.c obj/combined.NATIVE.a -o modules/module_13721.so  -s -lstdc++ -lpthread -ldl -lrt -lm -shared -fPIC -D MODULE_INTERFACE_VERSION_CURRENT=630\n",
            "gcc    -std=gnu99 -W -Wall -Wextra -O2 -pipe -Iinclude/ -IOpenCL/ -Ideps/LZMA-SDK/C -Ideps/zlib -Ideps/zlib/contrib -Ideps/OpenCL-Headers -DWITH_BRAIN -Ideps/xxHash -DWITH_CUBIN -Ideps/unrar -DWITH_HWMON src/modules/module_13771.c obj/combined.NATIVE.a -o modules/module_13771.so  -s -lstdc++ -lpthread -ldl -lrt -lm -shared -fPIC -D MODULE_INTERFACE_VERSION_CURRENT=630\n",
            "gcc    -std=gnu99 -W -Wall -Wextra -O2 -pipe -Iinclude/ -IOpenCL/ -Ideps/LZMA-SDK/C -Ideps/zlib -Ideps/zlib/contrib -Ideps/OpenCL-Headers -DWITH_BRAIN -Ideps/xxHash -DWITH_CUBIN -Ideps/unrar -DWITH_HWMON src/modules/module_00100.c obj/combined.NATIVE.a -o modules/module_00100.so  -s -lstdc++ -lpthread -ldl -lrt -lm -shared -fPIC -D MODULE_INTERFACE_VERSION_CURRENT=630\n",
            "gcc    -std=gnu99 -W -Wall -Wextra -O2 -pipe -Iinclude/ -IOpenCL/ -Ideps/LZMA-SDK/C -Ideps/zlib -Ideps/zlib/contrib -Ideps/OpenCL-Headers -DWITH_BRAIN -Ideps/xxHash -DWITH_CUBIN -Ideps/unrar -DWITH_HWMON src/modules/module_04711.c obj/combined.NATIVE.a -o modules/module_04711.so  -s -lstdc++ -lpthread -ldl -lrt -lm -shared -fPIC -D MODULE_INTERFACE_VERSION_CURRENT=630\n",
            "gcc    -std=gnu99 -W -Wall -Wextra -O2 -pipe -Iinclude/ -IOpenCL/ -Ideps/LZMA-SDK/C -Ideps/zlib -Ideps/zlib/contrib -Ideps/OpenCL-Headers -DWITH_BRAIN -Ideps/xxHash -DWITH_CUBIN -Ideps/unrar -DWITH_HWMON src/modules/module_00200.c obj/combined.NATIVE.a -o modules/module_00200.so  -s -lstdc++ -lpthread -ldl -lrt -lm -shared -fPIC -D MODULE_INTERFACE_VERSION_CURRENT=630\n",
            "gcc    -std=gnu99 -W -Wall -Wextra -O2 -pipe -Iinclude/ -IOpenCL/ -Ideps/LZMA-SDK/C -Ideps/zlib -Ideps/zlib/contrib -Ideps/OpenCL-Headers -DWITH_BRAIN -Ideps/xxHash -DWITH_CUBIN -Ideps/unrar -DWITH_HWMON src/modules/module_10100.c obj/combined.NATIVE.a -o modules/module_10100.so  -s -lstdc++ -lpthread -ldl -lrt -lm -shared -fPIC -D MODULE_INTERFACE_VERSION_CURRENT=630\n",
            "gcc    -std=gnu99 -W -Wall -Wextra -O2 -pipe -Iinclude/ -IOpenCL/ -Ideps/LZMA-SDK/C -Ideps/zlib -Ideps/zlib/contrib -Ideps/OpenCL-Headers -DWITH_BRAIN -Ideps/xxHash -DWITH_CUBIN -Ideps/unrar -DWITH_HWMON src/modules/module_13800.c obj/combined.NATIVE.a -o modules/module_13800.so  -s -lstdc++ -lpthread -ldl -lrt -lm -shared -fPIC -D MODULE_INTERFACE_VERSION_CURRENT=630\n",
            "gcc    -std=gnu99 -W -Wall -Wextra -O2 -pipe -Iinclude/ -IOpenCL/ -Ideps/LZMA-SDK/C -Ideps/zlib -Ideps/zlib/contrib -Ideps/OpenCL-Headers -DWITH_BRAIN -Ideps/xxHash -DWITH_CUBIN -Ideps/unrar -DWITH_HWMON src/modules/module_22700.c obj/combined.NATIVE.a -o modules/module_22700.so  -s -lstdc++ -lpthread -ldl -lrt -lm -shared -fPIC -D MODULE_INTERFACE_VERSION_CURRENT=630\n",
            "gcc    -std=gnu99 -W -Wall -Wextra -O2 -pipe -Iinclude/ -IOpenCL/ -Ideps/LZMA-SDK/C -Ideps/zlib -Ideps/zlib/contrib -Ideps/OpenCL-Headers -DWITH_BRAIN -Ideps/xxHash -DWITH_CUBIN -Ideps/unrar -DWITH_HWMON src/modules/module_06100.c obj/combined.NATIVE.a -o modules/module_06100.so  -s -lstdc++ -lpthread -ldl -lrt -lm -shared -fPIC -D MODULE_INTERFACE_VERSION_CURRENT=630\n",
            "gcc    -std=gnu99 -W -Wall -Wextra -O2 -pipe -Iinclude/ -IOpenCL/ -Ideps/LZMA-SDK/C -Ideps/zlib -Ideps/zlib/contrib -Ideps/OpenCL-Headers -DWITH_BRAIN -Ideps/xxHash -DWITH_CUBIN -Ideps/unrar -DWITH_HWMON src/modules/module_15100.c obj/combined.NATIVE.a -o modules/module_15100.so  -s -lstdc++ -lpthread -ldl -lrt -lm -shared -fPIC -D MODULE_INTERFACE_VERSION_CURRENT=630\n",
            "gcc    -std=gnu99 -W -Wall -Wextra -O2 -pipe -Iinclude/ -IOpenCL/ -Ideps/LZMA-SDK/C -Ideps/zlib -Ideps/zlib/contrib -Ideps/OpenCL-Headers -DWITH_BRAIN -Ideps/xxHash -DWITH_CUBIN -Ideps/unrar -DWITH_HWMON src/modules/module_19300.c obj/combined.NATIVE.a -o modules/module_19300.so  -s -lstdc++ -lpthread -ldl -lrt -lm -shared -fPIC -D MODULE_INTERFACE_VERSION_CURRENT=630\n",
            "gcc    -std=gnu99 -W -Wall -Wextra -O2 -pipe -Iinclude/ -IOpenCL/ -Ideps/LZMA-SDK/C -Ideps/zlib -Ideps/zlib/contrib -Ideps/OpenCL-Headers -DWITH_BRAIN -Ideps/xxHash -DWITH_CUBIN -Ideps/unrar -DWITH_HWMON src/modules/module_00170.c obj/combined.NATIVE.a -o modules/module_00170.so  -s -lstdc++ -lpthread -ldl -lrt -lm -shared -fPIC -D MODULE_INTERFACE_VERSION_CURRENT=630\n",
            "gcc    -std=gnu99 -W -Wall -Wextra -O2 -pipe -Iinclude/ -IOpenCL/ -Ideps/LZMA-SDK/C -Ideps/zlib -Ideps/zlib/contrib -Ideps/OpenCL-Headers -DWITH_BRAIN -Ideps/xxHash -DWITH_CUBIN -Ideps/unrar -DWITH_HWMON src/modules/module_11500.c obj/combined.NATIVE.a -o modules/module_11500.so  -s -lstdc++ -lpthread -ldl -lrt -lm -shared -fPIC -D MODULE_INTERFACE_VERSION_CURRENT=630\n",
            "gcc    -std=gnu99 -W -Wall -Wextra -O2 -pipe -Iinclude/ -IOpenCL/ -Ideps/LZMA-SDK/C -Ideps/zlib -Ideps/zlib/contrib -Ideps/OpenCL-Headers -DWITH_BRAIN -Ideps/xxHash -DWITH_CUBIN -Ideps/unrar -DWITH_HWMON src/modules/module_07500.c obj/combined.NATIVE.a -o modules/module_07500.so  -s -lstdc++ -lpthread -ldl -lrt -lm -shared -fPIC -D MODULE_INTERFACE_VERSION_CURRENT=630\n",
            "gcc    -std=gnu99 -W -Wall -Wextra -O2 -pipe -Iinclude/ -IOpenCL/ -Ideps/LZMA-SDK/C -Ideps/zlib -Ideps/zlib/contrib -Ideps/OpenCL-Headers -DWITH_BRAIN -Ideps/xxHash -DWITH_CUBIN -Ideps/unrar -DWITH_HWMON src/modules/module_01430.c obj/combined.NATIVE.a -o modules/module_01430.so  -s -lstdc++ -lpthread -ldl -lrt -lm -shared -fPIC -D MODULE_INTERFACE_VERSION_CURRENT=630\n",
            "gcc    -std=gnu99 -W -Wall -Wextra -O2 -pipe -Iinclude/ -IOpenCL/ -Ideps/LZMA-SDK/C -Ideps/zlib -Ideps/zlib/contrib -Ideps/OpenCL-Headers -DWITH_BRAIN -Ideps/xxHash -DWITH_CUBIN -Ideps/unrar -DWITH_HWMON src/modules/module_08200.c obj/combined.NATIVE.a -o modules/module_08200.so  -s -lstdc++ -lpthread -ldl -lrt -lm -shared -fPIC -D MODULE_INTERFACE_VERSION_CURRENT=630\n",
            "gcc    -std=gnu99 -W -Wall -Wextra -O2 -pipe -Iinclude/ -IOpenCL/ -Ideps/LZMA-SDK/C -Ideps/zlib -Ideps/zlib/contrib -Ideps/OpenCL-Headers -DWITH_BRAIN -Ideps/xxHash -DWITH_CUBIN -Ideps/unrar -DWITH_HWMON src/modules/module_11200.c obj/combined.NATIVE.a -o modules/module_11200.so  -s -lstdc++ -lpthread -ldl -lrt -lm -shared -fPIC -D MODULE_INTERFACE_VERSION_CURRENT=630\n",
            "gcc    -std=gnu99 -W -Wall -Wextra -O2 -pipe -Iinclude/ -IOpenCL/ -Ideps/LZMA-SDK/C -Ideps/zlib -Ideps/zlib/contrib -Ideps/OpenCL-Headers -DWITH_BRAIN -Ideps/xxHash -DWITH_CUBIN -Ideps/unrar -DWITH_HWMON src/modules/module_13741.c obj/combined.NATIVE.a -o modules/module_13741.so  -s -lstdc++ -lpthread -ldl -lrt -lm -shared -fPIC -D MODULE_INTERFACE_VERSION_CURRENT=630\n",
            "gcc    -std=gnu99 -W -Wall -Wextra -O2 -pipe -Iinclude/ -IOpenCL/ -Ideps/LZMA-SDK/C -Ideps/zlib -Ideps/zlib/contrib -Ideps/OpenCL-Headers -DWITH_BRAIN -Ideps/xxHash -DWITH_CUBIN -Ideps/unrar -DWITH_HWMON src/modules/module_06900.c obj/combined.NATIVE.a -o modules/module_06900.so  -s -lstdc++ -lpthread -ldl -lrt -lm -shared -fPIC -D MODULE_INTERFACE_VERSION_CURRENT=630\n",
            "gcc    -std=gnu99 -W -Wall -Wextra -O2 -pipe -Iinclude/ -IOpenCL/ -Ideps/LZMA-SDK/C -Ideps/zlib -Ideps/zlib/contrib -Ideps/OpenCL-Headers -DWITH_BRAIN -Ideps/xxHash -DWITH_CUBIN -Ideps/unrar -DWITH_HWMON src/modules/module_04500.c obj/combined.NATIVE.a -o modules/module_04500.so  -s -lstdc++ -lpthread -ldl -lrt -lm -shared -fPIC -D MODULE_INTERFACE_VERSION_CURRENT=630\n",
            "gcc    -std=gnu99 -W -Wall -Wextra -O2 -pipe -Iinclude/ -IOpenCL/ -Ideps/LZMA-SDK/C -Ideps/zlib -Ideps/zlib/contrib -Ideps/OpenCL-Headers -DWITH_BRAIN -Ideps/xxHash -DWITH_CUBIN -Ideps/unrar -DWITH_HWMON src/modules/module_20600.c obj/combined.NATIVE.a -o modules/module_20600.so  -s -lstdc++ -lpthread -ldl -lrt -lm -shared -fPIC -D MODULE_INTERFACE_VERSION_CURRENT=630\n",
            "gcc    -std=gnu99 -W -Wall -Wextra -O2 -pipe -Iinclude/ -IOpenCL/ -Ideps/LZMA-SDK/C -Ideps/zlib -Ideps/zlib/contrib -Ideps/OpenCL-Headers -DWITH_BRAIN -Ideps/xxHash -DWITH_CUBIN -Ideps/unrar -DWITH_HWMON src/modules/module_17800.c obj/combined.NATIVE.a -o modules/module_17800.so  -s -lstdc++ -lpthread -ldl -lrt -lm -shared -fPIC -D MODULE_INTERFACE_VERSION_CURRENT=630\n",
            "gcc    -std=gnu99 -W -Wall -Wextra -O2 -pipe -Iinclude/ -IOpenCL/ -Ideps/LZMA-SDK/C -Ideps/zlib -Ideps/zlib/contrib -Ideps/OpenCL-Headers -DWITH_BRAIN -Ideps/xxHash -DWITH_CUBIN -Ideps/unrar -DWITH_HWMON src/modules/module_11760.c obj/combined.NATIVE.a -o modules/module_11760.so  -s -lstdc++ -lpthread -ldl -lrt -lm -shared -fPIC -D MODULE_INTERFACE_VERSION_CURRENT=630\n",
            "gcc    -std=gnu99 -W -Wall -Wextra -O2 -pipe -Iinclude/ -IOpenCL/ -Ideps/LZMA-SDK/C -Ideps/zlib -Ideps/zlib/contrib -Ideps/OpenCL-Headers -DWITH_BRAIN -Ideps/xxHash -DWITH_CUBIN -Ideps/unrar -DWITH_HWMON src/modules/module_05200.c obj/combined.NATIVE.a -o modules/module_05200.so  -s -lstdc++ -lpthread -ldl -lrt -lm -shared -fPIC -D MODULE_INTERFACE_VERSION_CURRENT=630\n",
            "gcc    -std=gnu99 -W -Wall -Wextra -O2 -pipe -Iinclude/ -IOpenCL/ -Ideps/LZMA-SDK/C -Ideps/zlib -Ideps/zlib/contrib -Ideps/OpenCL-Headers -DWITH_BRAIN -Ideps/xxHash -DWITH_CUBIN -Ideps/unrar -DWITH_HWMON src/modules/module_16000.c obj/combined.NATIVE.a -o modules/module_16000.so  -s -lstdc++ -lpthread -ldl -lrt -lm -shared -fPIC -D MODULE_INTERFACE_VERSION_CURRENT=630\n",
            "gcc    -std=gnu99 -W -Wall -Wextra -O2 -pipe -Iinclude/ -IOpenCL/ -Ideps/LZMA-SDK/C -Ideps/zlib -Ideps/zlib/contrib -Ideps/OpenCL-Headers -DWITH_BRAIN -Ideps/xxHash -DWITH_CUBIN -Ideps/unrar -DWITH_HWMON src/modules/module_06232.c obj/combined.NATIVE.a -o modules/module_06232.so  -s -lstdc++ -lpthread -ldl -lrt -lm -shared -fPIC -D MODULE_INTERFACE_VERSION_CURRENT=630\n",
            "gcc    -std=gnu99 -W -Wall -Wextra -O2 -pipe -Iinclude/ -IOpenCL/ -Ideps/LZMA-SDK/C -Ideps/zlib -Ideps/zlib/contrib -Ideps/OpenCL-Headers -DWITH_BRAIN -Ideps/xxHash -DWITH_CUBIN -Ideps/unrar -DWITH_HWMON src/modules/module_20300.c obj/combined.NATIVE.a -o modules/module_20300.so  -s -lstdc++ -lpthread -ldl -lrt -lm -shared -fPIC -D MODULE_INTERFACE_VERSION_CURRENT=630\n",
            "gcc    -std=gnu99 -W -Wall -Wextra -O2 -pipe -Iinclude/ -IOpenCL/ -Ideps/LZMA-SDK/C -Ideps/zlib -Ideps/zlib/contrib -Ideps/OpenCL-Headers -DWITH_BRAIN -Ideps/xxHash -DWITH_CUBIN -Ideps/unrar -DWITH_HWMON src/modules/module_10810.c obj/combined.NATIVE.a -o modules/module_10810.so  -s -lstdc++ -lpthread -ldl -lrt -lm -shared -fPIC -D MODULE_INTERFACE_VERSION_CURRENT=630\n",
            "gcc    -std=gnu99 -W -Wall -Wextra -O2 -pipe -Iinclude/ -IOpenCL/ -Ideps/LZMA-SDK/C -Ideps/zlib -Ideps/zlib/contrib -Ideps/OpenCL-Headers -DWITH_BRAIN -Ideps/xxHash -DWITH_CUBIN -Ideps/unrar -DWITH_HWMON src/modules/module_06223.c obj/combined.NATIVE.a -o modules/module_06223.so  -s -lstdc++ -lpthread -ldl -lrt -lm -shared -fPIC -D MODULE_INTERFACE_VERSION_CURRENT=630\n",
            "gcc    -std=gnu99 -W -Wall -Wextra -O2 -pipe -Iinclude/ -IOpenCL/ -Ideps/LZMA-SDK/C -Ideps/zlib -Ideps/zlib/contrib -Ideps/OpenCL-Headers -DWITH_BRAIN -Ideps/xxHash -DWITH_CUBIN -Ideps/unrar -DWITH_HWMON src/modules/module_09820.c obj/combined.NATIVE.a -o modules/module_09820.so  -s -lstdc++ -lpthread -ldl -lrt -lm -shared -fPIC -D MODULE_INTERFACE_VERSION_CURRENT=630\n",
            "gcc    -std=gnu99 -W -Wall -Wextra -O2 -pipe -Iinclude/ -IOpenCL/ -Ideps/LZMA-SDK/C -Ideps/zlib -Ideps/zlib/contrib -Ideps/OpenCL-Headers -DWITH_BRAIN -Ideps/xxHash -DWITH_CUBIN -Ideps/unrar -DWITH_HWMON src/modules/module_22921.c obj/combined.NATIVE.a -o modules/module_22921.so  -s -lstdc++ -lpthread -ldl -lrt -lm -shared -fPIC -D MODULE_INTERFACE_VERSION_CURRENT=630\n",
            "gcc    -std=gnu99 -W -Wall -Wextra -O2 -pipe -Iinclude/ -IOpenCL/ -Ideps/LZMA-SDK/C -Ideps/zlib -Ideps/zlib/contrib -Ideps/OpenCL-Headers -DWITH_BRAIN -Ideps/xxHash -DWITH_CUBIN -Ideps/unrar -DWITH_HWMON src/modules/module_26500.c obj/combined.NATIVE.a -o modules/module_26500.so  -s -lstdc++ -lpthread -ldl -lrt -lm -shared -fPIC -D MODULE_INTERFACE_VERSION_CURRENT=630\n",
            "gcc    -std=gnu99 -W -Wall -Wextra -O2 -pipe -Iinclude/ -IOpenCL/ -Ideps/LZMA-SDK/C -Ideps/zlib -Ideps/zlib/contrib -Ideps/OpenCL-Headers -DWITH_BRAIN -Ideps/xxHash -DWITH_CUBIN -Ideps/unrar -DWITH_HWMON src/modules/module_02000.c obj/combined.NATIVE.a -o modules/module_02000.so  -s -lstdc++ -lpthread -ldl -lrt -lm -shared -fPIC -D MODULE_INTERFACE_VERSION_CURRENT=630\n",
            "gcc    -std=gnu99 -W -Wall -Wextra -O2 -pipe -Iinclude/ -IOpenCL/ -Ideps/LZMA-SDK/C -Ideps/zlib -Ideps/zlib/contrib -Ideps/OpenCL-Headers -DWITH_BRAIN -Ideps/xxHash -DWITH_CUBIN -Ideps/unrar -DWITH_HWMON src/modules/module_05400.c obj/combined.NATIVE.a -o modules/module_05400.so  -s -lstdc++ -lpthread -ldl -lrt -lm -shared -fPIC -D MODULE_INTERFACE_VERSION_CURRENT=630\n",
            "gcc    -std=gnu99 -W -Wall -Wextra -O2 -pipe -Iinclude/ -IOpenCL/ -Ideps/LZMA-SDK/C -Ideps/zlib -Ideps/zlib/contrib -Ideps/OpenCL-Headers -DWITH_BRAIN -Ideps/xxHash -DWITH_CUBIN -Ideps/unrar -DWITH_HWMON src/modules/module_20400.c obj/combined.NATIVE.a -o modules/module_20400.so  -s -lstdc++ -lpthread -ldl -lrt -lm -shared -fPIC -D MODULE_INTERFACE_VERSION_CURRENT=630\n",
            "gcc    -std=gnu99 -W -Wall -Wextra -O2 -pipe -Iinclude/ -IOpenCL/ -Ideps/LZMA-SDK/C -Ideps/zlib -Ideps/zlib/contrib -Ideps/OpenCL-Headers -DWITH_BRAIN -Ideps/xxHash -DWITH_CUBIN -Ideps/unrar -DWITH_HWMON src/modules/module_13763.c obj/combined.NATIVE.a -o modules/module_13763.so  -s -lstdc++ -lpthread -ldl -lrt -lm -shared -fPIC -D MODULE_INTERFACE_VERSION_CURRENT=630\n",
            "gcc    -std=gnu99 -W -Wall -Wextra -O2 -pipe -Iinclude/ -IOpenCL/ -Ideps/LZMA-SDK/C -Ideps/zlib -Ideps/zlib/contrib -Ideps/OpenCL-Headers -DWITH_BRAIN -Ideps/xxHash -DWITH_CUBIN -Ideps/unrar -DWITH_HWMON src/modules/module_01760.c obj/combined.NATIVE.a -o modules/module_01760.so  -s -lstdc++ -lpthread -ldl -lrt -lm -shared -fPIC -D MODULE_INTERFACE_VERSION_CURRENT=630\n",
            "gcc    -std=gnu99 -W -Wall -Wextra -O2 -pipe -Iinclude/ -IOpenCL/ -Ideps/LZMA-SDK/C -Ideps/zlib -Ideps/zlib/contrib -Ideps/OpenCL-Headers -DWITH_BRAIN -Ideps/xxHash -DWITH_CUBIN -Ideps/unrar -DWITH_HWMON src/modules/module_14600.c obj/combined.NATIVE.a -o modules/module_14600.so  -s -lstdc++ -lpthread -ldl -lrt -lm -shared -fPIC -D MODULE_INTERFACE_VERSION_CURRENT=630\n",
            "gcc    -std=gnu99 -W -Wall -Wextra -O2 -pipe -Iinclude/ -IOpenCL/ -Ideps/LZMA-SDK/C -Ideps/zlib -Ideps/zlib/contrib -Ideps/OpenCL-Headers -DWITH_BRAIN -Ideps/xxHash -DWITH_CUBIN -Ideps/unrar -DWITH_HWMON src/modules/module_02711.c obj/combined.NATIVE.a -o modules/module_02711.so  -s -lstdc++ -lpthread -ldl -lrt -lm -shared -fPIC -D MODULE_INTERFACE_VERSION_CURRENT=630\n",
            "gcc    -std=gnu99 -W -Wall -Wextra -O2 -pipe -Iinclude/ -IOpenCL/ -Ideps/LZMA-SDK/C -Ideps/zlib -Ideps/zlib/contrib -Ideps/OpenCL-Headers -DWITH_BRAIN -Ideps/xxHash -DWITH_CUBIN -Ideps/unrar -DWITH_HWMON src/modules/module_24700.c obj/combined.NATIVE.a -o modules/module_24700.so  -s -lstdc++ -lpthread -ldl -lrt -lm -shared -fPIC -D MODULE_INTERFACE_VERSION_CURRENT=630\n",
            "gcc    -std=gnu99 -W -Wall -Wextra -O2 -pipe -Iinclude/ -IOpenCL/ -Ideps/LZMA-SDK/C -Ideps/zlib -Ideps/zlib/contrib -Ideps/OpenCL-Headers -DWITH_BRAIN -Ideps/xxHash -DWITH_CUBIN -Ideps/unrar -DWITH_HWMON src/modules/module_08100.c obj/combined.NATIVE.a -o modules/module_08100.so  -s -lstdc++ -lpthread -ldl -lrt -lm -shared -fPIC -D MODULE_INTERFACE_VERSION_CURRENT=630\n",
            "gcc    -std=gnu99 -W -Wall -Wextra -O2 -pipe -Iinclude/ -IOpenCL/ -Ideps/LZMA-SDK/C -Ideps/zlib -Ideps/zlib/contrib -Ideps/OpenCL-Headers -DWITH_BRAIN -Ideps/xxHash -DWITH_CUBIN -Ideps/unrar -DWITH_HWMON src/modules/module_07100.c obj/combined.NATIVE.a -o modules/module_07100.so  -s -lstdc++ -lpthread -ldl -lrt -lm -shared -fPIC -D MODULE_INTERFACE_VERSION_CURRENT=630\n",
            "gcc    -std=gnu99 -W -Wall -Wextra -O2 -pipe -Iinclude/ -IOpenCL/ -Ideps/LZMA-SDK/C -Ideps/zlib -Ideps/zlib/contrib -Ideps/OpenCL-Headers -DWITH_BRAIN -Ideps/xxHash -DWITH_CUBIN -Ideps/unrar -DWITH_HWMON src/modules/module_06231.c obj/combined.NATIVE.a -o modules/module_06231.so  -s -lstdc++ -lpthread -ldl -lrt -lm -shared -fPIC -D MODULE_INTERFACE_VERSION_CURRENT=630\n",
            "gcc    -std=gnu99 -W -Wall -Wextra -O2 -pipe -Iinclude/ -IOpenCL/ -Ideps/LZMA-SDK/C -Ideps/zlib -Ideps/zlib/contrib -Ideps/OpenCL-Headers -DWITH_BRAIN -Ideps/xxHash -DWITH_CUBIN -Ideps/unrar -DWITH_HWMON src/modules/module_00050.c obj/combined.NATIVE.a -o modules/module_00050.so  -s -lstdc++ -lpthread -ldl -lrt -lm -shared -fPIC -D MODULE_INTERFACE_VERSION_CURRENT=630\n",
            "gcc    -std=gnu99 -W -Wall -Wextra -O2 -pipe -Iinclude/ -IOpenCL/ -Ideps/LZMA-SDK/C -Ideps/zlib -Ideps/zlib/contrib -Ideps/OpenCL-Headers -DWITH_BRAIN -Ideps/xxHash -DWITH_CUBIN -Ideps/unrar -DWITH_HWMON src/modules/module_06233.c obj/combined.NATIVE.a -o modules/module_06233.so  -s -lstdc++ -lpthread -ldl -lrt -lm -shared -fPIC -D MODULE_INTERFACE_VERSION_CURRENT=630\n",
            "gcc    -std=gnu99 -W -Wall -Wextra -O2 -pipe -Iinclude/ -IOpenCL/ -Ideps/LZMA-SDK/C -Ideps/zlib -Ideps/zlib/contrib -Ideps/OpenCL-Headers -DWITH_BRAIN -Ideps/xxHash -DWITH_CUBIN -Ideps/unrar -DWITH_HWMON src/modules/module_13500.c obj/combined.NATIVE.a -o modules/module_13500.so  -s -lstdc++ -lpthread -ldl -lrt -lm -shared -fPIC -D MODULE_INTERFACE_VERSION_CURRENT=630\n",
            "gcc    -std=gnu99 -W -Wall -Wextra -O2 -pipe -Iinclude/ -IOpenCL/ -Ideps/LZMA-SDK/C -Ideps/zlib -Ideps/zlib/contrib -Ideps/OpenCL-Headers -DWITH_BRAIN -Ideps/xxHash -DWITH_CUBIN -Ideps/unrar -DWITH_HWMON src/modules/module_19900.c obj/combined.NATIVE.a -o modules/module_19900.so  -s -lstdc++ -lpthread -ldl -lrt -lm -shared -fPIC -D MODULE_INTERFACE_VERSION_CURRENT=630\n",
            "gcc    -std=gnu99 -W -Wall -Wextra -O2 -pipe -Iinclude/ -IOpenCL/ -Ideps/LZMA-SDK/C -Ideps/zlib -Ideps/zlib/contrib -Ideps/OpenCL-Headers -DWITH_BRAIN -Ideps/xxHash -DWITH_CUBIN -Ideps/unrar -DWITH_HWMON src/modules/module_10870.c obj/combined.NATIVE.a -o modules/module_10870.so  -s -lstdc++ -lpthread -ldl -lrt -lm -shared -fPIC -D MODULE_INTERFACE_VERSION_CURRENT=630\n",
            "gcc    -std=gnu99 -W -Wall -Wextra -O2 -pipe -Iinclude/ -IOpenCL/ -Ideps/LZMA-SDK/C -Ideps/zlib -Ideps/zlib/contrib -Ideps/OpenCL-Headers -DWITH_BRAIN -Ideps/xxHash -DWITH_CUBIN -Ideps/unrar -DWITH_HWMON src/modules/module_17700.c obj/combined.NATIVE.a -o modules/module_17700.so  -s -lstdc++ -lpthread -ldl -lrt -lm -shared -fPIC -D MODULE_INTERFACE_VERSION_CURRENT=630\n",
            "gcc    -std=gnu99 -W -Wall -Wextra -O2 -pipe -Iinclude/ -IOpenCL/ -Ideps/LZMA-SDK/C -Ideps/zlib -Ideps/zlib/contrib -Ideps/OpenCL-Headers -DWITH_BRAIN -Ideps/xxHash -DWITH_CUBIN -Ideps/unrar -DWITH_HWMON src/modules/module_00501.c obj/combined.NATIVE.a -o modules/module_00501.so  -s -lstdc++ -lpthread -ldl -lrt -lm -shared -fPIC -D MODULE_INTERFACE_VERSION_CURRENT=630\n",
            "gcc    -std=gnu99 -W -Wall -Wextra -O2 -pipe -Iinclude/ -IOpenCL/ -Ideps/LZMA-SDK/C -Ideps/zlib -Ideps/zlib/contrib -Ideps/OpenCL-Headers -DWITH_BRAIN -Ideps/xxHash -DWITH_CUBIN -Ideps/unrar -DWITH_HWMON src/modules/module_18500.c obj/combined.NATIVE.a -o modules/module_18500.so  -s -lstdc++ -lpthread -ldl -lrt -lm -shared -fPIC -D MODULE_INTERFACE_VERSION_CURRENT=630\n",
            "gcc    -std=gnu99 -W -Wall -Wextra -O2 -pipe -Iinclude/ -IOpenCL/ -Ideps/LZMA-SDK/C -Ideps/zlib -Ideps/zlib/contrib -Ideps/OpenCL-Headers -DWITH_BRAIN -Ideps/xxHash -DWITH_CUBIN -Ideps/unrar -DWITH_HWMON src/modules/module_06000.c obj/combined.NATIVE.a -o modules/module_06000.so  -s -lstdc++ -lpthread -ldl -lrt -lm -shared -fPIC -D MODULE_INTERFACE_VERSION_CURRENT=630\n",
            "gcc    -std=gnu99 -W -Wall -Wextra -O2 -pipe -Iinclude/ -IOpenCL/ -Ideps/LZMA-SDK/C -Ideps/zlib -Ideps/zlib/contrib -Ideps/OpenCL-Headers -DWITH_BRAIN -Ideps/xxHash -DWITH_CUBIN -Ideps/unrar -DWITH_HWMON src/modules/module_04510.c obj/combined.NATIVE.a -o modules/module_04510.so  -s -lstdc++ -lpthread -ldl -lrt -lm -shared -fPIC -D MODULE_INTERFACE_VERSION_CURRENT=630\n",
            "gcc    -std=gnu99 -W -Wall -Wextra -O2 -pipe -Iinclude/ -IOpenCL/ -Ideps/LZMA-SDK/C -Ideps/zlib -Ideps/zlib/contrib -Ideps/OpenCL-Headers -DWITH_BRAIN -Ideps/xxHash -DWITH_CUBIN -Ideps/unrar -DWITH_HWMON src/modules/module_09800.c obj/combined.NATIVE.a -o modules/module_09800.so  -s -lstdc++ -lpthread -ldl -lrt -lm -shared -fPIC -D MODULE_INTERFACE_VERSION_CURRENT=630\n",
            "gcc    -std=gnu99 -W -Wall -Wextra -O2 -pipe -Iinclude/ -IOpenCL/ -Ideps/LZMA-SDK/C -Ideps/zlib -Ideps/zlib/contrib -Ideps/OpenCL-Headers -DWITH_BRAIN -Ideps/xxHash -DWITH_CUBIN -Ideps/unrar -DWITH_HWMON src/modules/module_12400.c obj/combined.NATIVE.a -o modules/module_12400.so  -s -lstdc++ -lpthread -ldl -lrt -lm -shared -fPIC -D MODULE_INTERFACE_VERSION_CURRENT=630\n",
            "gcc    -std=gnu99 -W -Wall -Wextra -O2 -pipe -Iinclude/ -IOpenCL/ -Ideps/LZMA-SDK/C -Ideps/zlib -Ideps/zlib/contrib -Ideps/OpenCL-Headers -DWITH_BRAIN -Ideps/xxHash -DWITH_CUBIN -Ideps/unrar -DWITH_HWMON src/modules/module_02600.c obj/combined.NATIVE.a -o modules/module_02600.so  -s -lstdc++ -lpthread -ldl -lrt -lm -shared -fPIC -D MODULE_INTERFACE_VERSION_CURRENT=630\n",
            "gcc    -std=gnu99 -W -Wall -Wextra -O2 -pipe -Iinclude/ -IOpenCL/ -Ideps/LZMA-SDK/C -Ideps/zlib -Ideps/zlib/contrib -Ideps/OpenCL-Headers -DWITH_BRAIN -Ideps/xxHash -DWITH_CUBIN -Ideps/unrar -DWITH_HWMON src/modules/module_06800.c obj/combined.NATIVE.a -o modules/module_06800.so  -s -lstdc++ -lpthread -ldl -lrt -lm -shared -fPIC -D MODULE_INTERFACE_VERSION_CURRENT=630\n",
            "gcc    -std=gnu99 -W -Wall -Wextra -O2 -pipe -Iinclude/ -IOpenCL/ -Ideps/LZMA-SDK/C -Ideps/zlib -Ideps/zlib/contrib -Ideps/OpenCL-Headers -DWITH_BRAIN -Ideps/xxHash -DWITH_CUBIN -Ideps/unrar -DWITH_HWMON src/modules/module_13731.c obj/combined.NATIVE.a -o modules/module_13731.so  -s -lstdc++ -lpthread -ldl -lrt -lm -shared -fPIC -D MODULE_INTERFACE_VERSION_CURRENT=630\n",
            "gcc    -std=gnu99 -W -Wall -Wextra -O2 -pipe -Iinclude/ -IOpenCL/ -Ideps/LZMA-SDK/C -Ideps/zlib -Ideps/zlib/contrib -Ideps/OpenCL-Headers -DWITH_BRAIN -Ideps/xxHash -DWITH_CUBIN -Ideps/unrar -DWITH_HWMON src/modules/module_00060.c obj/combined.NATIVE.a -o modules/module_00060.so  -s -lstdc++ -lpthread -ldl -lrt -lm -shared -fPIC -D MODULE_INTERFACE_VERSION_CURRENT=630\n",
            "gcc    -std=gnu99 -W -Wall -Wextra -O2 -pipe -Iinclude/ -IOpenCL/ -Ideps/LZMA-SDK/C -Ideps/zlib -Ideps/zlib/contrib -Ideps/OpenCL-Headers -DWITH_BRAIN -Ideps/xxHash -DWITH_CUBIN -Ideps/unrar -DWITH_HWMON src/modules/module_00130.c obj/combined.NATIVE.a -o modules/module_00130.so  -s -lstdc++ -lpthread -ldl -lrt -lm -shared -fPIC -D MODULE_INTERFACE_VERSION_CURRENT=630\n",
            "gcc    -std=gnu99 -W -Wall -Wextra -O2 -pipe -Iinclude/ -IOpenCL/ -Ideps/LZMA-SDK/C -Ideps/zlib -Ideps/zlib/contrib -Ideps/OpenCL-Headers -DWITH_BRAIN -Ideps/xxHash -DWITH_CUBIN -Ideps/unrar -DWITH_HWMON src/modules/module_04521.c obj/combined.NATIVE.a -o modules/module_04521.so  -s -lstdc++ -lpthread -ldl -lrt -lm -shared -fPIC -D MODULE_INTERFACE_VERSION_CURRENT=630\n",
            "gcc    -std=gnu99 -W -Wall -Wextra -O2 -pipe -Iinclude/ -IOpenCL/ -Ideps/LZMA-SDK/C -Ideps/zlib -Ideps/zlib/contrib -Ideps/OpenCL-Headers -DWITH_BRAIN -Ideps/xxHash -DWITH_CUBIN -Ideps/unrar -DWITH_HWMON src/modules/module_13733.c obj/combined.NATIVE.a -o modules/module_13733.so  -s -lstdc++ -lpthread -ldl -lrt -lm -shared -fPIC -D MODULE_INTERFACE_VERSION_CURRENT=630\n",
            "gcc    -std=gnu99 -W -Wall -Wextra -O2 -pipe -Iinclude/ -IOpenCL/ -Ideps/LZMA-SDK/C -Ideps/zlib -Ideps/zlib/contrib -Ideps/OpenCL-Headers -DWITH_BRAIN -Ideps/xxHash -DWITH_CUBIN -Ideps/unrar -DWITH_HWMON src/modules/module_03000.c obj/combined.NATIVE.a -o modules/module_03000.so  -s -lstdc++ -lpthread -ldl -lrt -lm -shared -fPIC -D MODULE_INTERFACE_VERSION_CURRENT=630\n",
            "gcc    -std=gnu99 -W -Wall -Wextra -O2 -pipe -Iinclude/ -IOpenCL/ -Ideps/LZMA-SDK/C -Ideps/zlib -Ideps/zlib/contrib -Ideps/OpenCL-Headers -DWITH_BRAIN -Ideps/xxHash -DWITH_CUBIN -Ideps/unrar -DWITH_HWMON src/modules/module_17220.c obj/combined.NATIVE.a -o modules/module_17220.so  -s -lstdc++ -lpthread -ldl -lrt -lm -shared -fPIC -D MODULE_INTERFACE_VERSION_CURRENT=630\n",
            "gcc    -std=gnu99 -W -Wall -Wextra -O2 -pipe -Iinclude/ -IOpenCL/ -Ideps/LZMA-SDK/C -Ideps/zlib -Ideps/zlib/contrib -Ideps/OpenCL-Headers -DWITH_BRAIN -Ideps/xxHash -DWITH_CUBIN -Ideps/unrar -DWITH_HWMON src/modules/module_27000.c obj/combined.NATIVE.a -o modules/module_27000.so  -s -lstdc++ -lpthread -ldl -lrt -lm -shared -fPIC -D MODULE_INTERFACE_VERSION_CURRENT=630\n",
            "gcc    -std=gnu99 -W -Wall -Wextra -O2 -pipe -Iinclude/ -IOpenCL/ -Ideps/LZMA-SDK/C -Ideps/zlib -Ideps/zlib/contrib -Ideps/OpenCL-Headers -DWITH_BRAIN -Ideps/xxHash -DWITH_CUBIN -Ideps/unrar -DWITH_HWMON src/modules/module_17400.c obj/combined.NATIVE.a -o modules/module_17400.so  -s -lstdc++ -lpthread -ldl -lrt -lm -shared -fPIC -D MODULE_INTERFACE_VERSION_CURRENT=630\n",
            "gcc    -std=gnu99 -W -Wall -Wextra -O2 -pipe -Iinclude/ -IOpenCL/ -Ideps/LZMA-SDK/C -Ideps/zlib -Ideps/zlib/contrib -Ideps/OpenCL-Headers -DWITH_BRAIN -Ideps/xxHash -DWITH_CUBIN -Ideps/unrar -DWITH_HWMON src/modules/module_07900.c obj/combined.NATIVE.a -o modules/module_07900.so  -s -lstdc++ -lpthread -ldl -lrt -lm -shared -fPIC -D MODULE_INTERFACE_VERSION_CURRENT=630\n",
            "gcc    -std=gnu99 -W -Wall -Wextra -O2 -pipe -Iinclude/ -IOpenCL/ -Ideps/LZMA-SDK/C -Ideps/zlib -Ideps/zlib/contrib -Ideps/OpenCL-Headers -DWITH_BRAIN -Ideps/xxHash -DWITH_CUBIN -Ideps/unrar -DWITH_HWMON src/modules/module_13751.c obj/combined.NATIVE.a -o modules/module_13751.so  -s -lstdc++ -lpthread -ldl -lrt -lm -shared -fPIC -D MODULE_INTERFACE_VERSION_CURRENT=630\n",
            "gcc    -std=gnu99 -W -Wall -Wextra -O2 -pipe -Iinclude/ -IOpenCL/ -Ideps/LZMA-SDK/C -Ideps/zlib -Ideps/zlib/contrib -Ideps/OpenCL-Headers -DWITH_BRAIN -Ideps/xxHash -DWITH_CUBIN -Ideps/unrar -DWITH_HWMON src/modules/module_00023.c obj/combined.NATIVE.a -o modules/module_00023.so  -s -lstdc++ -lpthread -ldl -lrt -lm -shared -fPIC -D MODULE_INTERFACE_VERSION_CURRENT=630\n",
            "gcc    -std=gnu99 -W -Wall -Wextra -O2 -pipe -Iinclude/ -IOpenCL/ -Ideps/LZMA-SDK/C -Ideps/zlib -Ideps/zlib/contrib -Ideps/OpenCL-Headers -DWITH_BRAIN -Ideps/xxHash -DWITH_CUBIN -Ideps/unrar -DWITH_HWMON src/modules/module_13100.c obj/combined.NATIVE.a -o modules/module_13100.so  -s -lstdc++ -lpthread -ldl -lrt -lm -shared -fPIC -D MODULE_INTERFACE_VERSION_CURRENT=630\n",
            "gcc    -std=gnu99 -W -Wall -Wextra -O2 -pipe -Iinclude/ -IOpenCL/ -Ideps/LZMA-SDK/C -Ideps/zlib -Ideps/zlib/contrib -Ideps/OpenCL-Headers -DWITH_BRAIN -Ideps/xxHash -DWITH_CUBIN -Ideps/unrar -DWITH_HWMON src/modules/module_11300.c obj/combined.NATIVE.a -o modules/module_11300.so  -s -lstdc++ -lpthread -ldl -lrt -lm -shared -fPIC -D MODULE_INTERFACE_VERSION_CURRENT=630\n",
            "gcc    -std=gnu99 -W -Wall -Wextra -O2 -pipe -Iinclude/ -IOpenCL/ -Ideps/LZMA-SDK/C -Ideps/zlib -Ideps/zlib/contrib -Ideps/OpenCL-Headers -DWITH_BRAIN -Ideps/xxHash -DWITH_CUBIN -Ideps/unrar -DWITH_HWMON src/modules/module_08800.c obj/combined.NATIVE.a -o modules/module_08800.so  -s -lstdc++ -lpthread -ldl -lrt -lm -shared -fPIC -D MODULE_INTERFACE_VERSION_CURRENT=630\n",
            "gcc    -std=gnu99 -W -Wall -Wextra -O2 -pipe -Iinclude/ -IOpenCL/ -Ideps/LZMA-SDK/C -Ideps/zlib -Ideps/zlib/contrib -Ideps/OpenCL-Headers -DWITH_BRAIN -Ideps/xxHash -DWITH_CUBIN -Ideps/unrar -DWITH_HWMON src/modules/module_22100.c obj/combined.NATIVE.a -o modules/module_22100.so  -s -lstdc++ -lpthread -ldl -lrt -lm -shared -fPIC -D MODULE_INTERFACE_VERSION_CURRENT=630\n",
            "gcc    -std=gnu99 -W -Wall -Wextra -O2 -pipe -Iinclude/ -IOpenCL/ -Ideps/LZMA-SDK/C -Ideps/zlib -Ideps/zlib/contrib -Ideps/OpenCL-Headers -DWITH_BRAIN -Ideps/xxHash -DWITH_CUBIN -Ideps/unrar -DWITH_HWMON src/modules/module_00400.c obj/combined.NATIVE.a -o modules/module_00400.so  -s -lstdc++ -lpthread -ldl -lrt -lm -shared -fPIC -D MODULE_INTERFACE_VERSION_CURRENT=630\n",
            "gcc    -std=gnu99 -W -Wall -Wextra -O2 -pipe -Iinclude/ -IOpenCL/ -Ideps/LZMA-SDK/C -Ideps/zlib -Ideps/zlib/contrib -Ideps/OpenCL-Headers -DWITH_BRAIN -Ideps/xxHash -DWITH_CUBIN -Ideps/unrar -DWITH_HWMON src/modules/module_23300.c obj/combined.NATIVE.a -o modules/module_23300.so  -s -lstdc++ -lpthread -ldl -lrt -lm -shared -fPIC -D MODULE_INTERFACE_VERSION_CURRENT=630\n",
            "gcc    -std=gnu99 -W -Wall -Wextra -O2 -pipe -Iinclude/ -IOpenCL/ -Ideps/LZMA-SDK/C -Ideps/zlib -Ideps/zlib/contrib -Ideps/OpenCL-Headers -DWITH_BRAIN -Ideps/xxHash -DWITH_CUBIN -Ideps/unrar -DWITH_HWMON src/modules/module_21200.c obj/combined.NATIVE.a -o modules/module_21200.so  -s -lstdc++ -lpthread -ldl -lrt -lm -shared -fPIC -D MODULE_INTERFACE_VERSION_CURRENT=630\n",
            "gcc    -std=gnu99 -W -Wall -Wextra -O2 -pipe -Iinclude/ -IOpenCL/ -Ideps/LZMA-SDK/C -Ideps/zlib -Ideps/zlib/contrib -Ideps/OpenCL-Headers -DWITH_BRAIN -Ideps/xxHash -DWITH_CUBIN -Ideps/unrar -DWITH_HWMON src/modules/module_01460.c obj/combined.NATIVE.a -o modules/module_01460.so  -s -lstdc++ -lpthread -ldl -lrt -lm -shared -fPIC -D MODULE_INTERFACE_VERSION_CURRENT=630\n",
            "gcc    -std=gnu99 -W -Wall -Wextra -O2 -pipe -Iinclude/ -IOpenCL/ -Ideps/LZMA-SDK/C -Ideps/zlib -Ideps/zlib/contrib -Ideps/OpenCL-Headers -DWITH_BRAIN -Ideps/xxHash -DWITH_CUBIN -Ideps/unrar -DWITH_HWMON src/modules/module_24800.c obj/combined.NATIVE.a -o modules/module_24800.so  -s -lstdc++ -lpthread -ldl -lrt -lm -shared -fPIC -D MODULE_INTERFACE_VERSION_CURRENT=630\n",
            "gcc    -std=gnu99 -W -Wall -Wextra -O2 -pipe -Iinclude/ -IOpenCL/ -Ideps/LZMA-SDK/C -Ideps/zlib -Ideps/zlib/contrib -Ideps/OpenCL-Headers -DWITH_BRAIN -Ideps/xxHash -DWITH_CUBIN -Ideps/unrar -DWITH_HWMON src/modules/module_01421.c obj/combined.NATIVE.a -o modules/module_01421.so  -s -lstdc++ -lpthread -ldl -lrt -lm -shared -fPIC -D MODULE_INTERFACE_VERSION_CURRENT=630\n",
            "gcc    -std=gnu99 -W -Wall -Wextra -O2 -pipe -Iinclude/ -IOpenCL/ -Ideps/LZMA-SDK/C -Ideps/zlib -Ideps/zlib/contrib -Ideps/OpenCL-Headers -DWITH_BRAIN -Ideps/xxHash -DWITH_CUBIN -Ideps/unrar -DWITH_HWMON src/modules/module_18900.c obj/combined.NATIVE.a -o modules/module_18900.so  -s -lstdc++ -lpthread -ldl -lrt -lm -shared -fPIC -D MODULE_INTERFACE_VERSION_CURRENT=630\n",
            "gcc    -std=gnu99 -W -Wall -Wextra -O2 -pipe -Iinclude/ -IOpenCL/ -Ideps/LZMA-SDK/C -Ideps/zlib -Ideps/zlib/contrib -Ideps/OpenCL-Headers -DWITH_BRAIN -Ideps/xxHash -DWITH_CUBIN -Ideps/unrar -DWITH_HWMON src/modules/module_13900.c obj/combined.NATIVE.a -o modules/module_13900.so  -s -lstdc++ -lpthread -ldl -lrt -lm -shared -fPIC -D MODULE_INTERFACE_VERSION_CURRENT=630\n",
            "gcc    -std=gnu99 -W -Wall -Wextra -O2 -pipe -Iinclude/ -IOpenCL/ -Ideps/LZMA-SDK/C -Ideps/zlib -Ideps/zlib/contrib -Ideps/OpenCL-Headers -DWITH_BRAIN -Ideps/xxHash -DWITH_CUBIN -Ideps/unrar -DWITH_HWMON src/modules/module_18200.c obj/combined.NATIVE.a -o modules/module_18200.so  -s -lstdc++ -lpthread -ldl -lrt -lm -shared -fPIC -D MODULE_INTERFACE_VERSION_CURRENT=630\n",
            "gcc    -std=gnu99 -W -Wall -Wextra -O2 -pipe -Iinclude/ -IOpenCL/ -Ideps/LZMA-SDK/C -Ideps/zlib -Ideps/zlib/contrib -Ideps/OpenCL-Headers -DWITH_BRAIN -Ideps/xxHash -DWITH_CUBIN -Ideps/unrar -DWITH_HWMON src/modules/module_00070.c obj/combined.NATIVE.a -o modules/module_00070.so  -s -lstdc++ -lpthread -ldl -lrt -lm -shared -fPIC -D MODULE_INTERFACE_VERSION_CURRENT=630\n",
            "gcc    -std=gnu99 -W -Wall -Wextra -O2 -pipe -Iinclude/ -IOpenCL/ -Ideps/LZMA-SDK/C -Ideps/zlib -Ideps/zlib/contrib -Ideps/OpenCL-Headers -DWITH_BRAIN -Ideps/xxHash -DWITH_CUBIN -Ideps/unrar -DWITH_HWMON src/modules/module_13773.c obj/combined.NATIVE.a -o modules/module_13773.so  -s -lstdc++ -lpthread -ldl -lrt -lm -shared -fPIC -D MODULE_INTERFACE_VERSION_CURRENT=630\n",
            "gcc    -std=gnu99 -W -Wall -Wextra -O2 -pipe -Iinclude/ -IOpenCL/ -Ideps/LZMA-SDK/C -Ideps/zlib -Ideps/zlib/contrib -Ideps/OpenCL-Headers -DWITH_BRAIN -Ideps/xxHash -DWITH_CUBIN -Ideps/unrar -DWITH_HWMON src/modules/module_12100.c obj/combined.NATIVE.a -o modules/module_12100.so  -s -lstdc++ -lpthread -ldl -lrt -lm -shared -fPIC -D MODULE_INTERFACE_VERSION_CURRENT=630\n",
            "gcc    -std=gnu99 -W -Wall -Wextra -O2 -pipe -Iinclude/ -IOpenCL/ -Ideps/LZMA-SDK/C -Ideps/zlib -Ideps/zlib/contrib -Ideps/OpenCL-Headers -DWITH_BRAIN -Ideps/xxHash -DWITH_CUBIN -Ideps/unrar -DWITH_HWMON src/modules/module_03200.c obj/combined.NATIVE.a -o modules/module_03200.so  -s -lstdc++ -lpthread -ldl -lrt -lm -shared -fPIC -D MODULE_INTERFACE_VERSION_CURRENT=630\n",
            "gcc    -std=gnu99 -W -Wall -Wextra -O2 -pipe -Iinclude/ -IOpenCL/ -Ideps/LZMA-SDK/C -Ideps/zlib -Ideps/zlib/contrib -Ideps/OpenCL-Headers -DWITH_BRAIN -Ideps/xxHash -DWITH_CUBIN -Ideps/unrar -DWITH_HWMON src/modules/module_05000.c obj/combined.NATIVE.a -o modules/module_05000.so  -s -lstdc++ -lpthread -ldl -lrt -lm -shared -fPIC -D MODULE_INTERFACE_VERSION_CURRENT=630\n",
            "gcc    -std=gnu99 -W -Wall -Wextra -O2 -pipe -Iinclude/ -IOpenCL/ -Ideps/LZMA-SDK/C -Ideps/zlib -Ideps/zlib/contrib -Ideps/OpenCL-Headers -DWITH_BRAIN -Ideps/xxHash -DWITH_CUBIN -Ideps/unrar -DWITH_HWMON src/modules/module_00040.c obj/combined.NATIVE.a -o modules/module_00040.so  -s -lstdc++ -lpthread -ldl -lrt -lm -shared -fPIC -D MODULE_INTERFACE_VERSION_CURRENT=630\n",
            "gcc    -std=gnu99 -W -Wall -Wextra -O2 -pipe -Iinclude/ -IOpenCL/ -Ideps/LZMA-SDK/C -Ideps/zlib -Ideps/zlib/contrib -Ideps/OpenCL-Headers -DWITH_BRAIN -Ideps/xxHash -DWITH_CUBIN -Ideps/unrar -DWITH_HWMON src/modules/module_13712.c obj/combined.NATIVE.a -o modules/module_13712.so  -s -lstdc++ -lpthread -ldl -lrt -lm -shared -fPIC -D MODULE_INTERFACE_VERSION_CURRENT=630\n",
            "gcc    -std=gnu99 -W -Wall -Wextra -O2 -pipe -Iinclude/ -IOpenCL/ -Ideps/LZMA-SDK/C -Ideps/zlib -Ideps/zlib/contrib -Ideps/OpenCL-Headers -DWITH_BRAIN -Ideps/xxHash -DWITH_CUBIN -Ideps/unrar -DWITH_HWMON src/modules/module_13781.c obj/combined.NATIVE.a -o modules/module_13781.so  -s -lstdc++ -lpthread -ldl -lrt -lm -shared -fPIC -D MODULE_INTERFACE_VERSION_CURRENT=630\n",
            "gcc    -std=gnu99 -W -Wall -Wextra -O2 -pipe -Iinclude/ -IOpenCL/ -Ideps/LZMA-SDK/C -Ideps/zlib -Ideps/zlib/contrib -Ideps/OpenCL-Headers -DWITH_BRAIN -Ideps/xxHash -DWITH_CUBIN -Ideps/unrar -DWITH_HWMON src/modules/module_01770.c obj/combined.NATIVE.a -o modules/module_01770.so  -s -lstdc++ -lpthread -ldl -lrt -lm -shared -fPIC -D MODULE_INTERFACE_VERSION_CURRENT=630\n",
            "gcc    -std=gnu99 -W -Wall -Wextra -O2 -pipe -Iinclude/ -IOpenCL/ -Ideps/LZMA-SDK/C -Ideps/zlib -Ideps/zlib/contrib -Ideps/OpenCL-Headers -DWITH_BRAIN -Ideps/xxHash -DWITH_CUBIN -Ideps/unrar -DWITH_HWMON src/modules/module_00600.c obj/combined.NATIVE.a -o modules/module_00600.so  -s -lstdc++ -lpthread -ldl -lrt -lm -shared -fPIC -D MODULE_INTERFACE_VERSION_CURRENT=630\n",
            "gcc    -std=gnu99 -W -Wall -Wextra -O2 -pipe -Iinclude/ -IOpenCL/ -Ideps/LZMA-SDK/C -Ideps/zlib -Ideps/zlib/contrib -Ideps/OpenCL-Headers -DWITH_BRAIN -Ideps/xxHash -DWITH_CUBIN -Ideps/unrar -DWITH_HWMON src/modules/module_00500.c obj/combined.NATIVE.a -o modules/module_00500.so  -s -lstdc++ -lpthread -ldl -lrt -lm -shared -fPIC -D MODULE_INTERFACE_VERSION_CURRENT=630\n",
            "gcc    -std=gnu99 -W -Wall -Wextra -O2 -pipe -Iinclude/ -IOpenCL/ -Ideps/LZMA-SDK/C -Ideps/zlib -Ideps/zlib/contrib -Ideps/OpenCL-Headers -DWITH_BRAIN -Ideps/xxHash -DWITH_CUBIN -Ideps/unrar -DWITH_HWMON src/modules/module_23700.c obj/combined.NATIVE.a -o modules/module_23700.so  -s -lstdc++ -lpthread -ldl -lrt -lm -shared -fPIC -D MODULE_INTERFACE_VERSION_CURRENT=630\n",
            "gcc    -std=gnu99 -W -Wall -Wextra -O2 -pipe -Iinclude/ -IOpenCL/ -Ideps/LZMA-SDK/C -Ideps/zlib -Ideps/zlib/contrib -Ideps/OpenCL-Headers -DWITH_BRAIN -Ideps/xxHash -DWITH_CUBIN -Ideps/unrar -DWITH_HWMON src/modules/module_25200.c obj/combined.NATIVE.a -o modules/module_25200.so  -s -lstdc++ -lpthread -ldl -lrt -lm -shared -fPIC -D MODULE_INTERFACE_VERSION_CURRENT=630\n",
            "gcc    -std=gnu99 -W -Wall -Wextra -O2 -pipe -Iinclude/ -IOpenCL/ -Ideps/LZMA-SDK/C -Ideps/zlib -Ideps/zlib/contrib -Ideps/OpenCL-Headers -DWITH_BRAIN -Ideps/xxHash -DWITH_CUBIN -Ideps/unrar -DWITH_HWMON src/modules/module_10420.c obj/combined.NATIVE.a -o modules/module_10420.so  -s -lstdc++ -lpthread -ldl -lrt -lm -shared -fPIC -D MODULE_INTERFACE_VERSION_CURRENT=630\n",
            "gcc    -std=gnu99 -W -Wall -Wextra -O2 -pipe -Iinclude/ -IOpenCL/ -Ideps/LZMA-SDK/C -Ideps/zlib -Ideps/zlib/contrib -Ideps/OpenCL-Headers -DWITH_BRAIN -Ideps/xxHash -DWITH_CUBIN -Ideps/unrar -DWITH_HWMON src/modules/module_23003.c obj/combined.NATIVE.a -o modules/module_23003.so  -s -lstdc++ -lpthread -ldl -lrt -lm -shared -fPIC -D MODULE_INTERFACE_VERSION_CURRENT=630\n",
            "gcc    -std=gnu99 -W -Wall -Wextra -O2 -pipe -Iinclude/ -IOpenCL/ -Ideps/LZMA-SDK/C -Ideps/zlib -Ideps/zlib/contrib -Ideps/OpenCL-Headers -DWITH_BRAIN -Ideps/xxHash -DWITH_CUBIN -Ideps/unrar -DWITH_HWMON src/modules/module_21100.c obj/combined.NATIVE.a -o modules/module_21100.so  -s -lstdc++ -lpthread -ldl -lrt -lm -shared -fPIC -D MODULE_INTERFACE_VERSION_CURRENT=630\n",
            "gcc    -std=gnu99 -W -Wall -Wextra -O2 -pipe -Iinclude/ -IOpenCL/ -Ideps/LZMA-SDK/C -Ideps/zlib -Ideps/zlib/contrib -Ideps/OpenCL-Headers -DWITH_BRAIN -Ideps/xxHash -DWITH_CUBIN -Ideps/unrar -DWITH_HWMON src/modules/module_26200.c obj/combined.NATIVE.a -o modules/module_26200.so  -s -lstdc++ -lpthread -ldl -lrt -lm -shared -fPIC -D MODULE_INTERFACE_VERSION_CURRENT=630\n",
            "gcc    -std=gnu99 -W -Wall -Wextra -O2 -pipe -Iinclude/ -IOpenCL/ -Ideps/LZMA-SDK/C -Ideps/zlib -Ideps/zlib/contrib -Ideps/OpenCL-Headers -DWITH_BRAIN -Ideps/xxHash -DWITH_CUBIN -Ideps/unrar -DWITH_HWMON src/modules/module_00024.c obj/combined.NATIVE.a -o modules/module_00024.so  -s -lstdc++ -lpthread -ldl -lrt -lm -shared -fPIC -D MODULE_INTERFACE_VERSION_CURRENT=630\n",
            "gcc    -std=gnu99 -W -Wall -Wextra -O2 -pipe -Iinclude/ -IOpenCL/ -Ideps/LZMA-SDK/C -Ideps/zlib -Ideps/zlib/contrib -Ideps/OpenCL-Headers -DWITH_BRAIN -Ideps/xxHash -DWITH_CUBIN -Ideps/unrar -DWITH_HWMON src/modules/module_12700.c obj/combined.NATIVE.a -o modules/module_12700.so  -s -lstdc++ -lpthread -ldl -lrt -lm -shared -fPIC -D MODULE_INTERFACE_VERSION_CURRENT=630\n",
            "gcc    -std=gnu99 -W -Wall -Wextra -O2 -pipe -Iinclude/ -IOpenCL/ -Ideps/LZMA-SDK/C -Ideps/zlib -Ideps/zlib/contrib -Ideps/OpenCL-Headers -DWITH_BRAIN -Ideps/xxHash -DWITH_CUBIN -Ideps/unrar -DWITH_HWMON src/modules/module_15300.c obj/combined.NATIVE.a -o modules/module_15300.so  -s -lstdc++ -lpthread -ldl -lrt -lm -shared -fPIC -D MODULE_INTERFACE_VERSION_CURRENT=630\n",
            "gcc    -std=gnu99 -W -Wall -Wextra -O2 -pipe -Iinclude/ -IOpenCL/ -Ideps/LZMA-SDK/C -Ideps/zlib -Ideps/zlib/contrib -Ideps/OpenCL-Headers -DWITH_BRAIN -Ideps/xxHash -DWITH_CUBIN -Ideps/unrar -DWITH_HWMON src/modules/module_27900.c obj/combined.NATIVE.a -o modules/module_27900.so  -s -lstdc++ -lpthread -ldl -lrt -lm -shared -fPIC -D MODULE_INTERFACE_VERSION_CURRENT=630\n",
            "gcc    -std=gnu99 -W -Wall -Wextra -O2 -pipe -Iinclude/ -IOpenCL/ -Ideps/LZMA-SDK/C -Ideps/zlib -Ideps/zlib/contrib -Ideps/OpenCL-Headers -DWITH_BRAIN -Ideps/xxHash -DWITH_CUBIN -Ideps/unrar -DWITH_HWMON src/modules/module_16600.c obj/combined.NATIVE.a -o modules/module_16600.so  -s -lstdc++ -lpthread -ldl -lrt -lm -shared -fPIC -D MODULE_INTERFACE_VERSION_CURRENT=630\n",
            "gcc    -std=gnu99 -W -Wall -Wextra -O2 -pipe -Iinclude/ -IOpenCL/ -Ideps/LZMA-SDK/C -Ideps/zlib -Ideps/zlib/contrib -Ideps/OpenCL-Headers -DWITH_BRAIN -Ideps/xxHash -DWITH_CUBIN -Ideps/unrar -DWITH_HWMON src/modules/module_01722.c obj/combined.NATIVE.a -o modules/module_01722.so  -s -lstdc++ -lpthread -ldl -lrt -lm -shared -fPIC -D MODULE_INTERFACE_VERSION_CURRENT=630\n",
            "gcc    -std=gnu99 -W -Wall -Wextra -O2 -pipe -Iinclude/ -IOpenCL/ -Ideps/LZMA-SDK/C -Ideps/zlib -Ideps/zlib/contrib -Ideps/OpenCL-Headers -DWITH_BRAIN -Ideps/xxHash -DWITH_CUBIN -Ideps/unrar -DWITH_HWMON src/modules/module_10830.c obj/combined.NATIVE.a -o modules/module_10830.so  -s -lstdc++ -lpthread -ldl -lrt -lm -shared -fPIC -D MODULE_INTERFACE_VERSION_CURRENT=630\n",
            "gcc    -std=gnu99 -W -Wall -Wextra -O2 -pipe -Iinclude/ -IOpenCL/ -Ideps/LZMA-SDK/C -Ideps/zlib -Ideps/zlib/contrib -Ideps/OpenCL-Headers -DWITH_BRAIN -Ideps/xxHash -DWITH_CUBIN -Ideps/unrar -DWITH_HWMON src/modules/module_22500.c obj/combined.NATIVE.a -o modules/module_22500.so  -s -lstdc++ -lpthread -ldl -lrt -lm -shared -fPIC -D MODULE_INTERFACE_VERSION_CURRENT=630\n",
            "gcc    -std=gnu99 -W -Wall -Wextra -O2 -pipe -Iinclude/ -IOpenCL/ -Ideps/LZMA-SDK/C -Ideps/zlib -Ideps/zlib/contrib -Ideps/OpenCL-Headers -DWITH_BRAIN -Ideps/xxHash -DWITH_CUBIN -Ideps/unrar -DWITH_HWMON src/modules/module_24420.c obj/combined.NATIVE.a -o modules/module_24420.so  -s -lstdc++ -lpthread -ldl -lrt -lm -shared -fPIC -D MODULE_INTERFACE_VERSION_CURRENT=630\n",
            "gcc    -std=gnu99 -W -Wall -Wextra -O2 -pipe -Iinclude/ -IOpenCL/ -Ideps/LZMA-SDK/C -Ideps/zlib -Ideps/zlib/contrib -Ideps/OpenCL-Headers -DWITH_BRAIN -Ideps/xxHash -DWITH_CUBIN -Ideps/unrar -DWITH_HWMON src/modules/module_00131.c obj/combined.NATIVE.a -o modules/module_00131.so  -s -lstdc++ -lpthread -ldl -lrt -lm -shared -fPIC -D MODULE_INTERFACE_VERSION_CURRENT=630\n",
            "gcc    -std=gnu99 -W -Wall -Wextra -O2 -pipe -Iinclude/ -IOpenCL/ -Ideps/LZMA-SDK/C -Ideps/zlib -Ideps/zlib/contrib -Ideps/OpenCL-Headers -DWITH_BRAIN -Ideps/xxHash -DWITH_CUBIN -Ideps/unrar -DWITH_HWMON src/modules/module_02100.c obj/combined.NATIVE.a -o modules/module_02100.so  -s -lstdc++ -lpthread -ldl -lrt -lm -shared -fPIC -D MODULE_INTERFACE_VERSION_CURRENT=630\n",
            "gcc    -std=gnu99 -W -Wall -Wextra -O2 -pipe -Iinclude/ -IOpenCL/ -Ideps/LZMA-SDK/C -Ideps/zlib -Ideps/zlib/contrib -Ideps/OpenCL-Headers -DWITH_BRAIN -Ideps/xxHash -DWITH_CUBIN -Ideps/unrar -DWITH_HWMON src/modules/module_01740.c obj/combined.NATIVE.a -o modules/module_01740.so  -s -lstdc++ -lpthread -ldl -lrt -lm -shared -fPIC -D MODULE_INTERFACE_VERSION_CURRENT=630\n",
            "gcc    -std=gnu99 -W -Wall -Wextra -O2 -pipe -Iinclude/ -IOpenCL/ -Ideps/LZMA-SDK/C -Ideps/zlib -Ideps/zlib/contrib -Ideps/OpenCL-Headers -DWITH_BRAIN -Ideps/xxHash -DWITH_CUBIN -Ideps/unrar -DWITH_HWMON src/modules/module_13000.c obj/combined.NATIVE.a -o modules/module_13000.so  -s -lstdc++ -lpthread -ldl -lrt -lm -shared -fPIC -D MODULE_INTERFACE_VERSION_CURRENT=630\n",
            "gcc    -std=gnu99 -W -Wall -Wextra -O2 -pipe -Iinclude/ -IOpenCL/ -Ideps/LZMA-SDK/C -Ideps/zlib -Ideps/zlib/contrib -Ideps/OpenCL-Headers -DWITH_BRAIN -Ideps/xxHash -DWITH_CUBIN -Ideps/unrar -DWITH_HWMON src/modules/module_02410.c obj/combined.NATIVE.a -o modules/module_02410.so  -s -lstdc++ -lpthread -ldl -lrt -lm -shared -fPIC -D MODULE_INTERFACE_VERSION_CURRENT=630\n",
            "gcc    -std=gnu99 -W -Wall -Wextra -O2 -pipe -Iinclude/ -IOpenCL/ -Ideps/LZMA-SDK/C -Ideps/zlib -Ideps/zlib/contrib -Ideps/OpenCL-Headers -DWITH_BRAIN -Ideps/xxHash -DWITH_CUBIN -Ideps/unrar -DWITH_HWMON src/modules/module_04520.c obj/combined.NATIVE.a -o modules/module_04520.so  -s -lstdc++ -lpthread -ldl -lrt -lm -shared -fPIC -D MODULE_INTERFACE_VERSION_CURRENT=630\n",
            "gcc    -std=gnu99 -W -Wall -Wextra -O2 -pipe -Iinclude/ -IOpenCL/ -Ideps/LZMA-SDK/C -Ideps/zlib -Ideps/zlib/contrib -Ideps/OpenCL-Headers -DWITH_BRAIN -Ideps/xxHash -DWITH_CUBIN -Ideps/unrar -DWITH_HWMON src/modules/module_22000.c obj/combined.NATIVE.a -o modules/module_22000.so  -s -lstdc++ -lpthread -ldl -lrt -lm -shared -fPIC -D MODULE_INTERFACE_VERSION_CURRENT=630\n",
            "gcc    -std=gnu99 -W -Wall -Wextra -O2 -pipe -Iinclude/ -IOpenCL/ -Ideps/LZMA-SDK/C -Ideps/zlib -Ideps/zlib/contrib -Ideps/OpenCL-Headers -DWITH_BRAIN -Ideps/xxHash -DWITH_CUBIN -Ideps/unrar -DWITH_HWMON src/modules/module_01730.c obj/combined.NATIVE.a -o modules/module_01730.so  -s -lstdc++ -lpthread -ldl -lrt -lm -shared -fPIC -D MODULE_INTERFACE_VERSION_CURRENT=630\n",
            "gcc    -std=gnu99 -W -Wall -Wextra -O2 -pipe -Iinclude/ -IOpenCL/ -Ideps/LZMA-SDK/C -Ideps/zlib -Ideps/zlib/contrib -Ideps/OpenCL-Headers -DWITH_BRAIN -Ideps/xxHash -DWITH_CUBIN -Ideps/unrar -DWITH_HWMON src/modules/module_04900.c obj/combined.NATIVE.a -o modules/module_04900.so  -s -lstdc++ -lpthread -ldl -lrt -lm -shared -fPIC -D MODULE_INTERFACE_VERSION_CURRENT=630\n",
            "gcc    -std=gnu99 -W -Wall -Wextra -O2 -pipe -Iinclude/ -IOpenCL/ -Ideps/LZMA-SDK/C -Ideps/zlib -Ideps/zlib/contrib -Ideps/OpenCL-Headers -DWITH_BRAIN -Ideps/xxHash -DWITH_CUBIN -Ideps/unrar -DWITH_HWMON src/modules/module_00124.c obj/combined.NATIVE.a -o modules/module_00124.so  -s -lstdc++ -lpthread -ldl -lrt -lm -shared -fPIC -D MODULE_INTERFACE_VERSION_CURRENT=630\n",
            "gcc    -std=gnu99 -W -Wall -Wextra -O2 -pipe -Iinclude/ -IOpenCL/ -Ideps/LZMA-SDK/C -Ideps/zlib -Ideps/zlib/contrib -Ideps/OpenCL-Headers -DWITH_BRAIN -Ideps/xxHash -DWITH_CUBIN -Ideps/unrar -DWITH_HWMON src/modules/module_10300.c obj/combined.NATIVE.a -o modules/module_10300.so  -s -lstdc++ -lpthread -ldl -lrt -lm -shared -fPIC -D MODULE_INTERFACE_VERSION_CURRENT=630\n",
            "gcc    -std=gnu99 -W -Wall -Wextra -O2 -pipe -Iinclude/ -IOpenCL/ -Ideps/LZMA-SDK/C -Ideps/zlib -Ideps/zlib/contrib -Ideps/OpenCL-Headers -DWITH_BRAIN -Ideps/xxHash -DWITH_CUBIN -Ideps/unrar -DWITH_HWMON src/modules/module_01420.c obj/combined.NATIVE.a -o modules/module_01420.so  -s -lstdc++ -lpthread -ldl -lrt -lm -shared -fPIC -D MODULE_INTERFACE_VERSION_CURRENT=630\n",
            "gcc    -std=gnu99 -W -Wall -Wextra -O2 -pipe -Iinclude/ -IOpenCL/ -Ideps/LZMA-SDK/C -Ideps/zlib -Ideps/zlib/contrib -Ideps/OpenCL-Headers -DWITH_BRAIN -Ideps/xxHash -DWITH_CUBIN -Ideps/unrar -DWITH_HWMON src/modules/module_17900.c obj/combined.NATIVE.a -o modules/module_17900.so  -s -lstdc++ -lpthread -ldl -lrt -lm -shared -fPIC -D MODULE_INTERFACE_VERSION_CURRENT=630\n",
            "gcc    -std=gnu99 -W -Wall -Wextra -O2 -pipe -Iinclude/ -IOpenCL/ -Ideps/LZMA-SDK/C -Ideps/zlib -Ideps/zlib/contrib -Ideps/OpenCL-Headers -DWITH_BRAIN -Ideps/xxHash -DWITH_CUBIN -Ideps/unrar -DWITH_HWMON src/modules/module_02612.c obj/combined.NATIVE.a -o modules/module_02612.so  -s -lstdc++ -lpthread -ldl -lrt -lm -shared -fPIC -D MODULE_INTERFACE_VERSION_CURRENT=630\n",
            "gcc    -std=gnu99 -W -Wall -Wextra -O2 -pipe -Iinclude/ -IOpenCL/ -Ideps/LZMA-SDK/C -Ideps/zlib -Ideps/zlib/contrib -Ideps/OpenCL-Headers -DWITH_BRAIN -Ideps/xxHash -DWITH_CUBIN -Ideps/unrar -DWITH_HWMON src/modules/module_06242.c obj/combined.NATIVE.a -o modules/module_06242.so  -s -lstdc++ -lpthread -ldl -lrt -lm -shared -fPIC -D MODULE_INTERFACE_VERSION_CURRENT=630\n",
            "gcc    -std=gnu99 -W -Wall -Wextra -O2 -pipe -Iinclude/ -IOpenCL/ -Ideps/LZMA-SDK/C -Ideps/zlib -Ideps/zlib/contrib -Ideps/OpenCL-Headers -DWITH_BRAIN -Ideps/xxHash -DWITH_CUBIN -Ideps/unrar -DWITH_HWMON src/modules/module_22300.c obj/combined.NATIVE.a -o modules/module_22300.so  -s -lstdc++ -lpthread -ldl -lrt -lm -shared -fPIC -D MODULE_INTERFACE_VERSION_CURRENT=630\n",
            "gcc    -std=gnu99 -W -Wall -Wextra -O2 -pipe -Iinclude/ -IOpenCL/ -Ideps/LZMA-SDK/C -Ideps/zlib -Ideps/zlib/contrib -Ideps/OpenCL-Headers -DWITH_BRAIN -Ideps/xxHash -DWITH_CUBIN -Ideps/unrar -DWITH_HWMON src/modules/module_08500.c obj/combined.NATIVE.a -o modules/module_08500.so  -s -lstdc++ -lpthread -ldl -lrt -lm -shared -fPIC -D MODULE_INTERFACE_VERSION_CURRENT=630\n",
            "gcc    -std=gnu99 -W -Wall -Wextra -O2 -pipe -Iinclude/ -IOpenCL/ -Ideps/LZMA-SDK/C -Ideps/zlib -Ideps/zlib/contrib -Ideps/OpenCL-Headers -DWITH_BRAIN -Ideps/xxHash -DWITH_CUBIN -Ideps/unrar -DWITH_HWMON src/modules/module_18800.c obj/combined.NATIVE.a -o modules/module_18800.so  -s -lstdc++ -lpthread -ldl -lrt -lm -shared -fPIC -D MODULE_INTERFACE_VERSION_CURRENT=630\n",
            "gcc    -std=gnu99 -W -Wall -Wextra -O2 -pipe -Iinclude/ -IOpenCL/ -Ideps/LZMA-SDK/C -Ideps/zlib -Ideps/zlib/contrib -Ideps/OpenCL-Headers -DWITH_BRAIN -Ideps/xxHash -DWITH_CUBIN -Ideps/unrar -DWITH_HWMON src/modules/module_09900.c obj/combined.NATIVE.a -o modules/module_09900.so  -s -lstdc++ -lpthread -ldl -lrt -lm -shared -fPIC -D MODULE_INTERFACE_VERSION_CURRENT=630\n",
            "gcc    -std=gnu99 -W -Wall -Wextra -O2 -pipe -Iinclude/ -IOpenCL/ -Ideps/LZMA-SDK/C -Ideps/zlib -Ideps/zlib/contrib -Ideps/OpenCL-Headers -DWITH_BRAIN -Ideps/xxHash -DWITH_CUBIN -Ideps/unrar -DWITH_HWMON src/modules/module_06222.c obj/combined.NATIVE.a -o modules/module_06222.so  -s -lstdc++ -lpthread -ldl -lrt -lm -shared -fPIC -D MODULE_INTERFACE_VERSION_CURRENT=630\n",
            "gcc    -std=gnu99 -W -Wall -Wextra -O2 -pipe -Iinclude/ -IOpenCL/ -Ideps/LZMA-SDK/C -Ideps/zlib -Ideps/zlib/contrib -Ideps/OpenCL-Headers -DWITH_BRAIN -Ideps/xxHash -DWITH_CUBIN -Ideps/unrar -DWITH_HWMON src/modules/module_08700.c obj/combined.NATIVE.a -o modules/module_08700.so  -s -lstdc++ -lpthread -ldl -lrt -lm -shared -fPIC -D MODULE_INTERFACE_VERSION_CURRENT=630\n",
            "gcc    -std=gnu99 -W -Wall -Wextra -O2 -pipe -Iinclude/ -IOpenCL/ -Ideps/LZMA-SDK/C -Ideps/zlib -Ideps/zlib/contrib -Ideps/OpenCL-Headers -DWITH_BRAIN -Ideps/xxHash -DWITH_CUBIN -Ideps/unrar -DWITH_HWMON src/modules/module_08600.c obj/combined.NATIVE.a -o modules/module_08600.so  -s -lstdc++ -lpthread -ldl -lrt -lm -shared -fPIC -D MODULE_INTERFACE_VERSION_CURRENT=630\n",
            "gcc    -std=gnu99 -W -Wall -Wextra -O2 -pipe -Iinclude/ -IOpenCL/ -Ideps/LZMA-SDK/C -Ideps/zlib -Ideps/zlib/contrib -Ideps/OpenCL-Headers -DWITH_BRAIN -Ideps/xxHash -DWITH_CUBIN -Ideps/unrar -DWITH_HWMON src/modules/module_16400.c obj/combined.NATIVE.a -o modules/module_16400.so  -s -lstdc++ -lpthread -ldl -lrt -lm -shared -fPIC -D MODULE_INTERFACE_VERSION_CURRENT=630\n",
            "gcc    -std=gnu99 -W -Wall -Wextra -O2 -pipe -Iinclude/ -IOpenCL/ -Ideps/LZMA-SDK/C -Ideps/zlib -Ideps/zlib/contrib -Ideps/OpenCL-Headers -DWITH_BRAIN -Ideps/xxHash -DWITH_CUBIN -Ideps/unrar -DWITH_HWMON src/modules/module_25500.c obj/combined.NATIVE.a -o modules/module_25500.so  -s -lstdc++ -lpthread -ldl -lrt -lm -shared -fPIC -D MODULE_INTERFACE_VERSION_CURRENT=630\n",
            "gcc    -std=gnu99 -W -Wall -Wextra -O2 -pipe -Iinclude/ -IOpenCL/ -Ideps/LZMA-SDK/C -Ideps/zlib -Ideps/zlib/contrib -Ideps/OpenCL-Headers -DWITH_BRAIN -Ideps/xxHash -DWITH_CUBIN -Ideps/unrar -DWITH_HWMON src/modules/module_19700.c obj/combined.NATIVE.a -o modules/module_19700.so  -s -lstdc++ -lpthread -ldl -lrt -lm -shared -fPIC -D MODULE_INTERFACE_VERSION_CURRENT=630\n",
            "gcc    -std=gnu99 -W -Wall -Wextra -O2 -pipe -Iinclude/ -IOpenCL/ -Ideps/LZMA-SDK/C -Ideps/zlib -Ideps/zlib/contrib -Ideps/OpenCL-Headers -DWITH_BRAIN -Ideps/xxHash -DWITH_CUBIN -Ideps/unrar -DWITH_HWMON src/modules/module_06241.c obj/combined.NATIVE.a -o modules/module_06241.so  -s -lstdc++ -lpthread -ldl -lrt -lm -shared -fPIC -D MODULE_INTERFACE_VERSION_CURRENT=630\n",
            "gcc    -std=gnu99 -W -Wall -Wextra -O2 -pipe -Iinclude/ -IOpenCL/ -Ideps/LZMA-SDK/C -Ideps/zlib -Ideps/zlib/contrib -Ideps/OpenCL-Headers -DWITH_BRAIN -Ideps/xxHash -DWITH_CUBIN -Ideps/unrar -DWITH_HWMON src/modules/module_09200.c obj/combined.NATIVE.a -o modules/module_09200.so  -s -lstdc++ -lpthread -ldl -lrt -lm -shared -fPIC -D MODULE_INTERFACE_VERSION_CURRENT=630\n",
            "gcc    -std=gnu99 -W -Wall -Wextra -O2 -pipe -Iinclude/ -IOpenCL/ -Ideps/LZMA-SDK/C -Ideps/zlib -Ideps/zlib/contrib -Ideps/OpenCL-Headers -DWITH_BRAIN -Ideps/xxHash -DWITH_CUBIN -Ideps/unrar -DWITH_HWMON src/modules/module_24410.c obj/combined.NATIVE.a -o modules/module_24410.so  -s -lstdc++ -lpthread -ldl -lrt -lm -shared -fPIC -D MODULE_INTERFACE_VERSION_CURRENT=630\n",
            "gcc    -std=gnu99 -W -Wall -Wextra -O2 -pipe -Iinclude/ -IOpenCL/ -Ideps/LZMA-SDK/C -Ideps/zlib -Ideps/zlib/contrib -Ideps/OpenCL-Headers -DWITH_BRAIN -Ideps/xxHash -DWITH_CUBIN -Ideps/unrar -DWITH_HWMON src/modules/module_20720.c obj/combined.NATIVE.a -o modules/module_20720.so  -s -lstdc++ -lpthread -ldl -lrt -lm -shared -fPIC -D MODULE_INTERFACE_VERSION_CURRENT=630\n",
            "gcc    -std=gnu99 -W -Wall -Wextra -O2 -pipe -Iinclude/ -IOpenCL/ -Ideps/LZMA-SDK/C -Ideps/zlib -Ideps/zlib/contrib -Ideps/OpenCL-Headers -DWITH_BRAIN -Ideps/xxHash -DWITH_CUBIN -Ideps/unrar -DWITH_HWMON src/modules/module_09000.c obj/combined.NATIVE.a -o modules/module_09000.so  -s -lstdc++ -lpthread -ldl -lrt -lm -shared -fPIC -D MODULE_INTERFACE_VERSION_CURRENT=630\n",
            "gcc    -std=gnu99 -W -Wall -Wextra -O2 -pipe -Iinclude/ -IOpenCL/ -Ideps/LZMA-SDK/C -Ideps/zlib -Ideps/zlib/contrib -Ideps/OpenCL-Headers -DWITH_BRAIN -Ideps/xxHash -DWITH_CUBIN -Ideps/unrar -DWITH_HWMON src/modules/module_00111.c obj/combined.NATIVE.a -o modules/module_00111.so  -s -lstdc++ -lpthread -ldl -lrt -lm -shared -fPIC -D MODULE_INTERFACE_VERSION_CURRENT=630\n",
            "gcc    -std=gnu99 -W -Wall -Wextra -O2 -pipe -Iinclude/ -IOpenCL/ -Ideps/LZMA-SDK/C -Ideps/zlib -Ideps/zlib/contrib -Ideps/OpenCL-Headers -DWITH_BRAIN -Ideps/xxHash -DWITH_CUBIN -Ideps/unrar -DWITH_HWMON src/modules/module_03711.c obj/combined.NATIVE.a -o modules/module_03711.so  -s -lstdc++ -lpthread -ldl -lrt -lm -shared -fPIC -D MODULE_INTERFACE_VERSION_CURRENT=630\n",
            "gcc    -std=gnu99 -W -Wall -Wextra -O2 -pipe -Iinclude/ -IOpenCL/ -Ideps/LZMA-SDK/C -Ideps/zlib -Ideps/zlib/contrib -Ideps/OpenCL-Headers -DWITH_BRAIN -Ideps/xxHash -DWITH_CUBIN -Ideps/unrar -DWITH_HWMON src/modules/module_23500.c obj/combined.NATIVE.a -o modules/module_23500.so  -s -lstdc++ -lpthread -ldl -lrt -lm -shared -fPIC -D MODULE_INTERFACE_VERSION_CURRENT=630\n",
            "gcc    -std=gnu99 -W -Wall -Wextra -O2 -pipe -Iinclude/ -IOpenCL/ -Ideps/LZMA-SDK/C -Ideps/zlib -Ideps/zlib/contrib -Ideps/OpenCL-Headers -DWITH_BRAIN -Ideps/xxHash -DWITH_CUBIN -Ideps/unrar -DWITH_HWMON src/modules/module_11750.c obj/combined.NATIVE.a -o modules/module_11750.so  -s -lstdc++ -lpthread -ldl -lrt -lm -shared -fPIC -D MODULE_INTERFACE_VERSION_CURRENT=630\n",
            "gcc    -std=gnu99 -W -Wall -Wextra -O2 -pipe -Iinclude/ -IOpenCL/ -Ideps/LZMA-SDK/C -Ideps/zlib -Ideps/zlib/contrib -Ideps/OpenCL-Headers -DWITH_BRAIN -Ideps/xxHash -DWITH_CUBIN -Ideps/unrar -DWITH_HWMON src/modules/module_08900.c obj/combined.NATIVE.a -o modules/module_08900.so  -s -lstdc++ -lpthread -ldl -lrt -lm -shared -fPIC -D MODULE_INTERFACE_VERSION_CURRENT=630\n",
            "gcc    -std=gnu99 -W -Wall -Wextra -O2 -pipe -Iinclude/ -IOpenCL/ -Ideps/LZMA-SDK/C -Ideps/zlib -Ideps/zlib/contrib -Ideps/OpenCL-Headers -DWITH_BRAIN -Ideps/xxHash -DWITH_CUBIN -Ideps/unrar -DWITH_HWMON src/modules/module_14500.c obj/combined.NATIVE.a -o modules/module_14500.so  -s -lstdc++ -lpthread -ldl -lrt -lm -shared -fPIC -D MODULE_INTERFACE_VERSION_CURRENT=630\n",
            "gcc    -std=gnu99 -W -Wall -Wextra -O2 -pipe -Iinclude/ -IOpenCL/ -Ideps/LZMA-SDK/C -Ideps/zlib -Ideps/zlib/contrib -Ideps/OpenCL-Headers -DWITH_BRAIN -Ideps/xxHash -DWITH_CUBIN -Ideps/unrar -DWITH_HWMON src/modules/module_12000.c obj/combined.NATIVE.a -o modules/module_12000.so  -s -lstdc++ -lpthread -ldl -lrt -lm -shared -fPIC -D MODULE_INTERFACE_VERSION_CURRENT=630\n",
            "gcc    -std=gnu99 -W -Wall -Wextra -O2 -pipe -Iinclude/ -IOpenCL/ -Ideps/LZMA-SDK/C -Ideps/zlib -Ideps/zlib/contrib -Ideps/OpenCL-Headers -DWITH_BRAIN -Ideps/xxHash -DWITH_CUBIN -Ideps/unrar -DWITH_HWMON src/modules/module_24200.c obj/combined.NATIVE.a -o modules/module_24200.so  -s -lstdc++ -lpthread -ldl -lrt -lm -shared -fPIC -D MODULE_INTERFACE_VERSION_CURRENT=630\n",
            "gcc    -std=gnu99 -W -Wall -Wextra -O2 -pipe -Iinclude/ -IOpenCL/ -Ideps/LZMA-SDK/C -Ideps/zlib -Ideps/zlib/contrib -Ideps/OpenCL-Headers -DWITH_BRAIN -Ideps/xxHash -DWITH_CUBIN -Ideps/unrar -DWITH_HWMON src/modules/module_09810.c obj/combined.NATIVE.a -o modules/module_09810.so  -s -lstdc++ -lpthread -ldl -lrt -lm -shared -fPIC -D MODULE_INTERFACE_VERSION_CURRENT=630\n",
            "gcc    -std=gnu99 -W -Wall -Wextra -O2 -pipe -Iinclude/ -IOpenCL/ -Ideps/LZMA-SDK/C -Ideps/zlib -Ideps/zlib/contrib -Ideps/OpenCL-Headers -DWITH_BRAIN -Ideps/xxHash -DWITH_CUBIN -Ideps/unrar -DWITH_HWMON src/modules/module_12200.c obj/combined.NATIVE.a -o modules/module_12200.so  -s -lstdc++ -lpthread -ldl -lrt -lm -shared -fPIC -D MODULE_INTERFACE_VERSION_CURRENT=630\n",
            "gcc    -std=gnu99 -W -Wall -Wextra -O2 -pipe -Iinclude/ -IOpenCL/ -Ideps/LZMA-SDK/C -Ideps/zlib -Ideps/zlib/contrib -Ideps/OpenCL-Headers -DWITH_BRAIN -Ideps/xxHash -DWITH_CUBIN -Ideps/unrar -DWITH_HWMON src/modules/module_24500.c obj/combined.NATIVE.a -o modules/module_24500.so  -s -lstdc++ -lpthread -ldl -lrt -lm -shared -fPIC -D MODULE_INTERFACE_VERSION_CURRENT=630\n",
            "gcc    -std=gnu99 -W -Wall -Wextra -O2 -pipe -Iinclude/ -IOpenCL/ -Ideps/LZMA-SDK/C -Ideps/zlib -Ideps/zlib/contrib -Ideps/OpenCL-Headers -DWITH_BRAIN -Ideps/xxHash -DWITH_CUBIN -Ideps/unrar -DWITH_HWMON src/modules/module_16100.c obj/combined.NATIVE.a -o modules/module_16100.so  -s -lstdc++ -lpthread -ldl -lrt -lm -shared -fPIC -D MODULE_INTERFACE_VERSION_CURRENT=630\n",
            "gcc    -std=gnu99 -W -Wall -Wextra -O2 -pipe -Iinclude/ -IOpenCL/ -Ideps/LZMA-SDK/C -Ideps/zlib -Ideps/zlib/contrib -Ideps/OpenCL-Headers -DWITH_BRAIN -Ideps/xxHash -DWITH_CUBIN -Ideps/unrar -DWITH_HWMON src/modules/module_03100.c obj/combined.NATIVE.a -o modules/module_03100.so  -s -lstdc++ -lpthread -ldl -lrt -lm -shared -fPIC -D MODULE_INTERFACE_VERSION_CURRENT=630\n",
            "gcc    -std=gnu99 -W -Wall -Wextra -O2 -pipe -Iinclude/ -IOpenCL/ -Ideps/LZMA-SDK/C -Ideps/zlib -Ideps/zlib/contrib -Ideps/OpenCL-Headers -DWITH_BRAIN -Ideps/xxHash -DWITH_CUBIN -Ideps/unrar -DWITH_HWMON src/modules/module_10200.c obj/combined.NATIVE.a -o modules/module_10200.so  -s -lstdc++ -lpthread -ldl -lrt -lm -shared -fPIC -D MODULE_INTERFACE_VERSION_CURRENT=630\n",
            "gcc    -std=gnu99 -W -Wall -Wextra -O2 -pipe -Iinclude/ -IOpenCL/ -Ideps/LZMA-SDK/C -Ideps/zlib -Ideps/zlib/contrib -Ideps/OpenCL-Headers -DWITH_BRAIN -Ideps/xxHash -DWITH_CUBIN -Ideps/unrar -DWITH_HWMON src/modules/module_03500.c obj/combined.NATIVE.a -o modules/module_03500.so  -s -lstdc++ -lpthread -ldl -lrt -lm -shared -fPIC -D MODULE_INTERFACE_VERSION_CURRENT=630\n",
            "gcc    -std=gnu99 -W -Wall -Wextra -O2 -pipe -Iinclude/ -IOpenCL/ -Ideps/LZMA-SDK/C -Ideps/zlib -Ideps/zlib/contrib -Ideps/OpenCL-Headers -DWITH_BRAIN -Ideps/xxHash -DWITH_CUBIN -Ideps/unrar -DWITH_HWMON src/modules/module_10840.c obj/combined.NATIVE.a -o modules/module_10840.so  -s -lstdc++ -lpthread -ldl -lrt -lm -shared -fPIC -D MODULE_INTERFACE_VERSION_CURRENT=630\n",
            "gcc    -std=gnu99 -W -Wall -Wextra -O2 -pipe -Iinclude/ -IOpenCL/ -Ideps/LZMA-SDK/C -Ideps/zlib -Ideps/zlib/contrib -Ideps/OpenCL-Headers -DWITH_BRAIN -Ideps/xxHash -DWITH_CUBIN -Ideps/unrar -DWITH_HWMON src/modules/module_25300.c obj/combined.NATIVE.a -o modules/module_25300.so  -s -lstdc++ -lpthread -ldl -lrt -lm -shared -fPIC -D MODULE_INTERFACE_VERSION_CURRENT=630\n",
            "gcc    -std=gnu99 -W -Wall -Wextra -O2 -pipe -Iinclude/ -IOpenCL/ -Ideps/LZMA-SDK/C -Ideps/zlib -Ideps/zlib/contrib -Ideps/OpenCL-Headers -DWITH_BRAIN -Ideps/xxHash -DWITH_CUBIN -Ideps/unrar -DWITH_HWMON src/modules/module_04110.c obj/combined.NATIVE.a -o modules/module_04110.so  -s -lstdc++ -lpthread -ldl -lrt -lm -shared -fPIC -D MODULE_INTERFACE_VERSION_CURRENT=630\n",
            "gcc    -std=gnu99 -W -Wall -Wextra -O2 -pipe -Iinclude/ -IOpenCL/ -Ideps/LZMA-SDK/C -Ideps/zlib -Ideps/zlib/contrib -Ideps/OpenCL-Headers -DWITH_BRAIN -Ideps/xxHash -DWITH_CUBIN -Ideps/unrar -DWITH_HWMON src/modules/module_23400.c obj/combined.NATIVE.a -o modules/module_23400.so  -s -lstdc++ -lpthread -ldl -lrt -lm -shared -fPIC -D MODULE_INTERFACE_VERSION_CURRENT=630\n",
            "gcc    -std=gnu99 -W -Wall -Wextra -O2 -pipe -Iinclude/ -IOpenCL/ -Ideps/LZMA-SDK/C -Ideps/zlib -Ideps/zlib/contrib -Ideps/OpenCL-Headers -DWITH_BRAIN -Ideps/xxHash -DWITH_CUBIN -Ideps/unrar -DWITH_HWMON src/modules/module_24300.c obj/combined.NATIVE.a -o modules/module_24300.so  -s -lstdc++ -lpthread -ldl -lrt -lm -shared -fPIC -D MODULE_INTERFACE_VERSION_CURRENT=630\n",
            "gcc    -std=gnu99 -W -Wall -Wextra -O2 -pipe -Iinclude/ -IOpenCL/ -Ideps/LZMA-SDK/C -Ideps/zlib -Ideps/zlib/contrib -Ideps/OpenCL-Headers -DWITH_BRAIN -Ideps/xxHash -DWITH_CUBIN -Ideps/unrar -DWITH_HWMON src/modules/module_12500.c obj/combined.NATIVE.a -o modules/module_12500.so  -s -lstdc++ -lpthread -ldl -lrt -lm -shared -fPIC -D MODULE_INTERFACE_VERSION_CURRENT=630\n",
            "gcc    -std=gnu99 -W -Wall -Wextra -O2 -pipe -Iinclude/ -IOpenCL/ -Ideps/LZMA-SDK/C -Ideps/zlib -Ideps/zlib/contrib -Ideps/OpenCL-Headers -DWITH_BRAIN -Ideps/xxHash -DWITH_CUBIN -Ideps/unrar -DWITH_HWMON src/modules/module_17010.c obj/combined.NATIVE.a -o modules/module_17010.so  -s -lstdc++ -lpthread -ldl -lrt -lm -shared -fPIC -D MODULE_INTERFACE_VERSION_CURRENT=630\n",
            "gcc    -std=gnu99 -W -Wall -Wextra -O2 -pipe -Iinclude/ -IOpenCL/ -Ideps/LZMA-SDK/C -Ideps/zlib -Ideps/zlib/contrib -Ideps/OpenCL-Headers -DWITH_BRAIN -Ideps/xxHash -DWITH_CUBIN -Ideps/unrar -DWITH_HWMON src/modules/module_22931.c obj/combined.NATIVE.a -o modules/module_22931.so  -s -lstdc++ -lpthread -ldl -lrt -lm -shared -fPIC -D MODULE_INTERFACE_VERSION_CURRENT=630\n",
            "gcc    -std=gnu99 -W -Wall -Wextra -O2 -pipe -Iinclude/ -IOpenCL/ -Ideps/LZMA-SDK/C -Ideps/zlib -Ideps/zlib/contrib -Ideps/OpenCL-Headers -DWITH_BRAIN -Ideps/xxHash -DWITH_CUBIN -Ideps/unrar -DWITH_HWMON src/modules/module_01411.c obj/combined.NATIVE.a -o modules/module_01411.so  -s -lstdc++ -lpthread -ldl -lrt -lm -shared -fPIC -D MODULE_INTERFACE_VERSION_CURRENT=630\n",
            "gcc    -std=gnu99 -W -Wall -Wextra -O2 -pipe -Iinclude/ -IOpenCL/ -Ideps/LZMA-SDK/C -Ideps/zlib -Ideps/zlib/contrib -Ideps/OpenCL-Headers -DWITH_BRAIN -Ideps/xxHash -DWITH_CUBIN -Ideps/unrar -DWITH_HWMON src/modules/module_19100.c obj/combined.NATIVE.a -o modules/module_19100.so  -s -lstdc++ -lpthread -ldl -lrt -lm -shared -fPIC -D MODULE_INTERFACE_VERSION_CURRENT=630\n",
            "gcc    -std=gnu99 -W -Wall -Wextra -O2 -pipe -Iinclude/ -IOpenCL/ -Ideps/LZMA-SDK/C -Ideps/zlib -Ideps/zlib/contrib -Ideps/OpenCL-Headers -DWITH_BRAIN -Ideps/xxHash -DWITH_CUBIN -Ideps/unrar -DWITH_HWMON src/modules/module_27300.c obj/combined.NATIVE.a -o modules/module_27300.so  -s -lstdc++ -lpthread -ldl -lrt -lm -shared -fPIC -D MODULE_INTERFACE_VERSION_CURRENT=630\n",
            "gcc    -std=gnu99 -W -Wall -Wextra -O2 -pipe -Iinclude/ -IOpenCL/ -Ideps/LZMA-SDK/C -Ideps/zlib -Ideps/zlib/contrib -Ideps/OpenCL-Headers -DWITH_BRAIN -Ideps/xxHash -DWITH_CUBIN -Ideps/unrar -DWITH_HWMON src/modules/module_13711.c obj/combined.NATIVE.a -o modules/module_13711.so  -s -lstdc++ -lpthread -ldl -lrt -lm -shared -fPIC -D MODULE_INTERFACE_VERSION_CURRENT=630\n",
            "gcc    -std=gnu99 -W -Wall -Wextra -O2 -pipe -Iinclude/ -IOpenCL/ -Ideps/LZMA-SDK/C -Ideps/zlib -Ideps/zlib/contrib -Ideps/OpenCL-Headers -DWITH_BRAIN -Ideps/xxHash -DWITH_CUBIN -Ideps/unrar -DWITH_HWMON src/modules/module_21501.c obj/combined.NATIVE.a -o modules/module_21501.so  -s -lstdc++ -lpthread -ldl -lrt -lm -shared -fPIC -D MODULE_INTERFACE_VERSION_CURRENT=630\n",
            "gcc    -std=gnu99 -W -Wall -Wextra -O2 -pipe -Iinclude/ -IOpenCL/ -Ideps/LZMA-SDK/C -Ideps/zlib -Ideps/zlib/contrib -Ideps/OpenCL-Headers -DWITH_BRAIN -Ideps/xxHash -DWITH_CUBIN -Ideps/unrar -DWITH_HWMON src/modules/module_11400.c obj/combined.NATIVE.a -o modules/module_11400.so  -s -lstdc++ -lpthread -ldl -lrt -lm -shared -fPIC -D MODULE_INTERFACE_VERSION_CURRENT=630\n",
            "gcc    -std=gnu99 -W -Wall -Wextra -O2 -pipe -Iinclude/ -IOpenCL/ -Ideps/LZMA-SDK/C -Ideps/zlib -Ideps/zlib/contrib -Ideps/OpenCL-Headers -DWITH_BRAIN -Ideps/xxHash -DWITH_CUBIN -Ideps/unrar -DWITH_HWMON src/modules/module_20011.c obj/combined.NATIVE.a -o modules/module_20011.so  -s -lstdc++ -lpthread -ldl -lrt -lm -shared -fPIC -D MODULE_INTERFACE_VERSION_CURRENT=630\n",
            "gcc    -std=gnu99 -W -Wall -Wextra -O2 -pipe -Iinclude/ -IOpenCL/ -Ideps/LZMA-SDK/C -Ideps/zlib -Ideps/zlib/contrib -Ideps/OpenCL-Headers -DWITH_BRAIN -Ideps/xxHash -DWITH_CUBIN -Ideps/unrar -DWITH_HWMON src/modules/module_15400.c obj/combined.NATIVE.a -o modules/module_15400.so  -s -lstdc++ -lpthread -ldl -lrt -lm -shared -fPIC -D MODULE_INTERFACE_VERSION_CURRENT=630\n",
            "gcc    -std=gnu99 -W -Wall -Wextra -O2 -pipe -Iinclude/ -IOpenCL/ -Ideps/LZMA-SDK/C -Ideps/zlib -Ideps/zlib/contrib -Ideps/OpenCL-Headers -DWITH_BRAIN -Ideps/xxHash -DWITH_CUBIN -Ideps/unrar -DWITH_HWMON src/modules/module_25800.c obj/combined.NATIVE.a -o modules/module_25800.so  -s -lstdc++ -lpthread -ldl -lrt -lm -shared -fPIC -D MODULE_INTERFACE_VERSION_CURRENT=630\n",
            "gcc    -std=gnu99 -W -Wall -Wextra -O2 -pipe -Iinclude/ -IOpenCL/ -Ideps/LZMA-SDK/C -Ideps/zlib -Ideps/zlib/contrib -Ideps/OpenCL-Headers -DWITH_BRAIN -Ideps/xxHash -DWITH_CUBIN -Ideps/unrar -DWITH_HWMON src/modules/module_10600.c obj/combined.NATIVE.a -o modules/module_10600.so  -s -lstdc++ -lpthread -ldl -lrt -lm -shared -fPIC -D MODULE_INTERFACE_VERSION_CURRENT=630\n",
            "gcc    -std=gnu99 -W -Wall -Wextra -O2 -pipe -Iinclude/ -IOpenCL/ -Ideps/LZMA-SDK/C -Ideps/zlib -Ideps/zlib/contrib -Ideps/OpenCL-Headers -DWITH_BRAIN -Ideps/xxHash -DWITH_CUBIN -Ideps/unrar -DWITH_HWMON src/modules/module_18100.c obj/combined.NATIVE.a -o modules/module_18100.so  -s -lstdc++ -lpthread -ldl -lrt -lm -shared -fPIC -D MODULE_INTERFACE_VERSION_CURRENT=630\n",
            "gcc    -std=gnu99 -W -Wall -Wextra -O2 -pipe -Iinclude/ -IOpenCL/ -Ideps/LZMA-SDK/C -Ideps/zlib -Ideps/zlib/contrib -Ideps/OpenCL-Headers -DWITH_BRAIN -Ideps/xxHash -DWITH_CUBIN -Ideps/unrar -DWITH_HWMON src/modules/module_10800.c obj/combined.NATIVE.a -o modules/module_10800.so  -s -lstdc++ -lpthread -ldl -lrt -lm -shared -fPIC -D MODULE_INTERFACE_VERSION_CURRENT=630\n",
            "gcc    -std=gnu99 -W -Wall -Wextra -O2 -pipe -Iinclude/ -IOpenCL/ -Ideps/LZMA-SDK/C -Ideps/zlib -Ideps/zlib/contrib -Ideps/OpenCL-Headers -DWITH_BRAIN -Ideps/xxHash -DWITH_CUBIN -Ideps/unrar -DWITH_HWMON src/modules/module_09300.c obj/combined.NATIVE.a -o modules/module_09300.so  -s -lstdc++ -lpthread -ldl -lrt -lm -shared -fPIC -D MODULE_INTERFACE_VERSION_CURRENT=630\n",
            "gcc    -std=gnu99 -W -Wall -Wextra -O2 -pipe -Iinclude/ -IOpenCL/ -Ideps/LZMA-SDK/C -Ideps/zlib -Ideps/zlib/contrib -Ideps/OpenCL-Headers -DWITH_BRAIN -Ideps/xxHash -DWITH_CUBIN -Ideps/unrar -DWITH_HWMON src/modules/module_11800.c obj/combined.NATIVE.a -o modules/module_11800.so  -s -lstdc++ -lpthread -ldl -lrt -lm -shared -fPIC -D MODULE_INTERFACE_VERSION_CURRENT=630\n",
            "gcc    -std=gnu99 -W -Wall -Wextra -O2 -pipe -Iinclude/ -IOpenCL/ -Ideps/LZMA-SDK/C -Ideps/zlib -Ideps/zlib/contrib -Ideps/OpenCL-Headers -DWITH_BRAIN -Ideps/xxHash -DWITH_CUBIN -Ideps/unrar -DWITH_HWMON src/modules/module_25100.c obj/combined.NATIVE.a -o modules/module_25100.so  -s -lstdc++ -lpthread -ldl -lrt -lm -shared -fPIC -D MODULE_INTERFACE_VERSION_CURRENT=630\n",
            "gcc    -std=gnu99 -W -Wall -Wextra -O2 -pipe -Iinclude/ -IOpenCL/ -Ideps/LZMA-SDK/C -Ideps/zlib -Ideps/zlib/contrib -Ideps/OpenCL-Headers -DWITH_BRAIN -Ideps/xxHash -DWITH_CUBIN -Ideps/unrar -DWITH_HWMON src/modules/module_13783.c obj/combined.NATIVE.a -o modules/module_13783.so  -s -lstdc++ -lpthread -ldl -lrt -lm -shared -fPIC -D MODULE_INTERFACE_VERSION_CURRENT=630\n",
            "gcc    -std=gnu99 -W -Wall -Wextra -O2 -pipe -Iinclude/ -IOpenCL/ -Ideps/LZMA-SDK/C -Ideps/zlib -Ideps/zlib/contrib -Ideps/OpenCL-Headers -DWITH_BRAIN -Ideps/xxHash -DWITH_CUBIN -Ideps/unrar -DWITH_HWMON src/modules/module_01450.c obj/combined.NATIVE.a -o modules/module_01450.so  -s -lstdc++ -lpthread -ldl -lrt -lm -shared -fPIC -D MODULE_INTERFACE_VERSION_CURRENT=630\n",
            "gcc    -std=gnu99 -W -Wall -Wextra -O2 -pipe -Iinclude/ -IOpenCL/ -Ideps/LZMA-SDK/C -Ideps/zlib -Ideps/zlib/contrib -Ideps/OpenCL-Headers -DWITH_BRAIN -Ideps/xxHash -DWITH_CUBIN -Ideps/unrar -DWITH_HWMON src/modules/module_17500.c obj/combined.NATIVE.a -o modules/module_17500.so  -s -lstdc++ -lpthread -ldl -lrt -lm -shared -fPIC -D MODULE_INTERFACE_VERSION_CURRENT=630\n",
            "gcc    -std=gnu99 -W -Wall -Wextra -O2 -pipe -Iinclude/ -IOpenCL/ -Ideps/LZMA-SDK/C -Ideps/zlib -Ideps/zlib/contrib -Ideps/OpenCL-Headers -DWITH_BRAIN -Ideps/xxHash -DWITH_CUBIN -Ideps/unrar -DWITH_HWMON src/modules/module_08300.c obj/combined.NATIVE.a -o modules/module_08300.so  -s -lstdc++ -lpthread -ldl -lrt -lm -shared -fPIC -D MODULE_INTERFACE_VERSION_CURRENT=630\n",
            "gcc    -std=gnu99 -W -Wall -Wextra -O2 -pipe -Iinclude/ -IOpenCL/ -Ideps/LZMA-SDK/C -Ideps/zlib -Ideps/zlib/contrib -Ideps/OpenCL-Headers -DWITH_BRAIN -Ideps/xxHash -DWITH_CUBIN -Ideps/unrar -DWITH_HWMON src/modules/module_00125.c obj/combined.NATIVE.a -o modules/module_00125.so  -s -lstdc++ -lpthread -ldl -lrt -lm -shared -fPIC -D MODULE_INTERFACE_VERSION_CURRENT=630\n",
            "gcc    -std=gnu99 -W -Wall -Wextra -O2 -pipe -Iinclude/ -IOpenCL/ -Ideps/LZMA-SDK/C -Ideps/zlib -Ideps/zlib/contrib -Ideps/OpenCL-Headers -DWITH_BRAIN -Ideps/xxHash -DWITH_CUBIN -Ideps/unrar -DWITH_HWMON src/modules/module_20711.c obj/combined.NATIVE.a -o modules/module_20711.so  -s -lstdc++ -lpthread -ldl -lrt -lm -shared -fPIC -D MODULE_INTERFACE_VERSION_CURRENT=630\n",
            "gcc    -std=gnu99 -W -Wall -Wextra -O2 -pipe -Iinclude/ -IOpenCL/ -Ideps/LZMA-SDK/C -Ideps/zlib -Ideps/zlib/contrib -Ideps/OpenCL-Headers -DWITH_BRAIN -Ideps/xxHash -DWITH_CUBIN -Ideps/unrar -DWITH_HWMON src/modules/module_21700.c obj/combined.NATIVE.a -o modules/module_21700.so  -s -lstdc++ -lpthread -ldl -lrt -lm -shared -fPIC -D MODULE_INTERFACE_VERSION_CURRENT=630\n",
            "gcc    -std=gnu99 -W -Wall -Wextra -O2 -pipe -Iinclude/ -IOpenCL/ -Ideps/LZMA-SDK/C -Ideps/zlib -Ideps/zlib/contrib -Ideps/OpenCL-Headers -DWITH_BRAIN -Ideps/xxHash -DWITH_CUBIN -Ideps/unrar -DWITH_HWMON src/modules/module_17200.c obj/combined.NATIVE.a -o modules/module_17200.so  -s -lstdc++ -lpthread -ldl -lrt -lm -shared -fPIC -D MODULE_INTERFACE_VERSION_CURRENT=630\n",
            "gcc    -std=gnu99 -W -Wall -Wextra -O2 -pipe -Iinclude/ -IOpenCL/ -Ideps/LZMA-SDK/C -Ideps/zlib -Ideps/zlib/contrib -Ideps/OpenCL-Headers -DWITH_BRAIN -Ideps/xxHash -DWITH_CUBIN -Ideps/unrar -DWITH_HWMON src/modules/module_00122.c obj/combined.NATIVE.a -o modules/module_00122.so  -s -lstdc++ -lpthread -ldl -lrt -lm -shared -fPIC -D MODULE_INTERFACE_VERSION_CURRENT=630\n",
            "gcc    -std=gnu99 -W -Wall -Wextra -O2 -pipe -Iinclude/ -IOpenCL/ -Ideps/LZMA-SDK/C -Ideps/zlib -Ideps/zlib/contrib -Ideps/OpenCL-Headers -DWITH_BRAIN -Ideps/xxHash -DWITH_CUBIN -Ideps/unrar -DWITH_HWMON src/modules/module_07300.c obj/combined.NATIVE.a -o modules/module_07300.so  -s -lstdc++ -lpthread -ldl -lrt -lm -shared -fPIC -D MODULE_INTERFACE_VERSION_CURRENT=630\n",
            "gcc    -std=gnu99 -W -Wall -Wextra -O2 -pipe -Iinclude/ -IOpenCL/ -Ideps/LZMA-SDK/C -Ideps/zlib -Ideps/zlib/contrib -Ideps/OpenCL-Headers -DWITH_BRAIN -Ideps/xxHash -DWITH_CUBIN -Ideps/unrar -DWITH_HWMON src/modules/module_20200.c obj/combined.NATIVE.a -o modules/module_20200.so  -s -lstdc++ -lpthread -ldl -lrt -lm -shared -fPIC -D MODULE_INTERFACE_VERSION_CURRENT=630\n",
            "gcc    -std=gnu99 -W -Wall -Wextra -O2 -pipe -Iinclude/ -IOpenCL/ -Ideps/LZMA-SDK/C -Ideps/zlib -Ideps/zlib/contrib -Ideps/OpenCL-Headers -DWITH_BRAIN -Ideps/xxHash -DWITH_CUBIN -Ideps/unrar -DWITH_HWMON src/modules/module_07801.c obj/combined.NATIVE.a -o modules/module_07801.so  -s -lstdc++ -lpthread -ldl -lrt -lm -shared -fPIC -D MODULE_INTERFACE_VERSION_CURRENT=630\n",
            "gcc    -std=gnu99 -W -Wall -Wextra -O2 -pipe -Iinclude/ -IOpenCL/ -Ideps/LZMA-SDK/C -Ideps/zlib -Ideps/zlib/contrib -Ideps/OpenCL-Headers -DWITH_BRAIN -Ideps/xxHash -DWITH_CUBIN -Ideps/unrar -DWITH_HWMON src/modules/module_07701.c obj/combined.NATIVE.a -o modules/module_07701.so  -s -lstdc++ -lpthread -ldl -lrt -lm -shared -fPIC -D MODULE_INTERFACE_VERSION_CURRENT=630\n",
            "gcc    -std=gnu99 -W -Wall -Wextra -O2 -pipe -Iinclude/ -IOpenCL/ -Ideps/LZMA-SDK/C -Ideps/zlib -Ideps/zlib/contrib -Ideps/OpenCL-Headers -DWITH_BRAIN -Ideps/xxHash -DWITH_CUBIN -Ideps/unrar -DWITH_HWMON src/modules/module_17300.c obj/combined.NATIVE.a -o modules/module_17300.so  -s -lstdc++ -lpthread -ldl -lrt -lm -shared -fPIC -D MODULE_INTERFACE_VERSION_CURRENT=630\n",
            "gcc    -std=gnu99 -W -Wall -Wextra -O2 -pipe -Iinclude/ -IOpenCL/ -Ideps/LZMA-SDK/C -Ideps/zlib -Ideps/zlib/contrib -Ideps/OpenCL-Headers -DWITH_BRAIN -Ideps/xxHash -DWITH_CUBIN -Ideps/unrar -DWITH_HWMON src/modules/module_23800.c obj/combined.NATIVE.a -o modules/module_23800.so  -s -lstdc++ -lpthread -ldl -lrt -lm -shared -fPIC -D MODULE_INTERFACE_VERSION_CURRENT=630\n",
            "gcc    -std=gnu99 -W -Wall -Wextra -O2 -pipe -Iinclude/ -IOpenCL/ -Ideps/LZMA-SDK/C -Ideps/zlib -Ideps/zlib/contrib -Ideps/OpenCL-Headers -DWITH_BRAIN -Ideps/xxHash -DWITH_CUBIN -Ideps/unrar -DWITH_HWMON src/modules/module_03910.c obj/combined.NATIVE.a -o modules/module_03910.so  -s -lstdc++ -lpthread -ldl -lrt -lm -shared -fPIC -D MODULE_INTERFACE_VERSION_CURRENT=630\n",
            "gcc    -std=gnu99 -W -Wall -Wextra -O2 -pipe -Iinclude/ -IOpenCL/ -Ideps/LZMA-SDK/C -Ideps/zlib -Ideps/zlib/contrib -Ideps/OpenCL-Headers -DWITH_BRAIN -Ideps/xxHash -DWITH_CUBIN -Ideps/unrar -DWITH_HWMON src/modules/module_00030.c obj/combined.NATIVE.a -o modules/module_00030.so  -s -lstdc++ -lpthread -ldl -lrt -lm -shared -fPIC -D MODULE_INTERFACE_VERSION_CURRENT=630\n",
            "gcc    -std=gnu99 -W -Wall -Wextra -O2 -pipe -Iinclude/ -IOpenCL/ -Ideps/LZMA-SDK/C -Ideps/zlib -Ideps/zlib/contrib -Ideps/OpenCL-Headers -DWITH_BRAIN -Ideps/xxHash -DWITH_CUBIN -Ideps/unrar -DWITH_HWMON src/modules/module_21000.c obj/combined.NATIVE.a -o modules/module_21000.so  -s -lstdc++ -lpthread -ldl -lrt -lm -shared -fPIC -D MODULE_INTERFACE_VERSION_CURRENT=630\n",
            "gcc    -std=gnu99 -W -Wall -Wextra -O2 -pipe -Iinclude/ -IOpenCL/ -Ideps/LZMA-SDK/C -Ideps/zlib -Ideps/zlib/contrib -Ideps/OpenCL-Headers -DWITH_BRAIN -Ideps/xxHash -DWITH_CUBIN -Ideps/unrar -DWITH_HWMON src/modules/module_01720.c obj/combined.NATIVE.a -o modules/module_01720.so  -s -lstdc++ -lpthread -ldl -lrt -lm -shared -fPIC -D MODULE_INTERFACE_VERSION_CURRENT=630\n",
            "gcc    -std=gnu99 -W -Wall -Wextra -O2 -pipe -Iinclude/ -IOpenCL/ -Ideps/LZMA-SDK/C -Ideps/zlib -Ideps/zlib/contrib -Ideps/OpenCL-Headers -DWITH_BRAIN -Ideps/xxHash -DWITH_CUBIN -Ideps/unrar -DWITH_HWMON src/modules/module_09710.c obj/combined.NATIVE.a -o modules/module_09710.so  -s -lstdc++ -lpthread -ldl -lrt -lm -shared -fPIC -D MODULE_INTERFACE_VERSION_CURRENT=630\n",
            "gcc    -std=gnu99 -W -Wall -Wextra -O2 -pipe -Iinclude/ -IOpenCL/ -Ideps/LZMA-SDK/C -Ideps/zlib -Ideps/zlib/contrib -Ideps/OpenCL-Headers -DWITH_BRAIN -Ideps/xxHash -DWITH_CUBIN -Ideps/unrar -DWITH_HWMON src/modules/module_02611.c obj/combined.NATIVE.a -o modules/module_02611.so  -s -lstdc++ -lpthread -ldl -lrt -lm -shared -fPIC -D MODULE_INTERFACE_VERSION_CURRENT=630\n",
            "gcc    -std=gnu99 -W -Wall -Wextra -O2 -pipe -Iinclude/ -IOpenCL/ -Ideps/LZMA-SDK/C -Ideps/zlib -Ideps/zlib/contrib -Ideps/OpenCL-Headers -DWITH_BRAIN -Ideps/xxHash -DWITH_CUBIN -Ideps/unrar -DWITH_HWMON src/modules/module_09100.c obj/combined.NATIVE.a -o modules/module_09100.so  -s -lstdc++ -lpthread -ldl -lrt -lm -shared -fPIC -D MODULE_INTERFACE_VERSION_CURRENT=630\n",
            "gcc    -std=gnu99 -W -Wall -Wextra -O2 -pipe -Iinclude/ -IOpenCL/ -Ideps/LZMA-SDK/C -Ideps/zlib -Ideps/zlib/contrib -Ideps/OpenCL-Headers -DWITH_BRAIN -Ideps/xxHash -DWITH_CUBIN -Ideps/unrar -DWITH_HWMON src/modules/module_05300.c obj/combined.NATIVE.a -o modules/module_05300.so  -s -lstdc++ -lpthread -ldl -lrt -lm -shared -fPIC -D MODULE_INTERFACE_VERSION_CURRENT=630\n",
            "gcc    -std=gnu99 -W -Wall -Wextra -O2 -pipe -Iinclude/ -IOpenCL/ -Ideps/LZMA-SDK/C -Ideps/zlib -Ideps/zlib/contrib -Ideps/OpenCL-Headers -DWITH_BRAIN -Ideps/xxHash -DWITH_CUBIN -Ideps/unrar -DWITH_HWMON src/modules/module_01410.c obj/combined.NATIVE.a -o modules/module_01410.so  -s -lstdc++ -lpthread -ldl -lrt -lm -shared -fPIC -D MODULE_INTERFACE_VERSION_CURRENT=630\n",
            "gcc    -std=gnu99 -W -Wall -Wextra -O2 -pipe -Iinclude/ -IOpenCL/ -Ideps/LZMA-SDK/C -Ideps/zlib -Ideps/zlib/contrib -Ideps/OpenCL-Headers -DWITH_BRAIN -Ideps/xxHash -DWITH_CUBIN -Ideps/unrar -DWITH_HWMON src/modules/module_00141.c obj/combined.NATIVE.a -o modules/module_00141.so  -s -lstdc++ -lpthread -ldl -lrt -lm -shared -fPIC -D MODULE_INTERFACE_VERSION_CURRENT=630\n",
            "gcc    -std=gnu99 -W -Wall -Wextra -O2 -pipe -Iinclude/ -IOpenCL/ -Ideps/LZMA-SDK/C -Ideps/zlib -Ideps/zlib/contrib -Ideps/OpenCL-Headers -DWITH_BRAIN -Ideps/xxHash -DWITH_CUBIN -Ideps/unrar -DWITH_HWMON src/modules/module_21500.c obj/combined.NATIVE.a -o modules/module_21500.so  -s -lstdc++ -lpthread -ldl -lrt -lm -shared -fPIC -D MODULE_INTERFACE_VERSION_CURRENT=630\n",
            "gcc    -std=gnu99 -W -Wall -Wextra -O2 -pipe -Iinclude/ -IOpenCL/ -Ideps/LZMA-SDK/C -Ideps/zlib -Ideps/zlib/contrib -Ideps/OpenCL-Headers -DWITH_BRAIN -Ideps/xxHash -DWITH_CUBIN -Ideps/unrar -DWITH_HWMON src/modules/module_26800.c obj/combined.NATIVE.a -o modules/module_26800.so  -s -lstdc++ -lpthread -ldl -lrt -lm -shared -fPIC -D MODULE_INTERFACE_VERSION_CURRENT=630\n",
            "gcc    -std=gnu99 -W -Wall -Wextra -O2 -pipe -Iinclude/ -IOpenCL/ -Ideps/LZMA-SDK/C -Ideps/zlib -Ideps/zlib/contrib -Ideps/OpenCL-Headers -DWITH_BRAIN -Ideps/xxHash -DWITH_CUBIN -Ideps/unrar -DWITH_HWMON src/modules/module_06221.c obj/combined.NATIVE.a -o modules/module_06221.so  -s -lstdc++ -lpthread -ldl -lrt -lm -shared -fPIC -D MODULE_INTERFACE_VERSION_CURRENT=630\n",
            "gcc    -std=gnu99 -W -Wall -Wextra -O2 -pipe -Iinclude/ -IOpenCL/ -Ideps/LZMA-SDK/C -Ideps/zlib -Ideps/zlib/contrib -Ideps/OpenCL-Headers -DWITH_BRAIN -Ideps/xxHash -DWITH_CUBIN -Ideps/unrar -DWITH_HWMON src/modules/module_14000.c obj/combined.NATIVE.a -o modules/module_14000.so  -s -lstdc++ -lpthread -ldl -lrt -lm -shared -fPIC -D MODULE_INTERFACE_VERSION_CURRENT=630\n",
            "gcc    -std=gnu99 -W -Wall -Wextra -O2 -pipe -Iinclude/ -IOpenCL/ -Ideps/LZMA-SDK/C -Ideps/zlib -Ideps/zlib/contrib -Ideps/OpenCL-Headers -DWITH_BRAIN -Ideps/xxHash -DWITH_CUBIN -Ideps/unrar -DWITH_HWMON src/modules/module_07200.c obj/combined.NATIVE.a -o modules/module_07200.so  -s -lstdc++ -lpthread -ldl -lrt -lm -shared -fPIC -D MODULE_INTERFACE_VERSION_CURRENT=630\n",
            "gcc    -std=gnu99 -W -Wall -Wextra -O2 -pipe -Iinclude/ -IOpenCL/ -Ideps/LZMA-SDK/C -Ideps/zlib -Ideps/zlib/contrib -Ideps/OpenCL-Headers -DWITH_BRAIN -Ideps/xxHash -DWITH_CUBIN -Ideps/unrar -DWITH_HWMON src/modules/module_26100.c obj/combined.NATIVE.a -o modules/module_26100.so  -s -lstdc++ -lpthread -ldl -lrt -lm -shared -fPIC -D MODULE_INTERFACE_VERSION_CURRENT=630\n",
            "gcc    -std=gnu99 -W -Wall -Wextra -O2 -pipe -Iinclude/ -IOpenCL/ -Ideps/LZMA-SDK/C -Ideps/zlib -Ideps/zlib/contrib -Ideps/OpenCL-Headers -DWITH_BRAIN -Ideps/xxHash -DWITH_CUBIN -Ideps/unrar -DWITH_HWMON src/modules/module_01700.c obj/combined.NATIVE.a -o modules/module_01700.so  -s -lstdc++ -lpthread -ldl -lrt -lm -shared -fPIC -D MODULE_INTERFACE_VERSION_CURRENT=630\n",
            "gcc    -std=gnu99 -W -Wall -Wextra -O2 -pipe -Iinclude/ -IOpenCL/ -Ideps/LZMA-SDK/C -Ideps/zlib -Ideps/zlib/contrib -Ideps/OpenCL-Headers -DWITH_BRAIN -Ideps/xxHash -DWITH_CUBIN -Ideps/unrar -DWITH_HWMON src/modules/module_13762.c obj/combined.NATIVE.a -o modules/module_13762.so  -s -lstdc++ -lpthread -ldl -lrt -lm -shared -fPIC -D MODULE_INTERFACE_VERSION_CURRENT=630\n",
            "gcc    -std=gnu99 -W -Wall -Wextra -O2 -pipe -Iinclude/ -IOpenCL/ -Ideps/LZMA-SDK/C -Ideps/zlib -Ideps/zlib/contrib -Ideps/OpenCL-Headers -DWITH_BRAIN -Ideps/xxHash -DWITH_CUBIN -Ideps/unrar -DWITH_HWMON src/modules/module_22600.c obj/combined.NATIVE.a -o modules/module_22600.so  -s -lstdc++ -lpthread -ldl -lrt -lm -shared -fPIC -D MODULE_INTERFACE_VERSION_CURRENT=630\n",
            "gcc    -std=gnu99 -W -Wall -Wextra -O2 -pipe -Iinclude/ -IOpenCL/ -Ideps/LZMA-SDK/C -Ideps/zlib -Ideps/zlib/contrib -Ideps/OpenCL-Headers -DWITH_BRAIN -Ideps/xxHash -DWITH_CUBIN -Ideps/unrar -DWITH_HWMON src/modules/module_25700.c obj/combined.NATIVE.a -o modules/module_25700.so  -s -lstdc++ -lpthread -ldl -lrt -lm -shared -fPIC -D MODULE_INTERFACE_VERSION_CURRENT=630\n",
            "gcc    -std=gnu99 -W -Wall -Wextra -O2 -pipe -Iinclude/ -IOpenCL/ -Ideps/LZMA-SDK/C -Ideps/zlib -Ideps/zlib/contrib -Ideps/OpenCL-Headers -DWITH_BRAIN -Ideps/xxHash -DWITH_CUBIN -Ideps/unrar -DWITH_HWMON src/modules/module_22400.c obj/combined.NATIVE.a -o modules/module_22400.so  -s -lstdc++ -lpthread -ldl -lrt -lm -shared -fPIC -D MODULE_INTERFACE_VERSION_CURRENT=630\n",
            "gcc    -std=gnu99 -W -Wall -Wextra -O2 -pipe -Iinclude/ -IOpenCL/ -Ideps/LZMA-SDK/C -Ideps/zlib -Ideps/zlib/contrib -Ideps/OpenCL-Headers -DWITH_BRAIN -Ideps/xxHash -DWITH_CUBIN -Ideps/unrar -DWITH_HWMON src/modules/module_00121.c obj/combined.NATIVE.a -o modules/module_00121.so  -s -lstdc++ -lpthread -ldl -lrt -lm -shared -fPIC -D MODULE_INTERFACE_VERSION_CURRENT=630\n",
            "gcc    -std=gnu99 -W -Wall -Wextra -O2 -pipe -Iinclude/ -IOpenCL/ -Ideps/LZMA-SDK/C -Ideps/zlib -Ideps/zlib/contrib -Ideps/OpenCL-Headers -DWITH_BRAIN -Ideps/xxHash -DWITH_CUBIN -Ideps/unrar -DWITH_HWMON src/modules/module_27600.c obj/combined.NATIVE.a -o modules/module_27600.so  -s -lstdc++ -lpthread -ldl -lrt -lm -shared -fPIC -D MODULE_INTERFACE_VERSION_CURRENT=630\n",
            "gcc    -std=gnu99 -W -Wall -Wextra -O2 -pipe -Iinclude/ -IOpenCL/ -Ideps/LZMA-SDK/C -Ideps/zlib -Ideps/zlib/contrib -Ideps/OpenCL-Headers -DWITH_BRAIN -Ideps/xxHash -DWITH_CUBIN -Ideps/unrar -DWITH_HWMON src/modules/module_18000.c obj/combined.NATIVE.a -o modules/module_18000.so  -s -lstdc++ -lpthread -ldl -lrt -lm -shared -fPIC -D MODULE_INTERFACE_VERSION_CURRENT=630\n",
            "gcc    -std=gnu99 -W -Wall -Wextra -O2 -pipe -Iinclude/ -IOpenCL/ -Ideps/LZMA-SDK/C -Ideps/zlib -Ideps/zlib/contrib -Ideps/OpenCL-Headers -DWITH_BRAIN -Ideps/xxHash -DWITH_CUBIN -Ideps/unrar -DWITH_HWMON src/modules/module_26300.c obj/combined.NATIVE.a -o modules/module_26300.so  -s -lstdc++ -lpthread -ldl -lrt -lm -shared -fPIC -D MODULE_INTERFACE_VERSION_CURRENT=630\n",
            "gcc    -std=gnu99 -W -Wall -Wextra -O2 -pipe -Iinclude/ -IOpenCL/ -Ideps/LZMA-SDK/C -Ideps/zlib -Ideps/zlib/contrib -Ideps/OpenCL-Headers -DWITH_BRAIN -Ideps/xxHash -DWITH_CUBIN -Ideps/unrar -DWITH_HWMON src/modules/module_01750.c obj/combined.NATIVE.a -o modules/module_01750.so  -s -lstdc++ -lpthread -ldl -lrt -lm -shared -fPIC -D MODULE_INTERFACE_VERSION_CURRENT=630\n",
            "gcc    -std=gnu99 -W -Wall -Wextra -O2 -pipe -Iinclude/ -IOpenCL/ -Ideps/LZMA-SDK/C -Ideps/zlib -Ideps/zlib/contrib -Ideps/OpenCL-Headers -DWITH_BRAIN -Ideps/xxHash -DWITH_CUBIN -Ideps/unrar -DWITH_HWMON src/modules/module_09400.c obj/combined.NATIVE.a -o modules/module_09400.so  -s -lstdc++ -lpthread -ldl -lrt -lm -shared -fPIC -D MODULE_INTERFACE_VERSION_CURRENT=630\n",
            "gcc    -std=gnu99 -W -Wall -Wextra -O2 -pipe -Iinclude/ -IOpenCL/ -Ideps/LZMA-SDK/C -Ideps/zlib -Ideps/zlib/contrib -Ideps/OpenCL-Headers -DWITH_BRAIN -Ideps/xxHash -DWITH_CUBIN -Ideps/unrar -DWITH_HWMON src/modules/module_17600.c obj/combined.NATIVE.a -o modules/module_17600.so  -s -lstdc++ -lpthread -ldl -lrt -lm -shared -fPIC -D MODULE_INTERFACE_VERSION_CURRENT=630\n",
            "gcc    -std=gnu99 -W -Wall -Wextra -O2 -pipe -Iinclude/ -IOpenCL/ -Ideps/LZMA-SDK/C -Ideps/zlib -Ideps/zlib/contrib -Ideps/OpenCL-Headers -DWITH_BRAIN -Ideps/xxHash -DWITH_CUBIN -Ideps/unrar -DWITH_HWMON src/modules/module_25000.c obj/combined.NATIVE.a -o modules/module_25000.so  -s -lstdc++ -lpthread -ldl -lrt -lm -shared -fPIC -D MODULE_INTERFACE_VERSION_CURRENT=630\n",
            "gcc    -std=gnu99 -W -Wall -Wextra -O2 -pipe -Iinclude/ -IOpenCL/ -Ideps/LZMA-SDK/C -Ideps/zlib -Ideps/zlib/contrib -Ideps/OpenCL-Headers -DWITH_BRAIN -Ideps/xxHash -DWITH_CUBIN -Ideps/unrar -DWITH_HWMON src/modules/module_26402.c obj/combined.NATIVE.a -o modules/module_26402.so  -s -lstdc++ -lpthread -ldl -lrt -lm -shared -fPIC -D MODULE_INTERFACE_VERSION_CURRENT=630\n",
            "gcc    -std=gnu99 -W -Wall -Wextra -O2 -pipe -Iinclude/ -IOpenCL/ -Ideps/LZMA-SDK/C -Ideps/zlib -Ideps/zlib/contrib -Ideps/OpenCL-Headers -DWITH_BRAIN -Ideps/xxHash -DWITH_CUBIN -Ideps/unrar -DWITH_HWMON src/modules/module_13753.c obj/combined.NATIVE.a -o modules/module_13753.so  -s -lstdc++ -lpthread -ldl -lrt -lm -shared -fPIC -D MODULE_INTERFACE_VERSION_CURRENT=630\n",
            "gcc    -std=gnu99 -W -Wall -Wextra -O2 -pipe -Iinclude/ -IOpenCL/ -Ideps/LZMA-SDK/C -Ideps/zlib -Ideps/zlib/contrib -Ideps/OpenCL-Headers -DWITH_BRAIN -Ideps/xxHash -DWITH_CUBIN -Ideps/unrar -DWITH_HWMON src/modules/module_28100.c obj/combined.NATIVE.a -o modules/module_28100.so  -s -lstdc++ -lpthread -ldl -lrt -lm -shared -fPIC -D MODULE_INTERFACE_VERSION_CURRENT=630\n",
            "gcc    -std=gnu99 -W -Wall -Wextra -O2 -pipe -Iinclude/ -IOpenCL/ -Ideps/LZMA-SDK/C -Ideps/zlib -Ideps/zlib/contrib -Ideps/OpenCL-Headers -DWITH_BRAIN -Ideps/xxHash -DWITH_CUBIN -Ideps/unrar -DWITH_HWMON src/modules/module_25600.c obj/combined.NATIVE.a -o modules/module_25600.so  -s -lstdc++ -lpthread -ldl -lrt -lm -shared -fPIC -D MODULE_INTERFACE_VERSION_CURRENT=630\n",
            "gcc    -std=gnu99 -W -Wall -Wextra -O2 -pipe -Iinclude/ -IOpenCL/ -Ideps/LZMA-SDK/C -Ideps/zlib -Ideps/zlib/contrib -Ideps/OpenCL-Headers -DWITH_BRAIN -Ideps/xxHash -DWITH_CUBIN -Ideps/unrar -DWITH_HWMON src/modules/module_13723.c obj/combined.NATIVE.a -o modules/module_13723.so  -s -lstdc++ -lpthread -ldl -lrt -lm -shared -fPIC -D MODULE_INTERFACE_VERSION_CURRENT=630\n",
            "gcc    -std=gnu99 -W -Wall -Wextra -O2 -pipe -Iinclude/ -IOpenCL/ -Ideps/LZMA-SDK/C -Ideps/zlib -Ideps/zlib/contrib -Ideps/OpenCL-Headers -DWITH_BRAIN -Ideps/xxHash -DWITH_CUBIN -Ideps/unrar -DWITH_HWMON src/modules/module_13732.c obj/combined.NATIVE.a -o modules/module_13732.so  -s -lstdc++ -lpthread -ldl -lrt -lm -shared -fPIC -D MODULE_INTERFACE_VERSION_CURRENT=630\n",
            "gcc    -std=gnu99 -W -Wall -Wextra -O2 -pipe -Iinclude/ -IOpenCL/ -Ideps/LZMA-SDK/C -Ideps/zlib -Ideps/zlib/contrib -Ideps/OpenCL-Headers -DWITH_BRAIN -Ideps/xxHash -DWITH_CUBIN -Ideps/unrar -DWITH_HWMON src/modules/module_20510.c obj/combined.NATIVE.a -o modules/module_20510.so  -s -lstdc++ -lpthread -ldl -lrt -lm -shared -fPIC -D MODULE_INTERFACE_VERSION_CURRENT=630\n",
            "gcc    -std=gnu99 -W -Wall -Wextra -O2 -pipe -Iinclude/ -IOpenCL/ -Ideps/LZMA-SDK/C -Ideps/zlib -Ideps/zlib/contrib -Ideps/OpenCL-Headers -DWITH_BRAIN -Ideps/xxHash -DWITH_CUBIN -Ideps/unrar -DWITH_HWMON src/modules/module_00012.c obj/combined.NATIVE.a -o modules/module_00012.so  -s -lstdc++ -lpthread -ldl -lrt -lm -shared -fPIC -D MODULE_INTERFACE_VERSION_CURRENT=630\n",
            "gcc    -std=gnu99 -W -Wall -Wextra -O2 -pipe -Iinclude/ -IOpenCL/ -Ideps/LZMA-SDK/C -Ideps/zlib -Ideps/zlib/contrib -Ideps/OpenCL-Headers -DWITH_BRAIN -Ideps/xxHash -DWITH_CUBIN -Ideps/unrar -DWITH_HWMON src/modules/module_00022.c obj/combined.NATIVE.a -o modules/module_00022.so  -s -lstdc++ -lpthread -ldl -lrt -lm -shared -fPIC -D MODULE_INTERFACE_VERSION_CURRENT=630\n",
            "gcc    -std=gnu99 -W -Wall -Wextra -O2 -pipe -Iinclude/ -IOpenCL/ -Ideps/LZMA-SDK/C -Ideps/zlib -Ideps/zlib/contrib -Ideps/OpenCL-Headers -DWITH_BRAIN -Ideps/xxHash -DWITH_CUBIN -Ideps/unrar -DWITH_HWMON src/modules/module_07700.c obj/combined.NATIVE.a -o modules/module_07700.so  -s -lstdc++ -lpthread -ldl -lrt -lm -shared -fPIC -D MODULE_INTERFACE_VERSION_CURRENT=630\n",
            "gcc    -std=gnu99 -W -Wall -Wextra -O2 -pipe -Iinclude/ -IOpenCL/ -Ideps/LZMA-SDK/C -Ideps/zlib -Ideps/zlib/contrib -Ideps/OpenCL-Headers -DWITH_BRAIN -Ideps/xxHash -DWITH_CUBIN -Ideps/unrar -DWITH_HWMON src/modules/module_06600.c obj/combined.NATIVE.a -o modules/module_06600.so  -s -lstdc++ -lpthread -ldl -lrt -lm -shared -fPIC -D MODULE_INTERFACE_VERSION_CURRENT=630\n",
            "gcc    -std=gnu99 -W -Wall -Wextra -O2 -pipe -Iinclude/ -IOpenCL/ -Ideps/LZMA-SDK/C -Ideps/zlib -Ideps/zlib/contrib -Ideps/OpenCL-Headers -DWITH_BRAIN -Ideps/xxHash -DWITH_CUBIN -Ideps/unrar -DWITH_HWMON src/modules/module_12001.c obj/combined.NATIVE.a -o modules/module_12001.so  -s -lstdc++ -lpthread -ldl -lrt -lm -shared -fPIC -D MODULE_INTERFACE_VERSION_CURRENT=630\n",
            "gcc    -std=gnu99 -W -Wall -Wextra -O2 -pipe -Iinclude/ -IOpenCL/ -Ideps/LZMA-SDK/C -Ideps/zlib -Ideps/zlib/contrib -Ideps/OpenCL-Headers -DWITH_BRAIN -Ideps/xxHash -DWITH_CUBIN -Ideps/unrar -DWITH_HWMON src/modules/module_08400.c obj/combined.NATIVE.a -o modules/module_08400.so  -s -lstdc++ -lpthread -ldl -lrt -lm -shared -fPIC -D MODULE_INTERFACE_VERSION_CURRENT=630\n",
            "gcc    -std=gnu99 -W -Wall -Wextra -O2 -pipe -Iinclude/ -IOpenCL/ -Ideps/LZMA-SDK/C -Ideps/zlib -Ideps/zlib/contrib -Ideps/OpenCL-Headers -DWITH_BRAIN -Ideps/xxHash -DWITH_CUBIN -Ideps/unrar -DWITH_HWMON src/modules/module_14100.c obj/combined.NATIVE.a -o modules/module_14100.so  -s -lstdc++ -lpthread -ldl -lrt -lm -shared -fPIC -D MODULE_INTERFACE_VERSION_CURRENT=630\n",
            "gcc    -std=gnu99 -W -Wall -Wextra -O2 -pipe -Iinclude/ -IOpenCL/ -Ideps/LZMA-SDK/C -Ideps/zlib -Ideps/zlib/contrib -Ideps/OpenCL-Headers -DWITH_BRAIN -Ideps/xxHash -DWITH_CUBIN -Ideps/unrar -DWITH_HWMON src/modules/module_13300.c obj/combined.NATIVE.a -o modules/module_13300.so  -s -lstdc++ -lpthread -ldl -lrt -lm -shared -fPIC -D MODULE_INTERFACE_VERSION_CURRENT=630\n",
            "gcc    -std=gnu99 -W -Wall -Wextra -O2 -pipe -Iinclude/ -IOpenCL/ -Ideps/LZMA-SDK/C -Ideps/zlib -Ideps/zlib/contrib -Ideps/OpenCL-Headers -DWITH_BRAIN -Ideps/xxHash -DWITH_CUBIN -Ideps/unrar -DWITH_HWMON src/modules/module_04800.c obj/combined.NATIVE.a -o modules/module_04800.so  -s -lstdc++ -lpthread -ldl -lrt -lm -shared -fPIC -D MODULE_INTERFACE_VERSION_CURRENT=630\n",
            "gcc    -std=gnu99 -W -Wall -Wextra -O2 -pipe -Iinclude/ -IOpenCL/ -Ideps/LZMA-SDK/C -Ideps/zlib -Ideps/zlib/contrib -Ideps/OpenCL-Headers -DWITH_BRAIN -Ideps/xxHash -DWITH_CUBIN -Ideps/unrar -DWITH_HWMON src/modules/module_22941.c obj/combined.NATIVE.a -o modules/module_22941.so  -s -lstdc++ -lpthread -ldl -lrt -lm -shared -fPIC -D MODULE_INTERFACE_VERSION_CURRENT=630\n",
            "gcc    -std=gnu99 -W -Wall -Wextra -O2 -pipe -Iinclude/ -IOpenCL/ -Ideps/LZMA-SDK/C -Ideps/zlib -Ideps/zlib/contrib -Ideps/OpenCL-Headers -DWITH_BRAIN -Ideps/xxHash -DWITH_CUBIN -Ideps/unrar -DWITH_HWMON src/modules/module_23200.c obj/combined.NATIVE.a -o modules/module_23200.so  -s -lstdc++ -lpthread -ldl -lrt -lm -shared -fPIC -D MODULE_INTERFACE_VERSION_CURRENT=630\n",
            "gcc    -std=gnu99 -W -Wall -Wextra -O2 -pipe -Iinclude/ -IOpenCL/ -Ideps/LZMA-SDK/C -Ideps/zlib -Ideps/zlib/contrib -Ideps/OpenCL-Headers -DWITH_BRAIN -Ideps/xxHash -DWITH_CUBIN -Ideps/unrar -DWITH_HWMON src/modules/module_00900.c obj/combined.NATIVE.a -o modules/module_00900.so  -s -lstdc++ -lpthread -ldl -lrt -lm -shared -fPIC -D MODULE_INTERFACE_VERSION_CURRENT=630\n"
          ]
        }
      ],
      "source": [
        "#installing hashcat queitly\n",
        "!apt-get -qq install cmake build-essential -y \n",
        "!apt-get -qq install checkinstall git -y\n",
        "!git clone https://github.com/hashcat/hashcat.git > /dev/null\n",
        "!cd hashcat && git submodule update --init && make && make install >/dev/null\n"
      ]
    },
    {
      "cell_type": "code",
      "execution_count": null,
      "metadata": {
        "colab": {
          "base_uri": "https://localhost:8080/"
        },
        "id": "ls7RHdn-8kTM",
        "outputId": "671e0840-e066-4d47-a864-0ba6e6dd70cf"
      },
      "outputs": [
        {
          "name": "stdout",
          "output_type": "stream",
          "text": [
            "v6.2.5-16-g040fb3b7e\n"
          ]
        }
      ],
      "source": [
        "#checking for hashcat successful installation\n",
        "!hashcat --version"
      ]
    },
    {
      "cell_type": "markdown",
      "metadata": {
        "id": "SP3Zi-kmdj-f"
      },
      "source": [
        "# **--------------------Crack Hash Here--------------------**\n",
        "\n",
        "\n",
        "\n",
        "1.   Identifying the hash\n",
        "  1. Online STH\n",
        "  2. Offline STH\n",
        "  3. Hashid -> Gives the mode for hashcast and jtr in the output \n",
        "  4. Hash-identifier\n",
        "  5. Haiti -> Gives the mode for hashcast and jtr in the output \n",
        "\n",
        "2.   Crack The HASH\n",
        "  1. Using JTR\n",
        "  2. Using Hashcat\n",
        "\n",
        "\n",
        "\n"
      ]
    },
    {
      "cell_type": "markdown",
      "metadata": {
        "id": "FZl0x-EAQSNl"
      },
      "source": [
        "Enter The hash here || (Escape each $ with a '\\ ' )"
      ]
    },
    {
      "cell_type": "code",
      "execution_count": null,
      "metadata": {
        "colab": {
          "base_uri": "https://localhost:8080/"
        },
        "id": "ElOrpUI_KfSE",
        "outputId": "9c2333ca-d078-4015-a877-b8547fff1a6e"
      },
      "outputs": [
        {
          "name": "stdout",
          "output_type": "stream",
          "text": [
            "4bc9ae2b9236c2ad02d81491dcb51d5f\n"
          ]
        }
      ],
      "source": [
        "!echo \"4bc9ae2b9236c2ad02d81491dcb51d5f\" > /root/remote/hash.txt && cat /root/remote/hash.txt"
      ]
    },
    {
      "cell_type": "markdown",
      "metadata": {
        "id": "MWUPElIr_iNc"
      },
      "source": [
        "## **Indentifying the HASH**"
      ]
    },
    {
      "cell_type": "markdown",
      "metadata": {
        "id": "lM92i2SVAN-z"
      },
      "source": [
        "### Online sth (Escape each $ with a '\\')"
      ]
    },
    {
      "cell_type": "code",
      "execution_count": null,
      "metadata": {
        "colab": {
          "base_uri": "https://localhost:8080/"
        },
        "id": "jqSX4xeNdcde",
        "outputId": "e2a9e11d-3413-47ad-e584-19ad53d5eebd"
      },
      "outputs": [
        {
          "name": "stdout",
          "output_type": "stream",
          "text": [
            "\n",
            "\u001b[1;34m  _____                     _        _______ _           _          _    _      \u001b[0m\n",
            "\u001b[1;34m_\u001b[0m\n",
            "\u001b[1;34m / ____|                   | |      |__   __| |         | |        | |  | |     \u001b[0m\n",
            "\u001b[1;34m| |\u001b[0m\n",
            "\u001b[1;34m| (___   ___  __ _ _ __ ___| |__ ______| |  | |__   __ _| |_ ______| |__| | __ _\u001b[0m\n",
            "\u001b[1;34m___| |__\u001b[0m\n",
            "\u001b[1;34m \\___ \\ / _ \\/ _` | '__/ __| '_ \\______| |  | '_ \\ / _` | __|______|  __  |/ _` \u001b[0m\n",
            "\u001b[1;34m/ __| '_ \\\u001b[0m\n",
            "\u001b[1;34m ____) |  __/ (_| | | | (__| | | |     | |  | | | | (_| | |_       | |  | | (_| \u001b[0m\n",
            "\u001b[1;34m\\__ \\ | | |\u001b[0m\n",
            "\u001b[1;34m|_____/ \\___|\\__,_|_|  \\___|_| |_|     |_|  |_| |_|\\__,_|\\__|      |_|  \u001b[0m\n",
            "\u001b[1;34m|_|\\__,_|___/_| |_|\u001b[0m\n",
            "\u001b[1;34m        \u001b[0m\n",
            "\u001b[1;4;34mhttps://twitter.com/bee_sec_san\u001b[0m\n",
            "\u001b[1;4;34mhttps://github.com/HashPals/Search-That-Hash\u001b[0m\n",
            "\u001b[1;4;34mhttps://twitter.com/Jayy_2004\u001b[0m\n",
            "hashcat (v6.2.5-16-g040fb3b7e) starting\n",
            "\n",
            "\u001b[31mNone: No such file or directory\u001b[0m\n",
            "\n",
            "Started: Wed Dec  1 18:07:08 2021\n",
            "Stopped: Wed Dec  1 18:07:08 2021\n",
            "\n",
            "\n",
            "\u001b[1;30;101miggoMlbNoW1Cc\u001b[0m\n",
            "\n",
            "\u001b[1;4;91mError\u001b[0m: \u001b[1;91mCould not crack hash.\u001b[0m\n"
          ]
        }
      ],
      "source": [
        "!sth -t \"iggoMlbNoW1Cc\""
      ]
    },
    {
      "cell_type": "code",
      "execution_count": null,
      "metadata": {
        "colab": {
          "base_uri": "https://localhost:8080/"
        },
        "id": "sXUWbKikgjLx",
        "outputId": "3f893924-7352-43d4-e777-78164f2c3146"
      },
      "outputs": [
        {
          "name": "stdout",
          "output_type": "stream",
          "text": [
            "\n",
            "\u001b[1;34m  _____                     _        _______ _           _          _    _      \u001b[0m\n",
            "\u001b[1;34m_\u001b[0m\n",
            "\u001b[1;34m / ____|                   | |      |__   __| |         | |        | |  | |     \u001b[0m\n",
            "\u001b[1;34m| |\u001b[0m\n",
            "\u001b[1;34m| (___   ___  __ _ _ __ ___| |__ ______| |  | |__   __ _| |_ ______| |__| | __ _\u001b[0m\n",
            "\u001b[1;34m___| |__\u001b[0m\n",
            "\u001b[1;34m \\___ \\ / _ \\/ _` | '__/ __| '_ \\______| |  | '_ \\ / _` | __|______|  __  |/ _` \u001b[0m\n",
            "\u001b[1;34m/ __| '_ \\\u001b[0m\n",
            "\u001b[1;34m ____) |  __/ (_| | | | (__| | | |     | |  | | | | (_| | |_       | |  | | (_| \u001b[0m\n",
            "\u001b[1;34m\\__ \\ | | |\u001b[0m\n",
            "\u001b[1;34m|_____/ \\___|\\__,_|_|  \\___|_| |_|     |_|  |_| |_|\\__,_|\\__|      |_|  \u001b[0m\n",
            "\u001b[1;34m|_|\\__,_|___/_| |_|\u001b[0m\n",
            "\u001b[1;34m        \u001b[0m\n",
            "\u001b[1;4;34mhttps://twitter.com/bee_sec_san\u001b[0m\n",
            "\u001b[1;4;34mhttps://github.com/HashPals/Search-That-Hash\u001b[0m\n",
            "\u001b[1;4;34mhttps://twitter.com/Jayy_2004\u001b[0m\n",
            "hashcat (v6.2.4-82-g3f4dca13f) starting\n",
            "\n",
            "\u001b[31mNone: No such file or directory\u001b[0m\n",
            "\n",
            "Started: Sun Oct  3 19:13:54 2021\n",
            "Stopped: Sun Oct  3 19:13:54 2021\n",
            "\n",
            "\n",
            "\u001b[1;30;101me5d8870e5bdd26602cab8dbe07a942c8669e56d6:tryhackme\u001b[0m\n",
            "\n",
            "\u001b[1;4;91mError\u001b[0m: \u001b[1;91mCould not crack hash.\u001b[0m\n"
          ]
        }
      ],
      "source": [
        "!sth -f /root/remote/hash.txt"
      ]
    },
    {
      "cell_type": "markdown",
      "metadata": {
        "id": "g8bE6TwTASrK"
      },
      "source": [
        "### Offline STH"
      ]
    },
    {
      "cell_type": "code",
      "execution_count": null,
      "metadata": {
        "colab": {
          "base_uri": "https://localhost:8080/"
        },
        "id": "IBaBF2zSAVHi",
        "outputId": "81495bef-9acd-48f0-f996-148af2ac3985"
      },
      "outputs": [
        {
          "name": "stdout",
          "output_type": "stream",
          "text": [
            "\n",
            "\u001b[1;34m  _____                     _        _______ _           _          _    _      \u001b[0m\n",
            "\u001b[1;34m_\u001b[0m\n",
            "\u001b[1;34m / ____|                   | |      |__   __| |         | |        | |  | |     \u001b[0m\n",
            "\u001b[1;34m| |\u001b[0m\n",
            "\u001b[1;34m| (___   ___  __ _ _ __ ___| |__ ______| |  | |__   __ _| |_ ______| |__| | __ _\u001b[0m\n",
            "\u001b[1;34m___| |__\u001b[0m\n",
            "\u001b[1;34m \\___ \\ / _ \\/ _` | '__/ __| '_ \\______| |  | '_ \\ / _` | __|______|  __  |/ _` \u001b[0m\n",
            "\u001b[1;34m/ __| '_ \\\u001b[0m\n",
            "\u001b[1;34m ____) |  __/ (_| | | | (__| | | |     | |  | | | | (_| | |_       | |  | | (_| \u001b[0m\n",
            "\u001b[1;34m\\__ \\ | | |\u001b[0m\n",
            "\u001b[1;34m|_____/ \\___|\\__,_|_|  \\___|_| |_|     |_|  |_| |_|\\__,_|\\__|      |_|  \u001b[0m\n",
            "\u001b[1;34m|_|\\__,_|___/_| |_|\u001b[0m\n",
            "\u001b[1;34m        \u001b[0m\n",
            "\u001b[1;4;34mhttps://twitter.com/bee_sec_san\u001b[0m\n",
            "\u001b[1;4;34mhttps://github.com/HashPals/Search-That-Hash\u001b[0m\n",
            "\u001b[1;4;34mhttps://twitter.com/Jayy_2004\u001b[0m\n",
            "hashcat (v6.2.4-82-g3f4dca13f) starting\n",
            "\n",
            "\u001b[31mcuInit(): no CUDA-capable device is detected\u001b[0m\n",
            "\n",
            "\u001b[31mclGetPlatformIDs(): CL_PLATFORM_NOT_FOUND_KHR\u001b[0m\n",
            "\n",
            "\u001b[31mATTENTION! No OpenCL-compatible, HIP-compatible or CUDA-compatible platform found.\u001b[0m\n",
            "\n",
            "\u001b[33mYou are probably missing the OpenCL, CUDA or HIP runtime installation.\u001b[0m\n",
            "\u001b[33m\u001b[0m\n",
            "\u001b[33m* AMD GPUs on Linux require this driver:\u001b[0m\n",
            "\u001b[33m  \"AMD ROCm\" (4.3 or later)\u001b[0m\n",
            "\u001b[33m* Intel CPUs require this runtime:\u001b[0m\n",
            "\u001b[33m  \"OpenCL Runtime for Intel Core and Intel Xeon Processors\" (16.1.1 or later)\u001b[0m\n",
            "\u001b[33m* NVIDIA GPUs require this runtime and/or driver (both):\u001b[0m\n",
            "\u001b[33m  \"NVIDIA Driver\" (440.64 or later)\u001b[0m\n",
            "\u001b[33m  \"CUDA Toolkit\" (9.0 or later)\u001b[0m\n",
            "\u001b[33m\u001b[0m\n",
            "Started: Sun Oct  3 23:40:56 2021\n",
            "\u001b[2K\rStopped: Sun Oct  3 23:40:57 2021\n",
            "\n",
            "\n",
            "\u001b[1;30;101m4bc9ae2b9236c2ad02d81491dcb51d5f\u001b[0m\n",
            "\n",
            "\u001b[1;4;91mError\u001b[0m: \u001b[1;91mCould not crack hash.\u001b[0m\n"
          ]
        }
      ],
      "source": [
        "!sth -f /root/remote/hash.txt -o -w /root/remote/rockyou.txt"
      ]
    },
    {
      "cell_type": "markdown",
      "metadata": {
        "id": "45IQstW_A3xq"
      },
      "source": [
        "### Hashid "
      ]
    },
    {
      "cell_type": "code",
      "execution_count": null,
      "metadata": {
        "colab": {
          "base_uri": "https://localhost:8080/"
        },
        "id": "ELhQg7A5A8nq",
        "outputId": "36b1bfb4-654d-4559-f48f-f29ab614eca3"
      },
      "outputs": [
        {
          "name": "stdout",
          "output_type": "stream",
          "text": [
            "\n",
            "WARNING: apt does not have a stable CLI interface. Use with caution in scripts.\n",
            "\n",
            "debconf: unable to initialize frontend: Dialog\n",
            "debconf: (No usable dialog-like program is installed, so the dialog based frontend cannot be used. at /usr/share/perl5/Debconf/FrontEnd/Dialog.pm line 76, <> line 1.)\n",
            "debconf: falling back to frontend: Readline\n",
            "debconf: unable to initialize frontend: Readline\n",
            "debconf: (This frontend requires a controlling tty.)\n",
            "debconf: falling back to frontend: Teletype\n",
            "dpkg-preconfigure: unable to re-open stdin: \n"
          ]
        }
      ],
      "source": [
        "!sudo apt install hashid > /dev/null"
      ]
    },
    {
      "cell_type": "code",
      "execution_count": null,
      "metadata": {
        "colab": {
          "base_uri": "https://localhost:8080/"
        },
        "id": "5w4AgndhBIe1",
        "outputId": "a4932d76-7bfe-4030-c9f9-12ab160d5fb8"
      },
      "outputs": [
        {
          "name": "stdout",
          "output_type": "stream",
          "text": [
            "Analyzing '4bc9ae2b9236c2ad02d81491dcb51d5f'\n",
            "[+] MD2 [JtR Format: md2]\n",
            "[+] MD5 [Hashcat Mode: 0][JtR Format: raw-md5]\n",
            "[+] MD4 [Hashcat Mode: 900][JtR Format: raw-md4]\n",
            "[+] Double MD5 [Hashcat Mode: 2600]\n",
            "[+] LM [Hashcat Mode: 3000][JtR Format: lm]\n",
            "[+] RIPEMD-128 [JtR Format: ripemd-128]\n",
            "[+] Haval-128 [JtR Format: haval-128-4]\n",
            "[+] Tiger-128 \n",
            "[+] Skein-256(128) \n",
            "[+] Skein-512(128) \n",
            "[+] Lotus Notes/Domino 5 [Hashcat Mode: 8600][JtR Format: lotus5]\n",
            "[+] Skype [Hashcat Mode: 23]\n",
            "[+] ZipMonster \n",
            "[+] PrestaShop [Hashcat Mode: 11000]\n",
            "[+] md5(md5(md5($pass))) [Hashcat Mode: 3500]\n",
            "[+] md5(strtoupper(md5($pass))) [Hashcat Mode: 4300]\n",
            "[+] md5(sha1($pass)) [Hashcat Mode: 4400]\n",
            "[+] md5($pass.$salt) [Hashcat Mode: 10]\n",
            "[+] md5($salt.$pass) [Hashcat Mode: 20]\n",
            "[+] md5(unicode($pass).$salt) [Hashcat Mode: 30]\n",
            "[+] md5($salt.unicode($pass)) [Hashcat Mode: 40]\n",
            "[+] HMAC-MD5 (key = $pass) [Hashcat Mode: 50][JtR Format: hmac-md5]\n",
            "[+] HMAC-MD5 (key = $salt) [Hashcat Mode: 60][JtR Format: hmac-md5]\n",
            "[+] md5(md5($salt).$pass) [Hashcat Mode: 3610]\n",
            "[+] md5($salt.md5($pass)) [Hashcat Mode: 3710]\n",
            "[+] md5($pass.md5($salt)) [Hashcat Mode: 3720]\n",
            "[+] md5($salt.$pass.$salt) [Hashcat Mode: 3810]\n",
            "[+] md5(md5($pass).md5($salt)) [Hashcat Mode: 3910]\n",
            "[+] md5($salt.md5($salt.$pass)) [Hashcat Mode: 4010]\n",
            "[+] md5($salt.md5($pass.$salt)) [Hashcat Mode: 4110]\n",
            "[+] md5($username.0.$pass) [Hashcat Mode: 4210]\n",
            "[+] Snefru-128 [JtR Format: snefru-128]\n",
            "[+] NTLM [Hashcat Mode: 1000][JtR Format: nt]\n",
            "[+] Domain Cached Credentials [Hashcat Mode: 1100][JtR Format: mscach]\n",
            "[+] Domain Cached Credentials 2 [Hashcat Mode: 2100][JtR Format: mscach2]\n",
            "[+] DNSSEC(NSEC3) [Hashcat Mode: 8300]\n",
            "[+] RAdmin v2.x [Hashcat Mode: 9900][JtR Format: radmin]\n",
            "[+] Cisco Type 7 \n",
            "[+] BigCrypt [JtR Format: bigcrypt]\n"
          ]
        }
      ],
      "source": [
        "!hashid -ejm \"4bc9ae2b9236c2ad02d81491dcb51d5f\""
      ]
    },
    {
      "cell_type": "markdown",
      "metadata": {
        "id": "MKw7T-HUBTlK"
      },
      "source": [
        "### Hash-identifier"
      ]
    },
    {
      "cell_type": "code",
      "execution_count": null,
      "metadata": {
        "id": "CANZLCyvBYHi"
      },
      "outputs": [],
      "source": [
        "!cd /root/remote/ && wget -q https://gitlab.com/kalilinux/packages/hash-identifier/-/raw/kali/master/hash-id.py"
      ]
    },
    {
      "cell_type": "code",
      "execution_count": null,
      "metadata": {
        "id": "bx0EDFv2CE7L"
      },
      "outputs": [],
      "source": [
        "!python3 /root/remote/hash-id.py"
      ]
    },
    {
      "cell_type": "markdown",
      "metadata": {
        "id": "OIHqOrNR69WZ"
      },
      "source": [
        "### Haiti"
      ]
    },
    {
      "cell_type": "code",
      "execution_count": null,
      "metadata": {
        "colab": {
          "base_uri": "https://localhost:8080/"
        },
        "id": "Yc0fSLvX7NCj",
        "outputId": "c95901d9-1876-40e1-94bc-4f22d40d0f1a"
      },
      "outputs": [
        {
          "name": "stdout",
          "output_type": "stream",
          "text": [
            "\n",
            "WARNING: apt does not have a stable CLI interface. Use with caution in scripts.\n",
            "\n",
            "Successfully installed haiti-hash-1.2.2\n",
            "Parsing documentation for haiti-hash-1.2.2\n",
            "Done installing documentation for haiti-hash after 0 seconds\n",
            "1 gem installed\n"
          ]
        }
      ],
      "source": [
        "!sudo apt install rubygems > /dev/null\n",
        "!gem install haiti-hash\n",
        "!haiti --version"
      ]
    },
    {
      "cell_type": "code",
      "execution_count": null,
      "metadata": {
        "id": "4ZeKvQDm7lEB"
      },
      "outputs": [],
      "source": [
        "#Haiti std mode\n",
        "!haiti \"741ebf5166b9ece4cca88a3868c44871e8370707cf19af3ceaa4a6fba006f224ae03f39153492853\""
      ]
    },
    {
      "cell_type": "code",
      "execution_count": null,
      "metadata": {
        "id": "-AAET0HINxk7"
      },
      "outputs": [],
      "source": [
        "#Haiti Extended\n",
        "!haiti -e \"741ebf5166b9ece4cca88a3868c44871e8370707cf19af3ceaa4a6fba006f224ae03f39153492853\""
      ]
    },
    {
      "cell_type": "markdown",
      "metadata": {
        "id": "mKqLLR_RCvXp"
      },
      "source": [
        "## **-> Crack the Hash**"
      ]
    },
    {
      "cell_type": "markdown",
      "metadata": {
        "id": "6JXDb8Ek8wxG"
      },
      "source": [
        "### **------------> Using John the Ripper**"
      ]
    },
    {
      "cell_type": "markdown",
      "metadata": {
        "id": "62qVh9yGMvSo"
      },
      "source": [
        "#### Identify Format"
      ]
    },
    {
      "cell_type": "code",
      "execution_count": null,
      "metadata": {
        "colab": {
          "base_uri": "https://localhost:8080/"
        },
        "id": "bSjgPFbCMxh5",
        "outputId": "467d6c78-3cd7-45fe-f083-dad5fa92c461"
      },
      "outputs": [
        {
          "name": "stdout",
          "output_type": "stream",
          "text": [
            "Unknown option: \"--list=formats\"\n"
          ]
        }
      ],
      "source": [
        "!john --list=formats | grep -iF MD4"
      ]
    },
    {
      "cell_type": "markdown",
      "metadata": {
        "id": "p2UjFZlUMhtx"
      },
      "source": [
        "#### Run JTR"
      ]
    },
    {
      "cell_type": "code",
      "execution_count": null,
      "metadata": {
        "id": "dFKGmAupPW0f"
      },
      "outputs": [],
      "source": [
        "#To change the hash\n",
        "#!echo \" \" > /root/remote/hash.txt && cat /root/remote/hash.txt"
      ]
    },
    {
      "cell_type": "code",
      "execution_count": null,
      "metadata": {
        "colab": {
          "base_uri": "https://localhost:8080/"
        },
        "id": "gXOo2izmM9rY",
        "outputId": "7b98620c-ce75-4e11-e92a-e5a05786fe86"
      },
      "outputs": [
        {
          "name": "stdout",
          "output_type": "stream",
          "text": [
            "Unknown ciphertext format name requested\n"
          ]
        }
      ],
      "source": [
        "!john --format=raw-md4 --wordlist=/root/remote/rockyou.txt /root/remote/hash.txt"
      ]
    },
    {
      "cell_type": "code",
      "execution_count": null,
      "metadata": {
        "colab": {
          "background_save": true,
          "base_uri": "https://localhost:8080/"
        },
        "id": "klmVp_1lLHvg",
        "outputId": "c1207bc5-cd03-44c3-9c40-56141b3d12b5"
      },
      "outputs": [
        {
          "name": "stdout",
          "output_type": "stream",
          "text": [
            "Loaded 1 password hash (descrypt, traditional crypt(3) [DES 128/128 SSE2-16])\n",
            "Press 'q' or Ctrl-C to abort, almost any other key for status\n",
            "Warning: MaxLen = 13 is too large for the current hash type, reduced to 8\n",
            "Session aborted\n"
          ]
        }
      ],
      "source": [
        "!echo \"iggoMlbNoW1Cc\" > hash\n",
        "!john --format=descrypt hash"
      ]
    },
    {
      "cell_type": "markdown",
      "metadata": {
        "id": "tKKKMGGW8_oN"
      },
      "source": [
        "#### show cracked hashes\n",
        "\n",
        "\n"
      ]
    },
    {
      "cell_type": "code",
      "execution_count": null,
      "metadata": {
        "id": "DwHKrBA_qDcf"
      },
      "outputs": [],
      "source": [
        "!john --format=[] --show /root/remote/hash.txt  "
      ]
    },
    {
      "cell_type": "code",
      "execution_count": null,
      "metadata": {
        "id": "xeP3FvPnrUbO"
      },
      "outputs": [],
      "source": [
        "!ls /root/.john/"
      ]
    },
    {
      "cell_type": "code",
      "execution_count": null,
      "metadata": {
        "id": "3-zqIG-Prbfg"
      },
      "outputs": [],
      "source": [
        "!cat /root/.john/john.pot"
      ]
    },
    {
      "cell_type": "code",
      "execution_count": null,
      "metadata": {
        "id": "P-g3mn-5Pk3U"
      },
      "outputs": [],
      "source": [
        "!john --status"
      ]
    },
    {
      "cell_type": "markdown",
      "metadata": {
        "id": "5jhyomm89SDW"
      },
      "source": [
        "#### Adding ssh2john"
      ]
    },
    {
      "cell_type": "code",
      "execution_count": null,
      "metadata": {
        "id": "aflsSlzn_Kpc"
      },
      "outputs": [],
      "source": [
        "!cd /root/remote/ && wget -q https://github.com/openwall/john/blob/bleeding-jumbo/run/ssh2john.py\n",
        "!ls /root/remote/"
      ]
    },
    {
      "cell_type": "code",
      "execution_count": null,
      "metadata": {
        "id": "N7rulSD0_ihS"
      },
      "outputs": [],
      "source": [
        "!whereis python3"
      ]
    },
    {
      "cell_type": "code",
      "execution_count": null,
      "metadata": {
        "id": "-yo1lrKW_pgr"
      },
      "outputs": [],
      "source": [
        "/root/remote/ssh2john.py /root/remote/id_rsa > id_rsa.john"
      ]
    },
    {
      "cell_type": "code",
      "execution_count": null,
      "metadata": {
        "id": "acA0Hvo-96WG"
      },
      "outputs": [],
      "source": [
        "!john --list=format | grep "
      ]
    },
    {
      "cell_type": "code",
      "execution_count": null,
      "metadata": {
        "id": "RrDTIZr89nsV"
      },
      "outputs": [],
      "source": [
        "!john --format=<> --wordlist=/root/remote/rockyou.txt id_rsa.john --force"
      ]
    },
    {
      "cell_type": "code",
      "execution_count": null,
      "metadata": {
        "id": "sO7k61wbW5Aq"
      },
      "outputs": [],
      "source": [
        "!hashcat -m 0 /root/crackthathash/hash.txt /root/.sth/rockyou.txt --force --show"
      ]
    },
    {
      "cell_type": "code",
      "execution_count": null,
      "metadata": {
        "id": "-O1Y3rd8W48m"
      },
      "outputs": [],
      "source": [
        "!hashcat --help | grep -i md4"
      ]
    },
    {
      "cell_type": "code",
      "execution_count": null,
      "metadata": {
        "id": "fqlMi0xqbCXR"
      },
      "outputs": [],
      "source": [
        "!echo \"$2y$12$Dwt1BZj6pcyc3Dy1FWZ5ieeUznr71EeNkJkUlypTsgbX1H68wsRom\" > /root/crackthathash/hash.txt"
      ]
    },
    {
      "cell_type": "code",
      "execution_count": null,
      "metadata": {
        "id": "qDWNi4G6W4-o"
      },
      "outputs": [],
      "source": [
        "!hashcat -m 3200 /root/crackthathash/hash.txt /root/.sth/rockyou.txt --force"
      ]
    },
    {
      "cell_type": "markdown",
      "metadata": {
        "id": "F91jsErXW6Qd"
      },
      "source": [
        "### **------------> Using Hashcat**"
      ]
    },
    {
      "cell_type": "markdown",
      "metadata": {
        "id": "aRt1wORAOgix"
      },
      "source": [
        "#### Identify Format"
      ]
    },
    {
      "cell_type": "code",
      "execution_count": null,
      "metadata": {
        "colab": {
          "base_uri": "https://localhost:8080/"
        },
        "id": "rxKQ_0xwPKDW",
        "outputId": "6656f019-8e49-488a-f32f-b56ef92f85d3"
      },
      "outputs": [
        {
          "name": "stdout",
          "output_type": "stream",
          "text": [
            "    900 | MD4                                                 | Raw Hash\n"
          ]
        }
      ],
      "source": [
        "!hashcat --help | grep MD4"
      ]
    },
    {
      "cell_type": "markdown",
      "metadata": {
        "id": "4K40Z-o6OicI"
      },
      "source": [
        "#### Run Hashcat"
      ]
    },
    {
      "cell_type": "code",
      "execution_count": null,
      "metadata": {
        "colab": {
          "base_uri": "https://localhost:8080/"
        },
        "id": "n3dRhQVbXi7j",
        "outputId": "f578ab01-3751-4c54-e066-183f343b6bf6"
      },
      "outputs": [
        {
          "name": "stdout",
          "output_type": "stream",
          "text": [
            "/bin/bash: /root/remote/hash.txt: No such file or directory\n"
          ]
        }
      ],
      "source": [
        "#To change the hash\n",
        "#!echo \"\" > /root/remote/hash.txt && cat /root/remote/hash.txt"
      ]
    },
    {
      "cell_type": "code",
      "execution_count": null,
      "metadata": {
        "id": "h8-Fo8V5W4zE"
      },
      "outputs": [],
      "source": [
        "#crack using hashcatt\n",
        "!hashcat -a 0 -m [] /root/remote/hash.txt /root/remote/rockyou.txt "
      ]
    },
    {
      "cell_type": "code",
      "execution_count": null,
      "metadata": {
        "colab": {
          "base_uri": "https://localhost:8080/"
        },
        "id": "8rvfji0fkOJW",
        "outputId": "b24badf5-679d-4d41-cf11-18e8c0e8c8e3"
      },
      "outputs": [
        {
          "name": "stdout",
          "output_type": "stream",
          "text": [
            "hashcat (v6.2.4-82-g3f4dca13f) starting\n",
            "\n",
            "\u001b[31mcuInit(): no CUDA-capable device is detected\u001b[0m\n",
            "\n",
            "\u001b[31mclGetPlatformIDs(): CL_PLATFORM_NOT_FOUND_KHR\u001b[0m\n",
            "\n",
            "\u001b[31mATTENTION! No OpenCL-compatible, HIP-compatible or CUDA-compatible platform found.\u001b[0m\n",
            "\n",
            "\u001b[33mYou are probably missing the OpenCL, CUDA or HIP runtime installation.\u001b[0m\n",
            "\u001b[33m\u001b[0m\n",
            "\u001b[33m* AMD GPUs on Linux require this driver:\u001b[0m\n",
            "\u001b[33m  \"AMD ROCm\" (4.3 or later)\u001b[0m\n",
            "\u001b[33m* Intel CPUs require this runtime:\u001b[0m\n",
            "\u001b[33m  \"OpenCL Runtime for Intel Core and Intel Xeon Processors\" (16.1.1 or later)\u001b[0m\n",
            "\u001b[33m* NVIDIA GPUs require this runtime and/or driver (both):\u001b[0m\n",
            "\u001b[33m  \"NVIDIA Driver\" (440.64 or later)\u001b[0m\n",
            "\u001b[33m  \"CUDA Toolkit\" (9.0 or later)\u001b[0m\n",
            "\u001b[33m\u001b[0m\n",
            "Started: Sun Oct  3 23:41:48 2021\n",
            "Stopped: Sun Oct  3 23:41:49 2021\n"
          ]
        }
      ],
      "source": [
        "#crack using hashcatt\n",
        "!hashcat -a 0 -m 900 /root/remote/hash.txt /root/remote/rockyou.txt "
      ]
    },
    {
      "cell_type": "code",
      "execution_count": null,
      "metadata": {
        "id": "aS6kwrGK_WHz"
      },
      "outputs": [],
      "source": [
        "#Show output\n",
        "!hashcat -a 0 -m 0 /root/remote/hash.txt /root/remote/rockyou.txt --show"
      ]
    }
  ],
  "metadata": {
    "accelerator": "TPU",
    "colab": {
      "collapsed_sections": [],
      "name": "Colab for hashing on gCloud.ipynb",
      "provenance": [],
      "toc_visible": true
    },
    "kernelspec": {
      "display_name": "Python 3",
      "language": "python",
      "name": "python3"
    },
    "language_info": {
      "codemirror_mode": {
        "name": "ipython",
        "version": 3
      },
      "file_extension": ".py",
      "mimetype": "text/x-python",
      "name": "python",
      "nbconvert_exporter": "python",
      "pygments_lexer": "ipython3",
      "version": "3.9.2"
    }
  },
  "nbformat": 4,
  "nbformat_minor": 0
}